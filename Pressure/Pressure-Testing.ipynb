{
 "cells": [
  {
   "cell_type": "code",
   "execution_count": 17,
   "metadata": {},
   "outputs": [],
   "source": [
    "import pandas # For DataFrames\n",
    "import numpy # For linear regression\n",
    "import matplotlib.pyplot # For plotting"
   ]
  },
  {
   "cell_type": "code",
   "execution_count": 2,
   "metadata": {},
   "outputs": [
    {
     "name": "stdout",
     "output_type": "stream",
     "text": [
      "Analysis\r\n",
      "EQUIP_5JUL2018_134909.txt\r\n",
      ".git\r\n",
      ".gitignore\r\n",
      ".gitignore~\r\n",
      ".ipynb_checkpoints\r\n",
      "LICENSE.md\r\n",
      "LICENSE.md~\r\n",
      "Pressure\r\n",
      "README.md\r\n",
      "README.md~\r\n",
      "Resources\r\n"
     ]
    }
   ],
   "source": [
    "!ls -A1h .."
   ]
  },
  {
   "cell_type": "markdown",
   "metadata": {},
   "source": [
    "## Read data"
   ]
  },
  {
   "cell_type": "code",
   "execution_count": 3,
   "metadata": {},
   "outputs": [],
   "source": [
    "testfile = '../EQUIP_5JUL2018_134909.txt'  # May not exist on your system"
   ]
  },
  {
   "cell_type": "markdown",
   "metadata": {},
   "source": [
    "First, we'll use regular Python to figure out which portion of the raw data file we want to turn into a `pandas` `DataFrame`.  Python can read in arbitrary files with its built-in `open()` fuction, like so:"
   ]
  },
  {
   "cell_type": "code",
   "execution_count": 7,
   "metadata": {},
   "outputs": [],
   "source": [
    "## This works, but don't run it because there's a better one below ##\n",
    "dataIn = open(testfile, 'r')"
   ]
  },
  {
   "cell_type": "markdown",
   "metadata": {},
   "source": [
    "This assigns the read-in data to the variable `dataIn`.  Python provides a special, better construction for this, though:"
   ]
  },
  {
   "cell_type": "code",
   "execution_count": null,
   "metadata": {},
   "outputs": [],
   "source": [
    "## Don't run this, it's just sample code ##\n",
    "with open('filename', 'r') as dataIn:\n",
    "    # Code to process lines of dataIn"
   ]
  },
  {
   "cell_type": "markdown",
   "metadata": {},
   "source": [
    "Using `with` in this manner ensures that the file is closed when it's no longer needed, even if there's an error, which prevents runaway memory usage and file corruption problems.\n",
    "\n",
    "We'll use this to find the line that divides the preamble from the data lines:"
   ]
  },
  {
   "cell_type": "code",
   "execution_count": null,
   "metadata": {},
   "outputs": [],
   "source": [
    "with open('filename', 'r') as dataIn:\n",
    "    for i,line in enumerate(dataIn):\n",
    "        if( \"ST Enabled, scalar data plus reset counters\" in str(line) ):\n",
    "            indicatorLine = i\n",
    "            break"
   ]
  },
  {
   "cell_type": "markdown",
   "metadata": {},
   "source": [
    "The above code reads in `dataIn` line-by-line, using the `enumerate()` function to include line numbers along with the lines.  When we hit the line `ST Enabled, scalar data plus reset counters`, we know we're about to start the real cosmic ray data lines, so we record this line number as `indicatorLine`.  We then `break` because we don't need to read in any more at the moment."
   ]
  },
  {
   "cell_type": "markdown",
   "metadata": {},
   "source": [
    "Now we know where to start reading data."
   ]
  },
  {
   "cell_type": "markdown",
   "metadata": {},
   "source": [
    "## Parse data files"
   ]
  },
  {
   "cell_type": "code",
   "execution_count": 14,
   "metadata": {},
   "outputs": [],
   "source": [
    "# pressureCountData[] will be a list of data points, with each data point its own [x,y] list\n",
    "pressureCountData = []\n",
    "# stLineFound is our \"flag\" that we've found an ST line and should look for a DS line next\n",
    "stLineFound = False\n",
    "with open(testfile, 'r') as dataIn:\n",
    "    ## Removed: In Python3, text file objects don't have a next() method like in Python2\n",
    "    ## Also, this isn't really necessary\n",
    "    # This will skip a number of lines equal to the length of the preamble, as found above,\n",
    "    # if in fact it was found above and indicatorLine defined:\n",
    "    #if(indicatorLine):\n",
    "    #    for i in range(indicatorLine):\n",
    "    #        dataIn.next()\n",
    "    \n",
    "    # Now the regular line-by-line data reading\n",
    "    for line in dataIn:\n",
    "        if( str(line).startswith(\"ST\") and len(line.split()) > 1):\n",
    "            stLineFound = True\n",
    "            # Parse line for data\n",
    "            barPressure = line.split()[1]\n",
    "            # Don't record barPressure until we know if the next line is DS\n",
    "        elif( str(line).startswith(\"DS\") and stLineFound ):\n",
    "            # This is a DS line and it follows an ST line\n",
    "            # Parse line for data\n",
    "            coincCount = line.split()[4]\n",
    "            # Save data point as a list to the data list:\n",
    "            if (barPressure and coincCount):\n",
    "                pressureCountData.append([barPressure,coincCount])\n",
    "            # Reset the flag for the next ST line:\n",
    "            stLineFound = False\n",
    "        else:\n",
    "            # This is not a DS line that follows an ST line.  Reset the flag for the next ST line:\n",
    "            stLineFound = False"
   ]
  },
  {
   "cell_type": "code",
   "execution_count": null,
   "metadata": {},
   "outputs": [],
   "source": [
    "print (str(pressureCountData))"
   ]
  },
  {
   "cell_type": "markdown",
   "metadata": {},
   "source": [
    "## Linear regression"
   ]
  },
  {
   "cell_type": "code",
   "execution_count": 12,
   "metadata": {},
   "outputs": [],
   "source": [
    "x_data = [1,2,3,4,5,6,7,8,9]\n",
    "y_data = [15,17,23,26,29,31,32,38,42]"
   ]
  },
  {
   "cell_type": "markdown",
   "metadata": {},
   "source": [
    "`numpy.polyfit()` takes the x and y data list (in that order) along with a polynomial degree, which for a linear fit is \"1\", and returns a list whose elements are the slope and intercept of the linear fit"
   ]
  },
  {
   "cell_type": "code",
   "execution_count": null,
   "metadata": {},
   "outputs": [],
   "source": [
    "fitLine = numpy.polyfit(x_data,y_data,1)\n",
    "# i.e., fitLine =[m,b]"
   ]
  },
  {
   "cell_type": "code",
   "execution_count": 7,
   "metadata": {},
   "outputs": [
    {
     "name": "stdout",
     "output_type": "stream",
     "text": [
      "[ 3.23333333 11.94444444]\n"
     ]
    }
   ],
   "source": [
    "print (fitLine)"
   ]
  },
  {
   "cell_type": "markdown",
   "metadata": {},
   "source": [
    "Now we create a fit function out of those line parameters using `numpy`'s `fit1d()` function:"
   ]
  },
  {
   "cell_type": "code",
   "execution_count": 9,
   "metadata": {},
   "outputs": [],
   "source": [
    "fitFunction = numpy.poly1d(fitLine)"
   ]
  },
  {
   "cell_type": "code",
   "execution_count": 10,
   "metadata": {},
   "outputs": [
    {
     "name": "stdout",
     "output_type": "stream",
     "text": [
      " \n",
      "3.233 x + 11.94\n"
     ]
    }
   ],
   "source": [
    "print (fitFunction)"
   ]
  },
  {
   "cell_type": "markdown",
   "metadata": {},
   "source": [
    "We'll use `matplotlib.pyplot.plot()` to plot the data as well as the fit.  In the argument list, `x_data,y_data, 'yo'` plots the original data points in the `x_data` and `y_data` lists as yellow (`y`) circles (`o`), while `x_data,fitFunction(x_data), '--k'` plots the fit line function using `x_data` as a basis, using a dashed line (`--`) that's black (`k`).\n",
    "\n",
    "More info on [marker and line formatting](https://www.mathworks.com/help/matlab/ref/plot.html) (it's just like MATLAB if you're familiar with that)"
   ]
  },
  {
   "cell_type": "code",
   "execution_count": 16,
   "metadata": {},
   "outputs": [
    {
     "data": {
      "text/plain": [
       "[<matplotlib.lines.Line2D at 0x7fd29ede72b0>,\n",
       " <matplotlib.lines.Line2D at 0x7fd29ede7550>]"
      ]
     },
     "execution_count": 16,
     "metadata": {},
     "output_type": "execute_result"
    },
    {
     "data": {
      "image/png": "[encoded data removed]",
      "text/plain": [
       "<matplotlib.figure.Figure at 0x7fd29ee70c88>"
      ]
     },
     "metadata": {},
     "output_type": "display_data"
    }
   ],
   "source": [
    "matplotlib.pyplot.plot(x_data,y_data, 'yo', x_data,fitFunction(x_data), '--k')"
   ]
  },
  {
   "cell_type": "code",
   "execution_count": null,
   "metadata": {},
   "outputs": [],
   "source": []
  }
 ],
 "metadata": {
  "kernelspec": {
   "display_name": "Python 3",
   "language": "python",
   "name": "python3"
  },
  "language_info": {
   "codemirror_mode": {
    "name": "ipython",
    "version": 3
   },
   "file_extension": ".py",
   "mimetype": "text/x-python",
   "name": "python",
   "nbconvert_exporter": "python",
   "pygments_lexer": "ipython3",
   "version": "3.6.4"
  }
 },
 "nbformat": 4,
 "nbformat_minor": 2
}
