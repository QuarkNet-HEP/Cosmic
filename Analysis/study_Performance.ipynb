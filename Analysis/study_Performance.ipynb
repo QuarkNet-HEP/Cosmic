{
 "cells": [
  {
   "cell_type": "code",
   "execution_count": 1,
   "metadata": {},
   "outputs": [],
   "source": [
    "import parsl\n",
    "from parsl.config import Config\n",
    "from parsl.executors.threads import ThreadPoolExecutor\n",
    "from parsl.app.app import bash_app,python_app\n",
    "from parsl import File"
   ]
  },
  {
   "cell_type": "code",
   "execution_count": 2,
   "metadata": {},
   "outputs": [
    {
     "data": {
      "text/plain": [
       "<parsl.dataflow.dflow.DataFlowKernel at 0x7f5eecead630>"
      ]
     },
     "execution_count": 2,
     "metadata": {},
     "output_type": "execute_result"
    }
   ],
   "source": [
    "config = Config(\n",
    "    executors=[ThreadPoolExecutor()],\n",
    "    lazy_errors=True\n",
    ")\n",
    "parsl.load(config)"
   ]
  },
  {
   "cell_type": "code",
   "execution_count": 12,
   "metadata": {},
   "outputs": [],
   "source": [
    "## Define Apps ##\n",
    "@bash_app\n",
    "def Combine(inputs=[], outputs=[], stdout='stdout.txt', stderr='stderr.txt'):\n",
    "    return 'perl ./perl/Combine.pl ' + ' '.join(inputs) + ' ' + str(outputs[0])\n",
    "\n",
    "@bash_app\n",
    "def SingleChannel(inputs=[], outputs=[], channel='1'):\n",
    "    #return 'perl ./perl/SingleChannel.pl %s %s %s' % (inputs[0], outputs[0], channel)\n",
    "    #return 'perl ./perl/SingleChannel.pl %s \"'.format(inputs[0]) + ' '.join(outputs) + '\" \"' + ' '.join(channel) + '\"'\n",
    "    return 'perl ./perl/SingleChannel.pl %s %s %s' % (inputs[0], outputs[0], channel)\n",
    "\n",
    "@bash_app\n",
    "def Frequency(column, binType, binValue, inputs=[], outputs=[]):\n",
    "    return 'perl ./perl/Frequency.pl %s %s %s %s %s' % (inputs[0], outputs[0], column, binType, binValue)"
   ]
  },
  {
   "cell_type": "code",
   "execution_count": 13,
   "metadata": {},
   "outputs": [],
   "source": [
    "## Analysis Parameters ##\n",
    "\n",
    "# For Combine:\n",
    "thresholdAll = ['files/6119.2016.0104.1.thresh', 'files/6203.2016.0104.1.thresh']\n",
    "combineOut = ['outputs/combineOut_Performance']\n",
    "\n",
    "# For SingleChannel:\n",
    "singlechannel_channel = '1'\n",
    "singleChannelOut = 'outputs/singleChannelOut_Performance'\n",
    "\n",
    "# For Frequency:\n",
    "freq_col = '5'\n",
    "freq_binType = '1'\n",
    "freq_binValue = '2'\n",
    "freqOut = ['outputs/freqOut_Performance']"
   ]
  },
  {
   "cell_type": "code",
   "execution_count": 14,
   "metadata": {},
   "outputs": [
    {
     "name": "stdout",
     "output_type": "stream",
     "text": [
      "Call completed with exit code: outputs/freqOut_Performance\n"
     ]
    }
   ],
   "source": [
    "## Workflow ##\n",
    "\n",
    "# 1) Combine() takes the input threshold files and combines\n",
    "#    them into a single file with name given by `combineOut`\n",
    "Combine_future = Combine(inputs=thresholdAll, outputs=combineOut)\n",
    "\n",
    "# 2) SingleChannel() takes the combined data file and divides it into channels\n",
    "SingleChannel_future = SingleChannel(inputs=Combine_future.outputs, outputs=[singleChannelOut], \n",
    "                                     channel=singlechannel_channel)\n",
    "\n",
    "# 3) We want to apply the Frequency data transformation to (potentially) multiple files output from\n",
    "#    SingleChannel\n",
    "#    We define an array to hold the futures of each transformation, then fill it\n",
    "Freq_futures = []\n",
    "for i in range(len(SingleChannel_future.outputs)):\n",
    "    Freq_futures.append(Frequency(column=freq_col, binType=freq_binType, binValue=freq_binValue,\n",
    "                        inputs=[SingleChannel_future.outputs[i]], outputs=freqOut))\n",
    "\n",
    "# Now define proper outputs from the futures\n",
    "Frequency_outputs = [i.outputs[0] for i in Freq_futures]\n",
    "\n",
    "# Wait for the final result before exiting.\n",
    "#x = [FreqOut.result() for FreqOut in Frequency_outputs]\n",
    "\n",
    "for freqOut in Frequency_outputs:\n",
    "    x = freqOut.result()\n",
    "    print(\"Call completed with exit code:\", x)\n",
    "\n",
    "#print(\"Call to EventSearch completed with exit code:\", str(x))"
   ]
  },
  {
   "cell_type": "code",
   "execution_count": null,
   "metadata": {},
   "outputs": [],
   "source": []
  }
 ],
 "metadata": {
  "kernelspec": {
   "display_name": "Python 3",
   "language": "python",
   "name": "python3"
  },
  "language_info": {
   "codemirror_mode": {
    "name": "ipython",
    "version": 3
   },
   "file_extension": ".py",
   "mimetype": "text/x-python",
   "name": "python",
   "nbconvert_exporter": "python",
   "pygments_lexer": "ipython3",
   "version": "3.6.4"
  }
 },
 "nbformat": 4,
 "nbformat_minor": 2
}
