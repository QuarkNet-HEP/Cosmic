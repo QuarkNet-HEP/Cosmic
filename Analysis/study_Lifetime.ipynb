{
 "cells": [
  {
   "cell_type": "code",
   "execution_count": 1,
   "metadata": {},
   "outputs": [],
   "source": [
    "import parsl\n",
    "from parsl.config import Config\n",
    "from parsl.executors.threads import ThreadPoolExecutor\n",
    "from parsl.app.app import bash_app,python_app\n",
    "from parsl import File"
   ]
  },
  {
   "cell_type": "code",
   "execution_count": 2,
   "metadata": {},
   "outputs": [
    {
     "data": {
      "text/plain": [
       "<parsl.dataflow.dflow.DataFlowKernel at 0x7f9587a615c0>"
      ]
     },
     "execution_count": 2,
     "metadata": {},
     "output_type": "execute_result"
    }
   ],
   "source": [
    "config = Config(\n",
    "    executors=[ThreadPoolExecutor()],\n",
    "    lazy_errors=True\n",
    ")\n",
    "parsl.load(config)"
   ]
  },
  {
   "cell_type": "code",
   "execution_count": 3,
   "metadata": {},
   "outputs": [],
   "source": [
    "## Define Apps ##\n",
    "@bash_app\n",
    "def WireDelay(threshIn='', outputs=[], geoDir='', daqId='', fw='', stdout='stdout.txt', stderr='stderr.txt'):\n",
    "    return 'perl ./perl/WireDelay.pl %s %s %s %s %s' %(threshIn, outputs[0], geoDir, daqId, fw)\n",
    "\n",
    "@bash_app\n",
    "def Combine(inputs=[], outputs=[], stdout='stdout.txt', stderr='stderr.txt'):\n",
    "    return 'perl ./perl/Combine.pl ' + ' '.join(inputs) + ' ' + str(outputs[0])\n",
    "\n",
    "@bash_app\n",
    "def Sort(inputs=[], outputs=[], key1='1', key2='1', stdout='stdout.txt', stderr='stderr.txt'):\n",
    "    return 'perl ./perl/Sort.pl %s %s %s %s' %(inputs[0], outputs[0], key1, key2)\n",
    "\n",
    "@bash_app\n",
    "def Lifetime(inputs=[], outputs=[], gateWidth='1e-5', energyCheck='0', coincidence='1', geoDir='geo/'):\n",
    "    return 'perl ./perl/SingleChannel.pl %s %s %s %s %s %s' % (inputs[0], outputs[0], gateWidth, \n",
    "                                                               energyCheck, coincidence, geoDir)\n",
    "\n",
    "@bash_app\n",
    "def Frequency(column, binType, binValue, inputs=[], outputs=[]):\n",
    "    return 'perl ./perl/Frequency.pl %s %s %s %s %s' % (inputs[0], outputs[0], column, binType, binValue)"
   ]
  },
  {
   "cell_type": "code",
   "execution_count": 4,
   "metadata": {},
   "outputs": [],
   "source": [
    "## Analysis Parameters ##\n",
    "# Define what are typically the command-line arguments\n",
    "\n",
    "# For WireDelay:\n",
    "thresholdAll = ('files/6119.2016.0104.1.thresh', 'files/6203.2016.0104.1.thresh')\n",
    "wireDelayData = ('outputs/6119.2016.0104.1.wd_Lifetime', 'outputs/6203.2016.0104.1.wd_Lifetime')\n",
    "geoDir = './geo' # Also for Lifetime\n",
    "detectors = ('6119', '6203')\n",
    "firmwares = ('1.12', '1.12')\n",
    "\n",
    "# For Combine:\n",
    "combineOut = 'outputs/combineOut_Lifetime'\n",
    "\n",
    "# For Sort:\n",
    "sort_sortKey1 = '2'\n",
    "sort_sortKey2 = '3'\n",
    "sortOut = 'outputs/sortOut_Lifetime'\n",
    "\n",
    "# For Lifetime:\n",
    "lifetime_gatewidth = '1e-5'\n",
    "lifetime_energyCheck = '0'\n",
    "lifetime_coincidence = '1'\n",
    "lifetimeOut = 'outputs/lifetimeOut_Lifetime'\n",
    "\n",
    "# For Frequency:\n",
    "freq_col = '3'\n",
    "freq_binType = '0'\n",
    "freq_binValue = '40'\n",
    "freqOut = 'outputs/freqOut_Lifetime'"
   ]
  },
  {
   "cell_type": "code",
   "execution_count": 5,
   "metadata": {},
   "outputs": [
    {
     "name": "stdout",
     "output_type": "stream",
     "text": [
      "Call to EventSearch completed with exit code: 0\n"
     ]
    }
   ],
   "source": [
    "## Workflow ##\n",
    "# 1) WireDelay() takes input Threshold (.thresh) files and converts\n",
    "#    each to a Wire Delay (.wd) file:\n",
    "WireDelay_futures = []\n",
    "for i in range(len(thresholdAll)):\n",
    "        WireDelay_futures.append(WireDelay(threshIn=thresholdAll[i], outputs=[wireDelayData[i]], \n",
    "                                           geoDir=geoDir, daqId=detectors[i], fw=firmwares[i]))\n",
    "\n",
    "# WireDelay_futures is a list of futures.\n",
    "# Each future has an outputs list with one output.\n",
    "WireDelay_outputs = [i.outputs[0] for i in WireDelay_futures]\n",
    "\n",
    "# 2) Combine() takes the WireDelay files output by WireDelay() and combines\n",
    "#    them into a single file with name given by --combineOut\n",
    "Combine_future = Combine(inputs=WireDelay_outputs, outputs=[combineOut])\n",
    "\n",
    "# 3) Sort() sorts the --combineOut file, producing a new file with name given\n",
    "#    by --sortOut\n",
    "Sort_future = Sort(inputs=Combine_future.outputs, outputs=[sortOut], key1=sort_sortKey1, key2=sort_sortKey2)\n",
    "\n",
    "# 4) Lifetime() does Lifetime things\n",
    "Lifetime_future = Lifetime(inputs=Sort_future.outputs, outputs=[lifetimeOut], gateWidth=lifetime_gatewidth, \n",
    "                           energyCheck=lifetime_energyCheck, coincidence=lifetime_coincidence, geoDir=geoDir)\n",
    "\n",
    "# 5) Apply the Frequency data transformation to the output of Lifetime\n",
    "Frequency_future = Frequency(column=freq_col, binType=freq_binType, binValue=freq_binValue, \n",
    "                             inputs=Lifetime_future.outputs, outputs=[freqOut])\n",
    "\n",
    "# Wait for the final result before exiting.\n",
    "x = Frequency_future.result()\n",
    "\n",
    "print(\"Call to EventSearch completed with exit code:\", x)    "
   ]
  },
  {
   "cell_type": "code",
   "execution_count": 6,
   "metadata": {},
   "outputs": [
    {
     "name": "stdout",
     "output_type": "stream",
     "text": [
      "# channelNumb JulianDay PossibleDecayLength(MicroSeconds) StartDecay EndDecay FirstSignalTimeOverThreshold(nanoseconds) SecondSignalTimeoverThreshold(nanoseconds) PossibleDecayNumber\r\n",
      "6203.4\t2457392\t3.99125\t0.2461358163203096\t0.2461358163665046\t22.50\t35.00\t1\r\n",
      "6203.1\t2457392\t3.99125\t0.2461358163203386\t0.2461358163665336\t38.75\t25.00\t1\r\n",
      "6203.4\t2457392\t3.96500\t0.2461358163206134\t0.2461358163665046\t22.50\t35.00\t1\r\n",
      "6203.2\t2457392\t3.99125\t0.2461358163212095\t0.2461358163674045\t62.50\t27.50\t1\r\n",
      "6203.4\t2457392\t0.58125\t0.2466854231135822\t0.2466854231203096\t26.25\t32.50\t1\r\n",
      "6203.1\t2457392\t0.58250\t0.2466854231136401\t0.2466854231203820\t36.25\t28.75\t1\r\n",
      "6203.4\t2457392\t0.55125\t0.2466854231139294\t0.2466854231203096\t20.00\t32.50\t1\r\n",
      "6203.2\t2457392\t0.58000\t0.2466854231144821\t0.2466854231211950\t40.00\t62.50\t1\r\n",
      "6203.2\t2457392\t0.53875\t0.2466854231149595\t0.2466854231211950\t26.25\t62.50\t1\r\n"
     ]
    }
   ],
   "source": [
    "!head -10 outputs/lifetimeOut_Lifetime"
   ]
  },
  {
   "cell_type": "code",
   "execution_count": 7,
   "metadata": {},
   "outputs": [
    {
     "name": "stdout",
     "output_type": "stream",
     "text": [
      "0.420896\t25\t3\r\n",
      "0.662709\t13\t3\r\n",
      "0.904522\t2\t3\r\n",
      "1.146335\t5\t3\r\n",
      "1.388147\t14\t3\r\n",
      "1.629960\t13\t3\r\n",
      "1.871773\t8\t3\r\n",
      "2.113586\t7\t3\r\n",
      "2.355398\t6\t3\r\n",
      "2.597211\t2\t3\r\n"
     ]
    }
   ],
   "source": [
    "!head -10 outputs/freqOut_Lifetime"
   ]
  },
  {
   "cell_type": "code",
   "execution_count": null,
   "metadata": {},
   "outputs": [],
   "source": []
  }
 ],
 "metadata": {
  "kernelspec": {
   "display_name": "Python 3",
   "language": "python",
   "name": "python3"
  },
  "language_info": {
   "codemirror_mode": {
    "name": "ipython",
    "version": 3
   },
   "file_extension": ".py",
   "mimetype": "text/x-python",
   "name": "python",
   "nbconvert_exporter": "python",
   "pygments_lexer": "ipython3",
   "version": "3.6.4"
  }
 },
 "nbformat": 4,
 "nbformat_minor": 2
}
