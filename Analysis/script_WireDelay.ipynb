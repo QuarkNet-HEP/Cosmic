{
 "cells": [
  {
   "cell_type": "markdown",
   "metadata": {},
   "source": [
    "# Wire Delay"
   ]
  },
  {
   "cell_type": "markdown",
   "metadata": {},
   "source": [
    "If you take a look through the e-Lab studies, you'll see that the `WireDelay.pl` script is one of the first data transformations called in most of them.  That's because it's directly related to how the cosmic ray data is originally collected.  "
   ]
  },
  {
   "cell_type": "markdown",
   "metadata": {},
   "source": [
    "Understanding what the WireDelay data transformation does requires understanding the operation and physical configuration of cosmic ray detector itself.  Of course, not all users of the e-Labs' cosmic ray data have access to a CRMD, including (most likely) you, so this is a good illustration of why it's important to communicate information about your equipment and procedures when communicating scientific observations and results to other people.  We'll take that opportunity now."
   ]
  },
  {
   "cell_type": "markdown",
   "metadata": {},
   "source": [
    "## Cosmic Ray Muon Detectors: Counters and Wires"
   ]
  },
  {
   "cell_type": "markdown",
   "metadata": {},
   "source": [
    "Fig 1 is a cartoon of a Cosmic Ray Muon Detector in operation.  A muon has just passed through the four stacked panels of the detector, sending signals from each panel to the Data Acquisition board (DAQ) through the wires that connect them."
   ]
  },
  {
   "cell_type": "markdown",
   "metadata": {},
   "source": [
    "![The CRMD setup](img/DetectorVisual_556x278.png) *Fig 1: A sketch of the CRMD showing signals propagating from the detector panels to the DAQ in response to a muon event*"
   ]
  },
  {
   "cell_type": "markdown",
   "metadata": {},
   "source": [
    "When taking data, we want to know the times when the muon passed through each detector panel.  However, the clock that measures these events is part of the DAQ, and so the DAQ records the time signals *when it receives them*.  The delay between the two is dictated by the wires that connect the panels to the DAQ, because it takes a certain amount of time for the signal to travel from one to the other."
   ]
  },
  {
   "cell_type": "markdown",
   "metadata": {},
   "source": [
    "Fortunately, we can figure out how long this takes, because electrical signals travel at a consistent speed through wire.  By knowing the length of the wire, we can estimate the time delay between the muon event at the detector panels and the clock reading when the DAQ receives the signal.  The `WireDelay` data transformation does just that -- it corrects the muon event times recorded in the input data by subtracting the extra time introduced by the wires."
   ]
  },
  {
   "cell_type": "markdown",
   "metadata": {},
   "source": [
    "## Using WireDelay.pl"
   ]
  },
  {
   "cell_type": "markdown",
   "metadata": {},
   "source": [
    "We can execute the Perl script `WireDelay.pl` by calling the Perl interpreter from the command line along with the additional parameters that the script requires:\n",
    "\n",
    "`$ perl ./perl/WireDelay.pl <threshIn> <outputs> <geoDir> <daqId> <fw>`\n",
    "\n",
    "where the items in angled brackets `<>` are parameters we have to specify.  These are:\n",
    "\n",
    "* `threshIn`:  The name of the Threshold data file we'll use as input\n",
    "* `outputs`: What we want to name the output file that the script will write its results to\n",
    "* `geoDir`: The directory that contains geometry files for the detectors whose data we're processing\n",
    "* `daqId`: The 4-digit ID number of the CRMD DAQ that recorded this data, and\n",
    "* `fw`: The version number of the firmware running on the DAQ\n",
    "\n",
    "For example, we might want \n",
    "\n",
    "* `threshIn` = files/6119.2016.0104.1.thresh\n",
    "* `outputs` = 6119.2016.0104.1.wd\n",
    "* `geoDir` = ./geo\n",
    "* `daqId` = 6119\n",
    "* `fw` = 1.12\n",
    "\n",
    "in which case the command is\n",
    "\n",
    "`$ perl ./perl/WireDelay.pl files/6119.2016.0104.1.thresh 6119.2016.0104.1.wd ./geo 6119 1.12`"
   ]
  },
  {
   "cell_type": "markdown",
   "metadata": {},
   "source": [
    "## Understanding WireDelay.pl"
   ]
  },
  {
   "cell_type": "markdown",
   "metadata": {},
   "source": [
    "The input Threshold data file is `6119.2016.0104.1.thresh` in the example here.  We can use the UNIX shell command `head` to get a quick look at what it looks like before the `WireDelay` data transformation acts on it:"
   ]
  },
  {
   "cell_type": "code",
   "execution_count": 1,
   "metadata": {},
   "outputs": [
    {
     "name": "stdout",
     "output_type": "stream",
     "text": [
      "#$md5\r\n",
      "#md5_hex(0)\r\n",
      "#ID.CHANNEL, Julian Day, RISING EDGE(sec), FALLING EDGE(sec), TIME OVER THRESHOLD (nanosec), RISING EDGE(INT), FALLING EDGE(INT)\r\n",
      "6119.1\t2457392\t0.3721863017828993\t0.3721863017831598\t22.50\t3215689647404250\t3215689647406500\r\n",
      "6119.3\t2457392\t0.3721863017829138\t0.3721863017831598\t21.25\t3215689647404375\t3215689647406500\r\n",
      "6119.2\t2457392\t0.3721885846820747\t0.3721885846822772\t17.50\t3215709371653125\t3215709371654875\r\n",
      "6119.4\t2457392\t0.3721885846820747\t0.3721885846822917\t18.75\t3215709371653125\t3215709371655000\r\n",
      "6119.4\t2457392\t0.3721901866161603\t0.3721901866163773\t18.75\t3215723212363625\t3215723212365500\r\n",
      "6119.1\t2457392\t0.3721901866161748\t0.3721901866164496\t23.75\t3215723212363750\t3215723212366125\r\n",
      "6119.1\t2457392\t0.3721903650327546\t0.3721903650329427\t16.25\t3215724753883000\t3215724753884625\r\n"
     ]
    }
   ],
   "source": [
    "!head -10 files/6119.2016.0104.1.thresh"
   ]
  },
  {
   "cell_type": "markdown",
   "metadata": {},
   "source": [
    "### Applying the data transformation"
   ]
  },
  {
   "cell_type": "markdown",
   "metadata": {},
   "source": [
    "Now we'll run `WireDelay` and see what changes it makes to the data.  The script `WireDelay.pl` is a Perl script designed to be executed from a UNIX shell, not from a Jupyter Notebook.  We can use the \"!\" trick that Jupyter gives us again, though, to call the program:"
   ]
  },
  {
   "cell_type": "code",
   "execution_count": 4,
   "metadata": {},
   "outputs": [],
   "source": [
    "!perl ./perl/WireDelay.pl files/6119.2016.0104.1.thresh outputs/6119.2016.0104.1.wd ./geo 6119 1.12"
   ]
  },
  {
   "cell_type": "markdown",
   "metadata": {},
   "source": [
    "The script has created the output file `outputs/6119.2016.0104.1.wd`, which we can examine the same way we did the input file earlier:"
   ]
  },
  {
   "cell_type": "code",
   "execution_count": 5,
   "metadata": {},
   "outputs": [
    {
     "name": "stdout",
     "output_type": "stream",
     "text": [
      "#USING WIREDELAYS: ID.CHANNEL, Julian Day, RISING EDGE(sec), FALLING EDGE(sec), TIME OVER THRESHOLD (nanosec)\r\n",
      "6119.1\t2457392\t0.3721978758576562\t0.3721978758579167\t22.50\r\n",
      "6119.3\t2457392\t0.3721978758576707\t0.3721978758579167\t21.25\r\n",
      "6119.2\t2457392\t0.3722001587568317\t0.3722001587570342\t17.50\r\n",
      "6119.4\t2457392\t0.3722001587568317\t0.3722001587570486\t18.75\r\n",
      "6119.4\t2457392\t0.3722017606909173\t0.3722017606911343\t18.75\r\n",
      "6119.1\t2457392\t0.3722017606909317\t0.3722017606912065\t23.75\r\n",
      "6119.1\t2457392\t0.3722019391075115\t0.3722019391076997\t16.25\r\n",
      "6119.3\t2457392\t0.3722019391075405\t0.3722019391077576\t18.75\r\n",
      "6119.2\t2457392\t0.3722025586529688\t0.3722025586532147\t21.25\r\n"
     ]
    }
   ],
   "source": [
    "!head -10 outputs/6119.2016.0104.1.wd"
   ]
  },
  {
   "cell_type": "markdown",
   "metadata": {},
   "source": [
    "So, what has `WireDelay.pl` script done to our data?  Look for differences between this file, `6119.2016.0104.1.wd`, and the input file `6119.2016.0104.1.thresh` shown above."
   ]
  },
  {
   "cell_type": "markdown",
   "metadata": {},
   "source": [
    "#### A closer look\n",
    "First, we can see that the data appears to be in the same order.  The counters are recorded in the same order `6119.1, 6119.3, 6119.2, ...` and with the same \"time over threshold\" values `22.50, 21.25, 17.50, ...` in both files.  If you're not convinced, increase the number of lines returned by the `head` command until the pattern is clear.\n",
    "\n",
    "Next, we note that `WireDelay` keeps the Julian day value from the Threshold file, but it drops the raw-integer rising and falling edge values.  Evidently we won't be needing these values for further analysis.\n",
    "\n",
    "Last, we notice the most interesting thing: the rising and falling edge time values have changed!\n",
    "\n",
    "Investigating further, we can see that for each line of data, the output file `6119.2016.0104.1.wd` has values that are exactly `0.0000115740747569` greater than the corresponding value in the input file `6119.2016.0104.1.thresh`.  This time represents the *wire delay*: After a counter registers a hit, it takes a small amount of time for that signal to travel through the connector cable to the DAQ board, where it's recorded as data. The `WireDelay.pl` script adjusts the data for this, helping us make time comparisons between detectors as precisely as possible."
   ]
  },
  {
   "cell_type": "markdown",
   "metadata": {},
   "source": [
    "**Question 1** Why are the corrected times *greater than* the original times?  Should the WireDelay correction *subtract* the extra time the signals spent travelling through the wires?\n",
    "\n",
    "This isn't an exercise, I'm really asking."
   ]
  },
  {
   "cell_type": "markdown",
   "metadata": {},
   "source": [
    "#### Follow the data\n",
    "\n",
    "The obvious next question is, \"Why `0.0000115740747569`?\"  That is, how does `WireDelay.pl` know how much to adjust the rising and falling edge times by?  The answer is in the other input file, `6119.geo`.  We could examine it to see what it contains, but it's more fun to try to guess first."
   ]
  },
  {
   "cell_type": "markdown",
   "metadata": {},
   "source": [
    "### Exercise 1"
   ]
  },
  {
   "cell_type": "markdown",
   "metadata": {},
   "source": [
    "Remember that the Rising Edge and Falling Edge numbers are given in days, not in seconds or nanoseconds.  That is, a value of `0.5000000000000000` represents half a day, or 12 hours (or 720 minutes, etc.).  This isn't the most natural way to think of time when dealing with such fast signals, so it's useful to be able to convert these into something more intuitive, like seconds or nanoseconds.\n",
    "\n",
    "**A)** Write a Python function to convert a time value given in days into nanoseconds.  You may name it whatever you like, but I'll suggest `daysToNanosec()`."
   ]
  },
  {
   "cell_type": "code",
   "execution_count": null,
   "metadata": {},
   "outputs": [],
   "source": [
    "# Write your function here\n",
    "# Hint: If there are 24 hours in a day, what fraction of a day is one hour?\n",
    "# If there are X nanoseconds in a day, what fraction of a day is one nanosecond?\n",
    "# What is X?\n",
    "def daysToNanosec():\n",
    "    ### Instructor's copy:\n",
    "    ### 1 day = (24*60*60) sec = (24*60*60) e9 ns\n",
    "    \n",
    "    \n",
    "    "
   ]
  },
  {
   "cell_type": "markdown",
   "metadata": {},
   "source": [
    "**B)** Use the function you just wrote to convert `0.0000115740747569` days (what `WireDelay.pl` added to our data) into nanoseconds."
   ]
  },
  {
   "cell_type": "code",
   "execution_count": null,
   "metadata": {},
   "outputs": [],
   "source": [
    "# Write your Python code here\n",
    "### Instructor's copy: the answer is 1.00000005899616 seconds, or 1.00000005899616 e9 nanoseconds\n",
    "\n",
    "\n"
   ]
  },
  {
   "cell_type": "markdown",
   "metadata": {},
   "source": [
    "**C)** Using the rule of thumb that signals travel about 2/3 ft/ns through cabling, estimate what length of cable the experimenter used when taking this cosmic ray data.  Do you think your answer is reasonable?  "
   ]
  },
  {
   "cell_type": "code",
   "execution_count": null,
   "metadata": {},
   "outputs": [],
   "source": [
    "### Instructor's copy: 0.66666670599744 e9 feet, or ~126,263 miles.\n",
    "### This is just between the equatorial circumference of Saturn (117,649 mi) and that of Jupiter (139,559 mi)\n",
    "### The moon's orbital radius is about twice this value, at 239,000 miles.\n",
    "### This does not sound reasonable.\n",
    "\n",
    "\n",
    "\n"
   ]
  },
  {
   "cell_type": "markdown",
   "metadata": {},
   "source": [
    "## Now try it with Parsl!"
   ]
  },
  {
   "cell_type": "markdown",
   "metadata": {},
   "source": [
    "To use the Parslized scripts, we'll first prepare Parsl:"
   ]
  },
  {
   "cell_type": "code",
   "execution_count": null,
   "metadata": {},
   "outputs": [],
   "source": [
    "import parsl\n",
    "from parsl.config import Config\n",
    "from parsl.executors.threads import ThreadPoolExecutor\n",
    "from parsl.app.app import bash_app,python_app\n",
    "from parsl import File\n",
    "\n",
    "config = Config(\n",
    "    executors=[ThreadPoolExecutor()],\n",
    "    lazy_errors=True\n",
    ")\n",
    "parsl.load(config)"
   ]
  },
  {
   "cell_type": "markdown",
   "metadata": {},
   "source": [
    "We write a Python function to return the shell command we saw above, and then we turn that function into a Parsl App with the `@App` decorator:"
   ]
  },
  {
   "cell_type": "code",
   "execution_count": null,
   "metadata": {},
   "outputs": [],
   "source": [
    "@App('bash', dfk)\n",
    "def WireDelay(threshIn='', outputs=[], geoDir='', daqId='', fw='', stdout='stdout.txt', stderr='stderr.txt'):\n",
    "        return 'perl ./perl/WireDelay.pl %s %s %s %s %s' %(threshIn,outputs[0],geoDir,daqId,fw)"
   ]
  }
 ],
 "metadata": {
  "kernelspec": {
   "display_name": "Python 3",
   "language": "python",
   "name": "python3"
  },
  "language_info": {
   "codemirror_mode": {
    "name": "ipython",
    "version": 3
   },
   "file_extension": ".py",
   "mimetype": "text/x-python",
   "name": "python",
   "nbconvert_exporter": "python",
   "pygments_lexer": "ipython3",
   "version": "3.6.4"
  }
 },
 "nbformat": 4,
 "nbformat_minor": 2
}
