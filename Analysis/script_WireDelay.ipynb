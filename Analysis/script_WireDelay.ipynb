{
 "cells": [
  {
   "cell_type": "code",
   "execution_count": null,
   "metadata": {},
   "outputs": [],
   "source": [
    "## Wire Delay"
   ]
  },
  {
   "cell_type": "code",
   "execution_count": null,
   "metadata": {},
   "outputs": [],
   "source": [
    "@App('bash', dfk)\n",
    "def WireDelay(threshIn='', outputs=[], geoDir='', daqId='', fw='', stdout='stdout.txt', stderr='stderr.txt'):\n",
    "        return 'perl ./perl/WireDelay.pl %s %s %s %s %s' %(threshIn,outputs[0],geoDir,daqId,fw)"
   ]
  },
  {
   "cell_type": "markdown",
   "metadata": {},
   "source": [
    "Fundamentally, we want to execute the Perl script `WireDelay.pl`.  The most natural way to do this is from the command line, where the Perl interpreter `perl` can be used like any other program. To use it, we include the name of the script to execute as well as any parameters the script needs to work. That is, we want to run\n",
    "\n",
    "`$ perl ./perl/WireDelay.pl <threshIn> <outputs[0]> <geoDir> <daqId> <fw>`\n",
    "\n",
    "where the items in angled brackets `<>` are specific parameters we input for a specific analysis.  For example, we might want\n",
    "\n",
    "* threshIn = 'files/6119.2016.0104.1.thresh'\n",
    "* outputs[0] = '6119.2016.0104.1.wd'\n",
    "* geoDir = './geo'\n",
    "* daqId = '6119'\n",
    "* fw = '1.12'\n",
    "\n",
    "in which case the command is\n",
    "\n",
    "`$ perl ./perl/WireDelay.pl files/6119.2016.0104.1.thresh 6119.2016.0104.1.wd ./geo 6119 1.12`"
   ]
  },
  {
   "cell_type": "code",
   "execution_count": null,
   "metadata": {},
   "outputs": [],
   "source": [
    "!head -6 files/6119.2016.0104.1.thresh"
   ]
  },
  {
   "cell_type": "code",
   "execution_count": null,
   "metadata": {},
   "outputs": [],
   "source": []
  }
 ],
 "metadata": {
  "kernelspec": {
   "display_name": "Python 3",
   "language": "python",
   "name": "python3"
  },
  "language_info": {
   "codemirror_mode": {
    "name": "ipython",
    "version": 3
   },
   "file_extension": ".py",
   "mimetype": "text/x-python",
   "name": "python",
   "nbconvert_exporter": "python",
   "pygments_lexer": "ipython3",
   "version": "3.6.4"
  }
 },
 "nbformat": 4,
 "nbformat_minor": 2
}
