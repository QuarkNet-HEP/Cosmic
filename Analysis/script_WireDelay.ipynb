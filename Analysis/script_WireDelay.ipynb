{
 "cells": [
  {
   "cell_type": "markdown",
   "metadata": {},
   "source": [
    "*Instructors:*\n",
    "*This Notebook uses the WireDelay.pl script of the Cosmic Ray e-Lab analyses to provide material for the following learning goals:*\n",
    "\n",
    "* *Basic unit conversions among nanoseconds, seconds, and days*\n",
    "* *The 'distance = rate x time' formula*\n",
    "* *Light Python programming to accomplish the above*\n",
    "* *Understanding how measuring devices can affect the precision of scientific data*\n",
    "* *Estimating reasonable expectations for quantitative results*"
   ]
  },
  {
   "cell_type": "markdown",
   "metadata": {},
   "source": [
    "# Wire Delay"
   ]
  },
  {
   "cell_type": "markdown",
   "metadata": {},
   "source": [
    "In September of 2011, scientists at the OPERA experiment in Italy announced publicly a result that, if true, would upend nearly all of the past century of physics.  Their detector had measured ghostly particles called neutrinos travelling faster than the speed of light, an observation that directly contradicts the special theory of relativity.\n",
    "\n",
    "Most scientists, including those on the OPERA team itself, were certain that there must have been some mistake.  Indeed there was, but it was difficult to track down.  After 5 months spent reviewing their experiment's setup, GPS measurements, and data analysis techniques with a fine-toothed comb, the team finally identified two small equipment problems: A clock (one of many) was ticking slightly faster than it was supposed to, and the connector on a fiber-optic cable (also one of many) was loose, causing the signal it carried to be slower than expected.  After fixing these errors, their math was corrected: neutrinos travel slower than light after all, just like relativity requires.\n",
    "    \n",
    "This infamous episode in particle physics is a good reminder of an important rule: **scientific researchers must understand how their measuring devices affect the data they gather and be able to communicate this clearly when reporting their observations to others.**"
   ]
  },
  {
   "cell_type": "markdown",
   "metadata": {},
   "source": [
    "### Wire delay in cosmic ray muon detectors"
   ]
  },
  {
   "cell_type": "markdown",
   "metadata": {},
   "source": [
    "The same type of equipment errors that bedeviled the OPERA neutrino experiment can also affect the cosmic ray muon detectors (CRMD) used by QuarkNet.  Signals are delivered through cables and connectors from the detector panels to the data acquisition board (DAQ), and from the GPS unit to the DAQ.  Both the GPS unit and the DAQ itself contain clocks that, used together, allow the CRMD to measure the arrival of cosmic ray muons with timing as precise as 10 nanoseconds.  If these elements malfunction or if you don't know how to account for their effects, you may end up with nonsense data -- or, even worse, data that *looks* correct but is subtly flawed so that you end up with the wrong answer without knowing it."
   ]
  },
  {
   "cell_type": "markdown",
   "metadata": {},
   "source": [
    "The e-Lab cosmic ray studies use the `WireDelay.pl` data transformation script to ensure that the data used during an analysis correctly accounts for the time it takes for signals to travel between the counter panels and the DAQ on the one hand, and between the GPS unit and the DAQ on the other hand.  In this notebook, we'll see how that's accomplished and see how big of an effect that ends up having on the data you use in cosmic ray studies."
   ]
  },
  {
   "cell_type": "markdown",
   "metadata": {},
   "source": [
    "### Abbreviations used in this notebook:\n",
    "\n",
    "* **CRMD**: **C**osmic **R**ay **M**uon **D**etector\n",
    "* **DAQ**: **D**ata **A**c**Q**uisition board\n",
    "* **GPS**: **G**lobal **P**ositioning **S**ystem"
   ]
  },
  {
   "cell_type": "markdown",
   "metadata": {},
   "source": [
    "## Cosmic Ray Muon Detectors: Clocks and Wires"
   ]
  },
  {
   "cell_type": "markdown",
   "metadata": {},
   "source": [
    "Fig 1 is a diagram of a CRMD in operation.  A cosmic ray muon has just passed through the four stacked panels of the detector, sending signals from each panel to the DAQ through the wires that connect them."
   ]
  },
  {
   "cell_type": "markdown",
   "metadata": {},
   "source": [
    "![The CRMD setup](img/DetectorWithGPS.png) *Fig 1: A sketch of the CRMD showing signals traveling from the detector panels to the DAQ as a muon flies through, and the signal traveling from the GPS unit to the DAQ for timekeeping*"
   ]
  },
  {
   "cell_type": "markdown",
   "metadata": {},
   "source": [
    "If we want to measure the exact time that the muon strikes each panel, we must understand what happens to the electrical signals as they travel through the wires that connect the different elements of the CRMD."
   ]
  },
  {
   "cell_type": "markdown",
   "metadata": {},
   "source": [
    "### The speed of signal"
   ]
  },
  {
   "cell_type": "markdown",
   "metadata": {},
   "source": [
    "You might already be familiar with a very important number:\n",
    "\n",
    "$$c = 3 \\times 10^8 \\rm{m/s}\\,\\rm{.}$$\n",
    "\n",
    "This is, of course, the speed of light.  Not just the speed of light, though, but the speed of light *in a vacuum*, which is a very important distinction in this case.  When light travels through a medium like water or glass, its speed decreases.  The same is true in the CRMD wires: the signals travel through them at the speed of light, but it's the speed of light in the material the cable is made out of. \n",
    "\n",
    "As a rule of thumb, it turns out that this speed is about 2/3 of the speed of light in a vacuum, or\n",
    "\n",
    "$$v_{\\rm wire} = (2/3) c\\,\\rm{.}$$\n"
   ]
  },
  {
   "cell_type": "markdown",
   "metadata": {},
   "source": [
    "We'll do a quick, back-of-the envelope calculation to see how this might affect our CRMD data.  Let's say we're connecting the GPS unit to the DAQ with a cable that's $10\\,{\\rm m}$ long.  Using the formula\n",
    "\n",
    "$${\\rm distance} = {\\rm rate}\\times{\\rm time}\\,{\\rm ,}$$\n",
    "\n",
    "we'll substitute\n",
    "$${\\rm distance} = 10{\\rm m}\\,{\\rm ,}$$\n",
    "$${\\rm rate} = (2/3)c\\,{\\rm ,}$$\n",
    "\n",
    "and solve for ${\\rm time}$.  No need to grab a calculator, we have Python available right here:"
   ]
  },
  {
   "cell_type": "code",
   "execution_count": 32,
   "metadata": {},
   "outputs": [
    {
     "name": "stdout",
     "output_type": "stream",
     "text": [
      "5e-08\n"
     ]
    }
   ],
   "source": [
    "# Define distance and rate as variables:\n",
    "distance = 10\n",
    "rate = (2/3)*3*10**8\n",
    "\n",
    "# Solve the formula for time:\n",
    "time = distance/rate\n",
    "\n",
    "# Print the result in seconds:\n",
    "print(time)"
   ]
  },
  {
   "cell_type": "markdown",
   "metadata": {},
   "source": [
    "**Excercise 1)**  By following the units through the calculation, and by using the definition of a nanosecond, show that the above result of `5e-08` is the same as $50\\,{\\rm ns}$."
   ]
  },
  {
   "cell_type": "markdown",
   "metadata": {},
   "source": [
    "That's $50\\,{\\rm ns}$ for a signal to travel from the GPS unit to the DAQ over a $10\\,{\\rm m}$ cable.  If we want to have data that's precise to $10\\,{\\rm ns}$, then we clearly can't just ignore this $50\\,{\\rm ns}$ delay due to the signal travel time!  The `WireDelay` data transformation does just that -- it corrects the muon event times recorded in the input data by subtracting the extra time introduced by the wires.  \n",
    "\n",
    "Before we look at `WireDelay` itself, first we'll think about what we expect to happen, so that we can tell more quickly whether `WireDelay` is working as intended."
   ]
  },
  {
   "cell_type": "markdown",
   "metadata": {},
   "source": [
    "## Wire Delays in CRMDs: What We Expect"
   ]
  },
  {
   "cell_type": "markdown",
   "metadata": {},
   "source": [
    "We've seen how to calculate the time delay given by a wire using the \n",
    "\n",
    "$$d=v_{\\rm wire}t$$\n",
    "\n",
    "formula.  Now, we'll go through a couple of thought experiments to help us understand whether we should *add* or *subtract* the calculated delay from the times recorded in the input cosmic ray data."
   ]
  },
  {
   "cell_type": "markdown",
   "metadata": {},
   "source": [
    "### 1) Wire Delays in the channel cables"
   ]
  },
  {
   "cell_type": "markdown",
   "metadata": {},
   "source": [
    "Let's say a cosmic ray muon strikes the panel on channel 1 of the CRMD at exactly 12:00:00 noon.  Imagine that the cable connecting that panel to the DAQ is so long that it takes a full second for the signal to travel to the DAQ, so that the DAQ receives the signal at 12:00:01 pm.\n",
    "\n",
    "The time we want to record is the time of the muon struck the detector, 12:00:00.  Thus, we conclude that we must *subtract* the wire delay of the detector channels from the DAQ's recorded time of 12:00:01 in order to get the correct time."
   ]
  },
  {
   "cell_type": "markdown",
   "metadata": {},
   "source": [
    "**Exercise 2)** Using the formula $\\,\\,d=v_{\\rm wire}t\\,\\,$ with $\\,v_{\\rm wire} = (2/3)\\,c\\,$, calculate how long a cable would have to be for a signal to take 1 second to travel through it.\n",
    "\n",
    "If you prefer to use Python programming to find the answer, use the following cell:"
   ]
  },
  {
   "cell_type": "code",
   "execution_count": 14,
   "metadata": {},
   "outputs": [
    {
     "name": "stdout",
     "output_type": "stream",
     "text": [
      "200000000.0 meters\n"
     ]
    }
   ],
   "source": [
    "# code here\n",
    "### Instructor's copy:\n",
    "def wireDelay_TimeToDistance(time):\n",
    "    '''For input time in seconds, returns the distance in meters for signal in a wire'''\n",
    "    # In m/s:\n",
    "    v = (2.0/3.0)*3*10**8\n",
    "    \n",
    "    distance = v*time\n",
    "    return distance\n",
    "\n",
    "print( str(wireDelay_TimeToDistance(1)) + \" meters\")"
   ]
  },
  {
   "cell_type": "markdown",
   "metadata": {},
   "source": [
    "Is your answer reasonable for a cable length?  If you think it's unreasonable, do you think that this changes the conclusion that the wire delay time must be *subtracted* from the recorded time in order to correct it?  Explain why."
   ]
  },
  {
   "cell_type": "markdown",
   "metadata": {},
   "source": [
    "### 2) Wire Delays in the GPS cable"
   ]
  },
  {
   "cell_type": "markdown",
   "metadata": {},
   "source": [
    "Again, let's imagine that the GPS unit is connected to the DAQ with a cable so long that it takes a full second for time data to transmit over it.  When the DAQ wants to know what time it is, it asks the GPS unit, and the GPS responds with a message \"It's exactly 5:00:00 pm\".  This message travels down the wire, and the DAQ receives it at 5:00:01 pm.  By this time, though, the message is out-of-date!  To find what the correct time is at the moment the DAQ receives the GPS's message, we conclude that we must *add* the wire delay to the time reported by the GPS unit in order to know what time it really is when the message arrives"
   ]
  },
  {
   "cell_type": "markdown",
   "metadata": {},
   "source": [
    "### 3) Total Wire Delay"
   ]
  },
  {
   "cell_type": "markdown",
   "metadata": {},
   "source": [
    "We've seen that, in order to correct the cosmic ray muon event times to account for the signal delay in the CRMD wires, we *subtract* the delay due to the wires between the detector panels and the DAQ, and we *add* the delay due to the wires between the GPS unit and the DAQ.  Since these two corrections act in opposite directions, it's possible that the total correction to the cosmic ray data might be either negative (subtracted), positive (added), or even zero if the two types of cable are the same length."
   ]
  },
  {
   "cell_type": "markdown",
   "metadata": {},
   "source": [
    "In practice, it's more common for the wire connnecting the GPS unit to the DAQ to be longer than the wires connecting the detector panels to the DAQ.  This is because the GPS unit needs to be near a window or even outside, so that it can receive signals from the GPS satellites, which might be far away from where the DAQ and detector panels are.  "
   ]
  },
  {
   "cell_type": "markdown",
   "metadata": {},
   "source": [
    "**Exercise 3)** Assume the GPS wire is longer than the detector panel wires.  In this case, what is the sign of the total correction to our cosmic ray time data?  That is, will we end up *adding* it, or *subtracting* it from the raw data?"
   ]
  },
  {
   "cell_type": "markdown",
   "metadata": {},
   "source": [
    "**Exercise 4)** Assume one of the wires is $10\\,{\\rm m}$ longer than the other.  Ignoring the sign, what is the total magnitude of the time correction due to the delay in both types of wire?  *(Hint: you've already done this calculation!)*"
   ]
  },
  {
   "cell_type": "markdown",
   "metadata": {},
   "source": [
    "## Using WireDelay.pl"
   ]
  },
  {
   "cell_type": "markdown",
   "metadata": {},
   "source": [
    "Now we'll look at the `WireDelay` data transformation script that performs the type of correction we've been discussing.  We can execute the Perl script `WireDelay.pl` by calling the Perl interpreter and providing it with the name of the script (which is stored in the `perl/` folder) as well as all the values that the script will need to run:\n",
    "\n",
    "`$ perl ./perl/WireDelay.pl <threshIn> <outputs> <geoDir> <daqId> <fw>`&nbsp;&nbsp;.\n",
    "\n",
    "The items in angled brackets `<>` are parameters we have to specify.  These are:\n",
    "\n",
    "* `threshIn`:  The name of the Threshold data file we'll use as input\n",
    "* `outputs`: What we want to name the output file that the script will write its results to\n",
    "* `geoDir`: The directory that contains the detectors' geometry files.  These files contain information on the physical layout of the detector panels, including data on wire length.\n",
    "* `daqId`: The 4-digit ID of the CRMD DAQ that recorded this data, and\n",
    "* `fw`: The version number of the firmware running on the DAQ\n",
    "\n",
    "For example, we might want to use\n",
    "\n",
    "* `threshIn = files/6119.2016.0104.1.thresh`\n",
    "* `outputs = 6119.2016.0104.1.wd`\n",
    "* `geoDir = ./geo`\n",
    "* `daqId = 6119`\n",
    "* `fw = 1.12`\n",
    "\n",
    "in which case the command is\n",
    "\n",
    "`$ perl ./perl/WireDelay.pl files/6119.2016.0104.1.thresh 6119.2016.0104.1.wd ./geo 6119 1.12`"
   ]
  },
  {
   "cell_type": "markdown",
   "metadata": {},
   "source": [
    "## Understanding WireDelay.pl"
   ]
  },
  {
   "cell_type": "markdown",
   "metadata": {},
   "source": [
    "To understand what `WireDelay` does, we'll look at a sample of input data, run the script to apply the data transformation, and then look at a sample of output data.  By comparing the input and output data, we'll be able to draw exact conclusions about how cosmic ray data is corrected for time delays due to signal wires.\n",
    "\n",
    "The input file we'll use for this example is `6119.2016.0104.1.thresh`.  We can use the UNIX shell command `head` to get a quick look at what it looks like before the `WireDelay` data transformation acts on it:"
   ]
  },
  {
   "cell_type": "code",
   "execution_count": 1,
   "metadata": {},
   "outputs": [
    {
     "name": "stdout",
     "output_type": "stream",
     "text": [
      "#$md5\r\n",
      "#md5_hex(0)\r\n",
      "#ID.CHANNEL, Julian Day, RISING EDGE(sec), FALLING EDGE(sec), TIME OVER THRESHOLD (nanosec), RISING EDGE(INT), FALLING EDGE(INT)\r\n",
      "6119.1\t2457392\t0.3721863017828993\t0.3721863017831598\t22.50\t3215689647404250\t3215689647406500\r\n",
      "6119.3\t2457392\t0.3721863017829138\t0.3721863017831598\t21.25\t3215689647404375\t3215689647406500\r\n",
      "6119.2\t2457392\t0.3721885846820747\t0.3721885846822772\t17.50\t3215709371653125\t3215709371654875\r\n",
      "6119.4\t2457392\t0.3721885846820747\t0.3721885846822917\t18.75\t3215709371653125\t3215709371655000\r\n",
      "6119.4\t2457392\t0.3721901866161603\t0.3721901866163773\t18.75\t3215723212363625\t3215723212365500\r\n",
      "6119.1\t2457392\t0.3721901866161748\t0.3721901866164496\t23.75\t3215723212363750\t3215723212366125\r\n",
      "6119.1\t2457392\t0.3721903650327546\t0.3721903650329427\t16.25\t3215724753883000\t3215724753884625\r\n"
     ]
    }
   ],
   "source": [
    "!head -10 files/6119.2016.0104.1.thresh"
   ]
  },
  {
   "cell_type": "markdown",
   "metadata": {},
   "source": [
    "The first two commented lines (ones that start with `#`) are for technical record-keeping and don't matter to us now.  The third commented line tells us what each column of data is.  The first column is the DAQ ID and channel number (that is, which of the four detector panels produced the data).  The second column is the day the data was collected, which we also aren't concerned with in this example.  The main data we'll look at are the third and fourth columns, which record when the times when the signal pulse rises above and then falls back below the detector's threshold voltage: \n",
    "\n",
    "```\n",
    "RISING EDGE\t       FALLING EDGE\n",
    "0.3721863017828993\t0.3721863017831598\n",
    "0.3721863017829138\t0.3721863017831598\n",
    "0.3721885846820747\t0.3721885846822772\n",
    "0.3721885846820747\t0.3721885846822917\n",
    "0.3721901866161603\t0.3721901866163773\n",
    "0.3721901866161748\t0.3721901866164496\n",
    "0.3721903650327546\t0.3721903650329427\n",
    "```\n",
    "\n",
    "(for more information on the cosmic ray data format and what these numbers mean, there will be another Jupyter Notebook for this). "
   ]
  },
  {
   "cell_type": "markdown",
   "metadata": {},
   "source": [
    "### Applying the data transformation"
   ]
  },
  {
   "cell_type": "markdown",
   "metadata": {},
   "source": [
    "Now we'll run `WireDelay` and see what changes it makes to the data.  The script `WireDelay.pl` is a Perl script designed to be executed from a UNIX shell, not from a Jupyter Notebook.  We can use the \"!\" trick that Jupyter gives us again, though, to call the program:"
   ]
  },
  {
   "cell_type": "code",
   "execution_count": 4,
   "metadata": {},
   "outputs": [],
   "source": [
    "!perl ./perl/WireDelay.pl files/6119.2016.0104.1.thresh outputs/6119.2016.0104.1.wd ./geo 6119 1.12"
   ]
  },
  {
   "cell_type": "markdown",
   "metadata": {},
   "source": [
    "The script has created the output file `outputs/6119.2016.0104.1.wd`, which we can examine the same way we did the input file earlier:"
   ]
  },
  {
   "cell_type": "code",
   "execution_count": 5,
   "metadata": {},
   "outputs": [
    {
     "name": "stdout",
     "output_type": "stream",
     "text": [
      "#USING WIREDELAYS: ID.CHANNEL, Julian Day, RISING EDGE(sec), FALLING EDGE(sec), TIME OVER THRESHOLD (nanosec)\r\n",
      "6119.1\t2457392\t0.3721978758576562\t0.3721978758579167\t22.50\r\n",
      "6119.3\t2457392\t0.3721978758576707\t0.3721978758579167\t21.25\r\n",
      "6119.2\t2457392\t0.3722001587568317\t0.3722001587570342\t17.50\r\n",
      "6119.4\t2457392\t0.3722001587568317\t0.3722001587570486\t18.75\r\n",
      "6119.4\t2457392\t0.3722017606909173\t0.3722017606911343\t18.75\r\n",
      "6119.1\t2457392\t0.3722017606909317\t0.3722017606912065\t23.75\r\n",
      "6119.1\t2457392\t0.3722019391075115\t0.3722019391076997\t16.25\r\n",
      "6119.3\t2457392\t0.3722019391075405\t0.3722019391077576\t18.75\r\n",
      "6119.2\t2457392\t0.3722025586529688\t0.3722025586532147\t21.25\r\n"
     ]
    }
   ],
   "source": [
    "!head -10 outputs/6119.2016.0104.1.wd"
   ]
  },
  {
   "cell_type": "markdown",
   "metadata": {},
   "source": [
    "So, what has `WireDelay.pl` script done to our data?  Look for differences between this file, `6119.2016.0104.1.wd`, and the input file `6119.2016.0104.1.thresh` shown above."
   ]
  },
  {
   "cell_type": "markdown",
   "metadata": {},
   "source": [
    "#### A closer look\n",
    "First, we can see that the data appears to be in the same order.  The counters are recorded in the same order `6119.1, 6119.3, 6119.2, ...` and with the same \"time over threshold\" values `22.50, 21.25, 17.50, ...` in both files.  If you're not convinced, increase the number of lines returned by the `head` command until the pattern is clear (the number of lines is given right after the dash in `head -10`).\n",
    "\n",
    "Next, we note that `WireDelay` keeps the Julian day value from the Threshold file, but it drops the raw-integer rising and falling edge values.  Evidently we won't be needing these values for further analysis.\n",
    "\n",
    "Last, we notice the most interesting thing: the rising and falling edge time values have changed!  We'll re-write the first seven data lines of each for clarity.\n",
    "\n",
    "From the input file `6119.2016.0104.1.thresh`:\n",
    "\n",
    "```\n",
    "RISING EDGE\t       FALLING EDGE\n",
    "0.3721863017828993\t0.3721863017831598\n",
    "0.3721863017829138\t0.3721863017831598\n",
    "0.3721885846820747\t0.3721885846822772\n",
    "0.3721885846820747\t0.3721885846822917\n",
    "0.3721901866161603\t0.3721901866163773\n",
    "0.3721901866161748\t0.3721901866164496\n",
    "0.3721903650327546\t0.3721903650329427\n",
    "```\n",
    "\n",
    "From the output file `6119.2016.0104.1.wd`:\n",
    "\n",
    "```\n",
    "RISING EDGE\t       FALLING EDGE\n",
    "0.3721978758576562\t0.3721978758579167\n",
    "0.3721978758576707\t0.3721978758579167\n",
    "0.3722001587568317\t0.3722001587570342\n",
    "0.3722001587568317\t0.3722001587570486\n",
    "0.3722017606909173\t0.3722017606911343\n",
    "0.3722017606909317\t0.3722017606912065\n",
    "0.3722019391075115\t0.3722019391076997\n",
    "```"
   ]
  },
  {
   "cell_type": "markdown",
   "metadata": {},
   "source": [
    "We can use Python to quickly see the difference between values in the output data and corresponding values in the input data:"
   ]
  },
  {
   "cell_type": "code",
   "execution_count": 3,
   "metadata": {},
   "outputs": [
    {
     "name": "stdout",
     "output_type": "stream",
     "text": [
      "1.1574074756881547e-05\n"
     ]
    }
   ],
   "source": [
    "inputTimeData = 0.3721863017828993\n",
    "outputTimeData = 0.3721978758576562\n",
    "\n",
    "print(outputTimeData - inputTimeData)"
   ]
  },
  {
   "cell_type": "markdown",
   "metadata": {},
   "source": [
    "Try experimenting -- copy any value from the output file as `outputTimeData` and the corresponding value (by row and column) from the input file as `inputTimeData`, and see what difference you get.\n",
    "\n",
    "You should see that for each line of data, the output file `6119.2016.0104.1.wd` has values that are `0.000011574074756881547` greater than the corresponding value in the input file `6119.2016.0104.1.thresh`.  This time represents the wire delay correction, but what exactly does it mean?  We'll need to do a little more work to make it clear."
   ]
  },
  {
   "cell_type": "markdown",
   "metadata": {},
   "source": [
    "## Exercise 1: Converting days to seconds"
   ]
  },
  {
   "cell_type": "markdown",
   "metadata": {},
   "source": [
    "First, we have to confess to a small error.  Recall that the input `.thresh` file had a header that identfied all of the columns:\n",
    "\n",
    "```\n",
    "#ID.CHANNEL, Julian Day, RISING EDGE(sec), FALLING EDGE(sec), TIME OVER THRESHOLD (nanosec), RISING EDGE(INT), FALLING EDGE(INT)\n",
    "6119.1\t2457392\t0.3721863017828993\t0.3721863017831598\t22.50\t3215689647404250\t3215689647406500\n",
    "6119.3\t2457392\t0.3721863017829138\t0.3721863017831598\t21.25\t3215689647404375\t3215689647406500\n",
    "```\n",
    "\n",
    "This header indicates that the `RISING EDGE` and `FALLING EDGE` values (the ones that are $\\approx 0.3721863...$) are given in *seconds*.  This is a mistake of the cosmic ray data format that it's too late to fix: the numbers are actually in *days*.  That is, the rising edge of the first line of data occurred $0.3721863017828993$ days after this particular clock started counting.  A value of $0.5000000000000000$ would represent half a day, or 12 hours (or 720 minutes, etc.).  That means that the difference between two `EDGE` times is also in days, including the $0.000011574074756881547$ value that we determined above to be the wire delay correction.\n",
    "\n",
    "'Days' might be a good unit of time for recording data, but for investigating smaller differences we'll probably want to use more natural units.  Our first task, then, is to convert days into seconds."
   ]
  },
  {
   "cell_type": "markdown",
   "metadata": {},
   "source": [
    "**A)** Write a Python function to convert a time value given in days into nanoseconds.  You may name it whatever you like, but I'll suggest `daysToNanosec()`."
   ]
  },
  {
   "cell_type": "code",
   "execution_count": 10,
   "metadata": {},
   "outputs": [],
   "source": [
    "### Write your function here ###\n",
    "\n",
    "# Hint: If there are 24 hours in a day, what fraction of a day is one hour?\n",
    "# If there are X nanoseconds in a day, what fraction of a day is one nanosecond?\n",
    "# What is X?\n",
    "\n",
    "### These should all be considered part of the 'Instructor's Copy'\n",
    "def daysToNanosec(days):\n",
    "    '''A function to convert days into nanoseconds'''\n",
    "    \n",
    "    ### 1 day = (24*60*60) sec = (24*60*60) e9 ns\n",
    "    nanoseconds = days*24*60*60*10**9\n",
    "    return nanoseconds\n",
    "    \n",
    "def daysToSec(days):\n",
    "    '''A function to convert days into seconds'''\n",
    "\n",
    "    ### 1 day = (24*60*60) sec\n",
    "    seconds = days*24*60*60\n",
    "    return seconds\n",
    "\n",
    "def wireDelay_TimeToDistance(time):\n",
    "    '''For input time in seconds, returns the distance in meters for signal in a wire'''\n",
    "    # In m/s:\n",
    "    v = (2.0/3.0)*3*10**8\n",
    "    \n",
    "    distance = v*time\n",
    "    return distance\n",
    "\n",
    "def wireDelay_DistanceToTime(distance):\n",
    "    '''For input distance in meters, returns the time in seconds for signal in a wire'''\n",
    "    # In m/s:\n",
    "    v = (2.0/3.0)*3*10**8\n",
    "\n",
    "    time = distance/v\n",
    "    return time"
   ]
  },
  {
   "cell_type": "markdown",
   "metadata": {},
   "source": [
    "**B)** Apply this function to the wire delay correction of $0.000011574074756881547$ days to see how many seconds it represents."
   ]
  },
  {
   "cell_type": "code",
   "execution_count": 7,
   "metadata": {},
   "outputs": [
    {
     "name": "stdout",
     "output_type": "stream",
     "text": [
      "1.0000000589945657\n"
     ]
    }
   ],
   "source": [
    "print (daysToSec(0.000011574074756881547))"
   ]
  },
  {
   "cell_type": "markdown",
   "metadata": {},
   "source": [
    "If we've done everything right, it seems like the wire delay correction is just a bit over a single second.  Does that sound reasonable?\n",
    "\n",
    "Earlier, we used a \"1 second\" wire delay to get a quick idea of whether we should add or subtract the wire delay correction from the detector panel wires and the GPS unit wires, and you were asked to find the length of a cable that gives that hypothetical wire delay.  In this case, we're looking at the *difference* between the panel cables and the GPS cable, but the question stands: Is this length a reasonable difference to exist between the two cables?"
   ]
  },
  {
   "cell_type": "code",
   "execution_count": 12,
   "metadata": {},
   "outputs": [
    {
     "name": "stdout",
     "output_type": "stream",
     "text": [
      "200000011.79891312 m\n"
     ]
    }
   ],
   "source": [
    "# Instructor's copy:\n",
    "print(str(wireDelay_TimeToDistance(1.0000000589945657)) + \" m\")"
   ]
  },
  {
   "cell_type": "markdown",
   "metadata": {},
   "source": [
    "Hopefully you found that a wire with a 1-second delay would be around $200,000\\,{\\rm km}$ in length, which we should all agree is an unreasonable amount -- the circumference of the Earth is only $40,000\\,{\\rm km}$!  What did we do wrong in our calculation?\n",
    "\n",
    "The answer is: Nothing!  We've stumbled onto a quirk of the detector's DAQ that there's no way you could have known in advance.  There's a bug in the firmware on the DAQ that causes it to be slow by exactly one second, so the `WireDelay` script was written to add that second back while it corrects for the real, physical effect of the wire delay.\n",
    "\n",
    "To get the *actual* effect of the wire delay (and only the wire delay) on our cosmic ray data, we'll subtract that second back off.  Subtracting one second from the wire delay correction of $1.0000000589945657\\,{\\rm s}$ leaves $0.0000000589945657\\,{\\rm s}$, which is the same as $58.9945657\\,{\\rm ns}$."
   ]
  },
  {
   "cell_type": "markdown",
   "metadata": {},
   "source": [
    "Earlier, we estimated that under normal use of the CRMD, the GPS cable might be approximately $10\\,{\\rm m}$ longer than the detector panel cables, which would produce a wire delay correction of approximately $+50\\,{\\rm ns}$.  We weren't that far off!  "
   ]
  }
 ],
 "metadata": {
  "kernelspec": {
   "display_name": "Python 3",
   "language": "python",
   "name": "python3"
  },
  "language_info": {
   "codemirror_mode": {
    "name": "ipython",
    "version": 3
   },
   "file_extension": ".py",
   "mimetype": "text/x-python",
   "name": "python",
   "nbconvert_exporter": "python",
   "pygments_lexer": "ipython3",
   "version": "3.6.4"
  }
 },
 "nbformat": 4,
 "nbformat_minor": 2
}
