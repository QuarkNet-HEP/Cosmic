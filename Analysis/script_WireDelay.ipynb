{
 "cells": [
  {
   "cell_type": "markdown",
   "metadata": {},
   "source": [
    "# Wire Delay"
   ]
  },
  {
   "cell_type": "markdown",
   "metadata": {},
   "source": [
    "We can execute the Perl script `WireDelay.pl` by calling the Perl interpreter from the command line, providing it the name of the script as well as any parameters that it needs to work. That is, we want to run\n",
    "\n",
    "`$ perl ./perl/WireDelay.pl <threshIn> <outputs[0]> <geoDir> <daqId> <fw>`\n",
    "\n",
    "where the items in angled brackets `<>` are specific parameters we input for a specific set of data.  For example, we might want\n",
    "\n",
    "* threshIn = 'files/6119.2016.0104.1.thresh'\n",
    "* outputs[0] = '6119.2016.0104.1.wd'\n",
    "* geoDir = './geo'\n",
    "* daqId = '6119'\n",
    "* fw = '1.12'\n",
    "\n",
    "in which case the command is\n",
    "\n",
    "`$ perl ./perl/WireDelay.pl files/6119.2016.0104.1.thresh 6119.2016.0104.1.wd ./geo 6119 1.12`"
   ]
  },
  {
   "cell_type": "markdown",
   "metadata": {},
   "source": [
    "The file `<threshIn>`, here `6119.2016.0104.1.thresh`, is the primary input.  We can use the shell command `head` to get a quick look at what it looks like:"
   ]
  },
  {
   "cell_type": "code",
   "execution_count": 1,
   "metadata": {},
   "outputs": [
    {
     "name": "stdout",
     "output_type": "stream",
     "text": [
      "#$md5\r\n",
      "#md5_hex(0)\r\n",
      "#ID.CHANNEL, Julian Day, RISING EDGE(sec), FALLING EDGE(sec), TIME OVER THRESHOLD (nanosec), RISING EDGE(INT), FALLING EDGE(INT)\r\n",
      "6119.1\t2457392\t0.3721863017828993\t0.3721863017831598\t22.50\t3215689647404250\t3215689647406500\r\n",
      "6119.3\t2457392\t0.3721863017829138\t0.3721863017831598\t21.25\t3215689647404375\t3215689647406500\r\n",
      "6119.2\t2457392\t0.3721885846820747\t0.3721885846822772\t17.50\t3215709371653125\t3215709371654875\r\n"
     ]
    }
   ],
   "source": [
    "!head -6 files/6119.2016.0104.1.thresh"
   ]
  },
  {
   "cell_type": "markdown",
   "metadata": {},
   "source": [
    "It's hard to run the terminal command\n",
    "\n",
    "`$ perl ./perl/WireDelay.pl files/6119.2016.0104.1.thresh 6119.2016.0104.1.wd ./geo 6119 1.12`\n",
    "\n",
    "from within this Notebook (this is a Python interpreter, after all, not a terminal).  If you were to run the above `perl` command in a terminal, however,  you'd find that `WireDelay.pl` creates a file `6119.2016.0104.1.wd` (the second argument to `WireDelay.pl` is what tells the script what name to use).  This output file looks like"
   ]
  },
  {
   "cell_type": "code",
   "execution_count": 3,
   "metadata": {},
   "outputs": [
    {
     "name": "stdout",
     "output_type": "stream",
     "text": [
      "#USING WIREDELAYS: ID.CHANNEL, Julian Day, RISING EDGE(sec), FALLING EDGE(sec), TIME OVER THRESHOLD (nanosec)\r\n",
      "6119.1\t2457392\t0.3721978758576562\t0.3721978758579167\t22.50\r\n",
      "6119.3\t2457392\t0.3721978758576707\t0.3721978758579167\t21.25\r\n",
      "6119.2\t2457392\t0.3722001587568317\t0.3722001587570342\t17.50\r\n",
      "6119.4\t2457392\t0.3722001587568317\t0.3722001587570486\t18.75\r\n",
      "6119.4\t2457392\t0.3722017606909173\t0.3722017606911343\t18.75\r\n"
     ]
    }
   ],
   "source": [
    "!head -6 6119.2016.0104.1.wd-shell"
   ]
  },
  {
   "cell_type": "markdown",
   "metadata": {},
   "source": [
    "(I've renamed it `6119.2016.0104.1.wd-shell` to distinguish it from the similar files that will be created by running the command using Parsl from inside this Notebook)\n",
    "\n",
    "So, what has `WireDelay.pl` script done to our data?  That is, how does `6119.2016.0104.1.wd` differ from `6119.2016.0104.1.thresh`?"
   ]
  },
  {
   "cell_type": "markdown",
   "metadata": {},
   "source": [
    "#### A closer look\n",
    "First, we can see that the data appears to be in the same order.  The counters are recorded in the same order `6119.1, 6119.3, 6119.2, ...` and with the same \"time over threshold\" values `22.50, 21.25, 17.50, ...` in both files.  If you're not convinced, increase the number of lines returned by the `head` command until the pattern is clear.\n",
    "\n",
    "Next, we note that `WireDelay` keeps the Julian day value from the Threshold file, but it drops the raw-integer rising and falling edge values.  Evidently we won't be needing these values for further analysis.\n",
    "\n",
    "Last, we notice the most interesting thing: the rising and falling edge time values have changed!\n",
    "\n",
    "Investigating further, we can see that for each line of data, the output file `6119.2016.0104.1.wd` has values that are exactly `0.0000115740747569` greater than the corresponding value in the input file `6119.2016.0104.1.thresh`.  This time represents the *wire delay*: After a counter registers a hit, it takes a small amount of time for that signal to travel through the connector cable to the DAQ board, where it's recorded as data. The `WireDelay.pl` script adjusts the data for this, helping us make time comparisons between detectors as precisely as possible.\n",
    "\n",
    "But how does `WireDelay.pl` know how much to adjust the rising and falling edge times by?  The answer is in the other input file, `6119.geo`.  We could examine it to see what it contains, but it's more fun to try to guess first!"
   ]
  },
  {
   "cell_type": "markdown",
   "metadata": {},
   "source": [
    "### Exercise 1"
   ]
  },
  {
   "cell_type": "markdown",
   "metadata": {},
   "source": [
    "Remember that the Rising Edge and Falling Edge numbers are given in days, not in seconds or nanoseconds.  That is, a value of `0.5000000000000000` represents half a day, or 12 hours (or 720 minutes, etc.).  This isn't the most natural way to think of time when dealing with such fast signals, so it's useful to be able to convert these into something more intuitive, like seconds or nanoseconds.\n",
    "\n",
    "**A)** Write a Python function to convert a time value given in days into nanoseconds.  You may name it whatever you like, but I'll suggest `daysToNanosec()`."
   ]
  },
  {
   "cell_type": "code",
   "execution_count": null,
   "metadata": {},
   "outputs": [],
   "source": [
    "# Write your function here\n",
    "# Hint: If there are 24 hours in a day, what fraction of a day is one hour?\n",
    "# If there are X nanoseconds in a day, what fraction of a day is one nanosecond?\n",
    "# What is X?\n",
    "def daysToNanosec():\n",
    "    \n",
    "    \n",
    "    \n",
    "    "
   ]
  },
  {
   "cell_type": "markdown",
   "metadata": {},
   "source": [
    "**B)** Use the function you just wrote to convert `0.0000115740747569` days (what `WireDelay.pl` added to our data) into nanoseconds."
   ]
  },
  {
   "cell_type": "code",
   "execution_count": null,
   "metadata": {},
   "outputs": [],
   "source": [
    "# Write your Python code here\n",
    "\n",
    "\n",
    "\n"
   ]
  },
  {
   "cell_type": "markdown",
   "metadata": {},
   "source": [
    "**C)** Using the rule of thumb that signals travel about 2/3 ft/ns through cabling, estimate what length of cable the experimenter used when taking this cosmic ray data.  Do you think your answer is reasonable?  "
   ]
  },
  {
   "cell_type": "markdown",
   "metadata": {},
   "source": [
    "## Now try it with Parsl!"
   ]
  },
  {
   "cell_type": "markdown",
   "metadata": {},
   "source": [
    "To use the Parslized scripts, we'll first prepare Parsl:"
   ]
  },
  {
   "cell_type": "code",
   "execution_count": null,
   "metadata": {},
   "outputs": [],
   "source": [
    "import parsl\n",
    "from parsl import *\n",
    "\n",
    "local_config = {\n",
    "    \"sites\" : [\n",
    "        { \"site\" : \"Threads\",\n",
    "          \"auth\" : { \"channel\" : None },\n",
    "          \"execution\" : {\n",
    "              \"executor\" : \"threads\",\n",
    "              \"provider\" : None,\n",
    "              \"max_workers\" : 4\n",
    "          }\n",
    "        }],\n",
    "    \"globals\" : {\"lazyErrors\" : True}\n",
    "}\n",
    "\n",
    "dfk = DataFlowKernel(config=local_config)"
   ]
  },
  {
   "cell_type": "markdown",
   "metadata": {},
   "source": [
    "We write a Python function to return the shell command we saw above, and then we turn that function into a Parsl App with the `@App` decorator:"
   ]
  },
  {
   "cell_type": "code",
   "execution_count": null,
   "metadata": {},
   "outputs": [],
   "source": [
    "@App('bash', dfk)\n",
    "def WireDelay(threshIn='', outputs=[], geoDir='', daqId='', fw='', stdout='stdout.txt', stderr='stderr.txt'):\n",
    "        return 'perl ./perl/WireDelay.pl %s %s %s %s %s' %(threshIn,outputs[0],geoDir,daqId,fw)"
   ]
  }
 ],
 "metadata": {
  "kernelspec": {
   "display_name": "Python 3",
   "language": "python",
   "name": "python3"
  },
  "language_info": {
   "codemirror_mode": {
    "name": "ipython",
    "version": 3
   },
   "file_extension": ".py",
   "mimetype": "text/x-python",
   "name": "python",
   "nbconvert_exporter": "python",
   "pygments_lexer": "ipython3",
   "version": "3.6.4"
  }
 },
 "nbformat": 4,
 "nbformat_minor": 2
}
