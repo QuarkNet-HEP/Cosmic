{
 "cells": [
  {
   "cell_type": "markdown",
   "metadata": {},
   "source": [
    "# Frequency"
   ]
  },
  {
   "cell_type": "markdown",
   "metadata": {},
   "source": [
    "To use the data transformation script `Frequency.pl`, we provide it with a single input file followed by what we want it to name the output file it creates and a channel number:\n",
    "\n",
    "`$ perl ./perl/Frequency.pl [inputFile1 inputFile2 ...] [outputFile1 outputFile2 ...] [column] [binType switch] [binValue]`\n",
    "\n",
    "The last two values have a peculiar usage compared to the other transformation scripts.  Here, `binType` is a switch that can be either `0` or `1` to tell the script how you want to divide the data into bins; this choice then determines what the `binValue` parameter means.  The choices are\n",
    "\n",
    "    0: Divide the data into a number of bins equal to `binValue`\n",
    "    1: Divide the data into bins of width `binValue` (in nanoseconds)\n",
    "\n",
    "It isn't immedately obvious what this means, though, or what the `column` parameter does.  We'll try it out on the test data in the `test_data` directory.  Use the UNIX shell command `$ ls test_data` to see what's there:"
   ]
  },
  {
   "cell_type": "code",
   "execution_count": 1,
   "metadata": {},
   "outputs": [
    {
     "name": "stdout",
     "output_type": "stream",
     "text": [
      "6119.2016.0104.1.test.thresh  combineOut  sortOut15\r\n",
      "6148.2016.0109.0.test.thresh  sortOut\t  sortOut51\r\n",
      "6203.2016.0104.1.test.thresh  sortOut11\r\n"
     ]
    }
   ],
   "source": [
    "!ls test_data"
   ]
  },
  {
   "cell_type": "markdown",
   "metadata": {},
   "source": [
    "Let's start simple, using a single input file and a single output file.  We'll run\n",
    "\n",
    "`$ perl ./perl/Frequency.pl test_data/6148.2016.0109.0.test.thresh test_data/freqOut01 1 1 2`\n",
    "\n",
    "to see what happens.  The `binType` switch is set to the e-Lab default of `1`, \"bin by fixed width,\" and the value of that fixed width is set to the e-Lab-default of `2`ns.  Notice that we've named the output file `freqOut01`; we may have to do lots of experimentation to figure out what exactly the transformation `Frequency.pl` does, so we'll increment that number each time to keep a record of our progess.  The `column` parameter is `1`.\n",
    "\n",
    "Before we begin, we'll make sure we know what the input file looks like.  The UNIX `wc` (word count) utility tells us that `6148.2016.0109.0.test.thresh` has over a thousand lines:"
   ]
  },
  {
   "cell_type": "code",
   "execution_count": 1,
   "metadata": {},
   "outputs": [
    {
     "name": "stdout",
     "output_type": "stream",
     "text": [
      "1003 test_data/6148.2016.0109.0.test.thresh\r\n"
     ]
    }
   ],
   "source": [
    "!wc -l test_data/6148.2016.0109.0.test.thresh"
   ]
  },
  {
   "cell_type": "markdown",
   "metadata": {},
   "source": [
    "(`wc` stands for \"word count\", and the `-l` flag means \"but count lines instead of words.\" The first number in the output, before the filename, is the number of lines, in this case 1003)"
   ]
  },
  {
   "cell_type": "markdown",
   "metadata": {},
   "source": [
    "The UNIX `head` utility will show us the beginning of the file:"
   ]
  },
  {
   "cell_type": "code",
   "execution_count": 3,
   "metadata": {},
   "outputs": [
    {
     "name": "stdout",
     "output_type": "stream",
     "text": [
      "#$md5\r\n",
      "#md5_hex(0)\r\n",
      "#ID.CHANNEL, Julian Day, RISING EDGE(sec), FALLING EDGE(sec), TIME OVER THRESHOLD (nanosec), RISING EDGE(INT), FALLING EDGE(INT)\r\n",
      "6148.4\t2457396\t0.5006992493422453\t0.5006992493424479\t17.51\t4326041514317000\t4326041514318750\r\n",
      "6148.3\t2457396\t0.5006992493422887\t0.5006992493424768\t16.25\t4326041514317375\t4326041514319000\r\n",
      "6148.2\t2457396\t0.5007005963399161\t0.5007005963400029\t7.49\t4326053152376876\t4326053152377625\r\n",
      "6148.3\t2457396\t0.5007005963401910\t0.5007005963404514\t22.49\t4326053152379250\t4326053152381500\r\n",
      "6148.4\t2457396\t0.5007005963401765\t0.5007005963404658\t25.00\t4326053152379125\t4326053152381624\r\n",
      "6148.1\t2457396\t0.5014987243978154\t0.5014987243980903\t23.75\t4332948978797125\t4332948978799500\r\n",
      "6148.2\t2457396\t0.5014987243980759\t0.5014987243982495\t15.00\t4332948978799376\t4332948978800875\r\n",
      "6148.1\t2457396\t0.5020062862072049\t0.5020062862076967\t42.49\t4337334312830250\t4337334312834500\r\n",
      "6148.2\t2457396\t0.5020062862074218\t0.5020062862076389\t18.75\t4337334312832125\t4337334312834000\r\n",
      "6148.2\t2457396\t0.5020062862076823\t0.5020062862078704\t16.25\t4337334312834374\t4337334312836000\r\n",
      "6148.2\t2457396\t0.5020062862086806\t0.5020062862088253\t12.50\t4337334312843000\t4337334312844250\r\n",
      "6148.1\t2457396\t0.5021121718857783\t0.5021121718861401\t31.26\t4338249165093124\t4338249165096250\r\n",
      "6148.2\t2457396\t0.5021121718860532\t0.5021121718865741\t45.01\t4338249165095500\t4338249165100000\r\n",
      "6148.3\t2457396\t0.5021121718866174\t0.5021121718867042\t7.50\t4338249165100374\t4338249165101124\r\n",
      "6148.4\t2457396\t0.5021121718865018\t0.5021121718868924\t33.75\t4338249165099376\t4338249165102750\r\n",
      "6148.3\t2457396\t0.5021781527571470\t0.5021781527575087\t31.25\t4338819239821750\t4338819239824875\r\n",
      "6148.4\t2457396\t0.5021781527571325\t0.5021781527574218\t25.00\t4338819239821625\t4338819239824125\r\n",
      "6148.1\t2457396\t0.5023430585295574\t0.5023430585298612\t26.24\t4340244025695376\t4340244025698000\r\n",
      "6148.2\t2457396\t0.5023430585298176\t0.5023430585300203\t17.51\t4340244025697624\t4340244025699375\r\n",
      "6148.4\t2457396\t0.5023430585301071\t0.5023430585304110\t26.25\t4340244025700126\t4340244025702750\r\n",
      "6148.3\t2457396\t0.5023430585300781\t0.5023430585305989\t45.00\t4340244025699875\t4340244025704374\r\n",
      "6148.2\t2457396\t0.5024351469382090\t0.5024351469384260\t18.74\t4341039669546126\t4341039669548000\r\n"
     ]
    }
   ],
   "source": [
    "!head -25 test_data/6148.2016.0109.0.test.thresh"
   ]
  },
  {
   "cell_type": "markdown",
   "metadata": {},
   "source": [
    "Now, we'll execute\n",
    "\n",
    "`$ perl ./perl/Frequency.pl test_data/6148.2016.0109.0.test.thresh test_data/freqOut01 1 1 2`\n",
    "\n",
    "from the command line and see what changes.  After doing so, we can see that `freqOut01` was created in the `test_data/` folder, so we must be on the right track:"
   ]
  },
  {
   "cell_type": "code",
   "execution_count": 2,
   "metadata": {},
   "outputs": [
    {
     "name": "stdout",
     "output_type": "stream",
     "text": [
      "6119.2016.0104.1.test.thresh  freqOut01\t\t singleChannelOut4  sortOut51\r\n",
      "6148.2016.0109.0.test.thresh  singleChannelOut1  sortOut\r\n",
      "6203.2016.0104.1.test.thresh  singleChannelOut2  sortOut11\r\n",
      "combineOut\t\t      singleChannelOut3  sortOut15\r\n"
     ]
    }
   ],
   "source": [
    "!ls test_data"
   ]
  },
  {
   "cell_type": "code",
   "execution_count": 4,
   "metadata": {},
   "outputs": [
    {
     "name": "stdout",
     "output_type": "stream",
     "text": [
      "1 test_data/freqOut01\r\n"
     ]
    }
   ],
   "source": [
    "!wc -l test_data/freqOut01"
   ]
  },
  {
   "cell_type": "markdown",
   "metadata": {},
   "source": [
    "It only has one line, though! Better investigate further:"
   ]
  },
  {
   "cell_type": "code",
   "execution_count": 5,
   "metadata": {},
   "outputs": [
    {
     "name": "stdout",
     "output_type": "stream",
     "text": [
      "6149.000000\t1000\t4\r\n"
     ]
    }
   ],
   "source": [
    "!cat test_data/freqOut01"
   ]
  },
  {
   "cell_type": "markdown",
   "metadata": {},
   "source": []
  },
  {
   "cell_type": "markdown",
   "metadata": {},
   "source": [
    "It turns out that `SingleChannel` has a little bit more power, though.  It can actually handle multiple single channels at a time, as odd as that might sound.  We'll try specifying additional channels while adding additional respective output names for them:\n",
    "\n",
    "`$ perl ./perl/SingleChannel.pl test_data/6148.2016.0109.0.test.thresh \"test_data/singleChannelOut1 test_data/singleChannelOut2 test_data/singleChannelOut3 test_data/singleChannelOut4\" \"1 2 3 4\"`\n",
    "\n",
    "(for multiple channels/outputs, we have to add quotes `\"` to make sure `SingleChannel` knows which arguments are the output filenames and which are the channel numbers)\n",
    "\n",
    "If we run this from the command line, we do in fact get four separate output files:"
   ]
  },
  {
   "cell_type": "code",
   "execution_count": 6,
   "metadata": {},
   "outputs": [
    {
     "name": "stdout",
     "output_type": "stream",
     "text": [
      "6119.2016.0104.1.test.thresh\r\n",
      "6148.2016.0109.0.test.thresh\r\n",
      "6203.2016.0104.1.test.thresh\r\n",
      "combineOut\r\n",
      "singleChannelOut1\r\n",
      "singleChannelOut2\r\n",
      "singleChannelOut3\r\n",
      "singleChannelOut4\r\n",
      "sortOut\r\n",
      "sortOut11\r\n",
      "sortOut15\r\n",
      "sortOut51\r\n"
     ]
    }
   ],
   "source": [
    "!ls -1 test_data/"
   ]
  },
  {
   "cell_type": "markdown",
   "metadata": {},
   "source": [
    "Out of curiosity, let's line-count them using the UNIX `wc` utility:"
   ]
  },
  {
   "cell_type": "code",
   "execution_count": 12,
   "metadata": {},
   "outputs": [
    {
     "name": "stdout",
     "output_type": "stream",
     "text": [
      "258 test_data/singleChannelOut1\r\n"
     ]
    }
   ],
   "source": [
    "!wc -l test_data/singleChannelOut1"
   ]
  },
  {
   "cell_type": "code",
   "execution_count": 13,
   "metadata": {},
   "outputs": [
    {
     "name": "stdout",
     "output_type": "stream",
     "text": [
      "265 test_data/singleChannelOut2\r\n"
     ]
    }
   ],
   "source": [
    "!wc -l test_data/singleChannelOut2"
   ]
  },
  {
   "cell_type": "code",
   "execution_count": 14,
   "metadata": {},
   "outputs": [
    {
     "name": "stdout",
     "output_type": "stream",
     "text": [
      "239 test_data/singleChannelOut3\r\n"
     ]
    }
   ],
   "source": [
    "!wc -l test_data/singleChannelOut3"
   ]
  },
  {
   "cell_type": "code",
   "execution_count": 15,
   "metadata": {},
   "outputs": [
    {
     "name": "stdout",
     "output_type": "stream",
     "text": [
      "238 test_data/singleChannelOut4\r\n"
     ]
    }
   ],
   "source": [
    "!wc -l test_data/singleChannelOut4"
   ]
  },
  {
   "cell_type": "markdown",
   "metadata": {},
   "source": [
    "Recall that the original input threshold file `6148.2016.0109.0.test.thresh` had 1003 lines - three header lines, and 1000 data lines."
   ]
  },
  {
   "cell_type": "markdown",
   "metadata": {},
   "source": [
    "**Exercise 1**\n",
    "\n",
    "Add the line counts of the four output files above.  Do you get what you expect?"
   ]
  },
  {
   "cell_type": "markdown",
   "metadata": {},
   "source": [
    "**Exercise 2**\n",
    "\n",
    "In a well-functioning cosmic ray muon detector using 4 channels, what percentage of the total number of counts do you expect each channel to record?  Using the example above of a file with 1000 counts, how many counts would you expect each channel to have?  If the actual results differ from what you would have expected, try to explain why."
   ]
  },
  {
   "cell_type": "markdown",
   "metadata": {},
   "source": [
    "**Exercise 3**\n",
    "\n",
    "Find a file with a much larger number of counts (that is, lines) than `6148.2016.0109.0.test.thresh` has, perhaps in the `files/` directory.  Repeat the above process of using `SingleChannel` to separate the file into individual-channel files, naming the outputs `test_data/singleChannelOut-Big1`, `test_data/singleChannelOut-Big2`, etc.  \n",
    "\n",
    "Calculate what percentage of the total number of counts each output file has.  How do these compare to your expectations?  How do they compare to the 1000 counts of `6148.2016.0109.0.test.thresh`?"
   ]
  },
  {
   "cell_type": "markdown",
   "metadata": {},
   "source": [
    "**A Word of Warning**\n",
    "\n",
    "If you've been playing around with word counts for a bit, you may have noticed that `SingleChannel` has a quirk: if you specify an output file that already exists, `SingleChannel` will *add to* the existing file rather than replacing it with the new output.  Most of the other e-Lab data transformations will replace the existing file, so this may represent a bug in this particular script.\n",
    "\n",
    "*Be aware of this when running similar commands multiple times!*"
   ]
  }
 ],
 "metadata": {
  "kernelspec": {
   "display_name": "Python 3",
   "language": "python",
   "name": "python3"
  },
  "language_info": {
   "codemirror_mode": {
    "name": "ipython",
    "version": 3
   },
   "file_extension": ".py",
   "mimetype": "text/x-python",
   "name": "python",
   "nbconvert_exporter": "python",
   "pygments_lexer": "ipython3",
   "version": "3.6.4"
  }
 },
 "nbformat": 4,
 "nbformat_minor": 2
}
