{
 "cells": [
  {
   "cell_type": "markdown",
   "metadata": {},
   "source": [
    "# Flux"
   ]
  },
  {
   "cell_type": "markdown",
   "metadata": {},
   "source": [
    "We can execute the Perl script `Flux.pl` by calling the Perl interpreter from the command line, providing it the name of the script as well as any parameters that it needs to work. \n",
    "\n",
    "The in-file comments in `Flux.pl` indicate that it should be invoked as\n",
    "\n",
    "`Flux.pl [file to read from] [file to output] [bin width (in seconds)] [base geometry directory path]`\n",
    "\n",
    "or\n",
    "\n",
    "`$ perl ./perl/Flux.pl [input file] [output file] [binWidth] [geometry directory]`"
   ]
  },
  {
   "cell_type": "markdown",
   "metadata": {},
   "source": [
    "* `[input file]`\n",
    "\n",
    "`Flux.pl` expects the first non-comment line of the input file to begin with a string of the form `<DAQ ID>.<channel>`.  This is satisfied by threshold files\n",
    "\n",
    "```\n",
    "#$md5\n",
    "#md5_hex(0)\n",
    "#ID.CHANNEL, Julian Day, RISING EDGE(sec), FALLING EDGE(sec), TIME OVER THRESHOLD (nanosec), RISING EDGE(INT), FALLING EDGE(INT)\n",
    "6119.1  2457392 0.3721863017828993      0.3721863017831598      22.50   3215689647404250        3215689647406500\n",
    "6119.3  2457392 0.3721863017829138      0.3721863017831598      21.25   3215689647404375        3215689647406500\n",
    "```\n",
    "\n",
    "as well as the outputs of `Sort.pl`, for example\n",
    "\n",
    "```\n",
    "#08dbf3a1551f89e93b94cba0748e9907\n",
    "#Combined data for files: 6119.2016.0104.1.wd 6203.2016.0104.1.wd \n",
    "6203.1  2457392 0.2452230125667072      0.2452230125670399      28.75\n",
    "6203.4  2457392 0.2452230125667216      0.2452230125670689      30.00\n",
    "6203.2  2457392 0.2452230125676070      0.2452230125680121      35.00\n",
    "```\n",
    "\n",
    "and `Combine.pl` if their inputs are of the appropriate form.\n",
    "\n",
    "If the input file doesn't meet this condition, `Flux.pl` (specifically, the `all_geo_info{}` subroutine of `CommonSubs.pl`) won't be able to load the appropriate geometry files."
   ]
  },
  {
   "cell_type": "markdown",
   "metadata": {},
   "source": [
    "* `[output file]`\n",
    "\n",
    "This is what the output file will be named."
   ]
  },
  {
   "cell_type": "markdown",
   "metadata": {},
   "source": [
    "* `[binWidth]`\n",
    "\n",
    "`Flux.pl` will divide the time span of the input data into bins of the given size.  It will then count the number of events recorded within each bin and return these values."
   ]
  },
  {
   "cell_type": "markdown",
   "metadata": {},
   "source": [
    "* `[geometry directory]`\n",
    "\n",
    "`Flux.pl` expects geometry files to be stored in a directory structure of the form\n",
    "\n",
    "```\n",
    "geo/\n",
    "├── 6119/\n",
    "│   └── 6119.geo\n",
    "├── 6148/\n",
    "│   └── 6148.geo\n",
    "└── 6203/\n",
    "    └── 6203.geo\n",
    "```\n",
    "\n",
    "where each DAQ has its own subdirectory whose name is the DAQ ID, and each such subdirectory has a geometry file  whose name is given by the DAQ ID with the `.geo` extension.  The command-line argument in this case is `geo/`, the parent directory."
   ]
  },
  {
   "cell_type": "markdown",
   "metadata": {},
   "source": [
    "`geo/6119/6119.geo`, `geo/6203/6203.geo`, and `sortOut` are available for testing.\n",
    "\n",
    "How does \n",
    "\n",
    "`$ perl ./perl/Flux.pl sortOut outputs/fluxOut01 600 geo/`\n",
    "\n",
    "work out?"
   ]
  },
  {
   "cell_type": "markdown",
   "metadata": {},
   "source": [
    "```\n",
    "jgriffith@krieger:~/git_project_roots/Cosmic/Analysis$ perl ./perl/Flux.pl sortOut outputs/fluxOut02 600 geo/\n",
    "md5s COMPUTED:fe97eecc196f3cc970305561896d7d19 FROMFILE:daf9e601c9c0ab4d08cd3b5ad53d847d\n",
    "jgriffith@krieger:~/git_project_roots/Cosmic/Analysis$ head outputs/fluxOut02 \n",
    "#fe97eecc196f3cc970305561896d7d19\n",
    "#md5_hex(1536259294 1533321097 sortOut outputs/fluxOut02 600 geo/)\n",
    "01/04/2016 17:58:07 21631.361405 167.153449\n",
    "01/04/2016 18:08:07 24711.960734 178.659872\n",
    "01/04/2016 18:18:07 24757.168690 178.823217\n",
    "01/04/2016 18:28:07 25145.957117 180.221874\n",
    "01/04/2016 21:08:07 12782.226815 128.492174\n",
    "01/04/2016 21:18:07 12760.268664 128.381760\n",
    "01/04/2016 21:28:07 12553.603720 127.337883\n",
    "01/04/2016 21:38:07 12903.642470 129.100991```"
   ]
  },
  {
   "cell_type": "markdown",
   "metadata": {},
   "source": []
  }
 ],
 "metadata": {
  "kernelspec": {
   "display_name": "Python 3",
   "language": "python",
   "name": "python3"
  },
  "language_info": {
   "codemirror_mode": {
    "name": "ipython",
    "version": 3
   },
   "file_extension": ".py",
   "mimetype": "text/x-python",
   "name": "python",
   "nbconvert_exporter": "python",
   "pygments_lexer": "ipython3",
   "version": "3.6.4"
  }
 },
 "nbformat": 4,
 "nbformat_minor": 2
}
