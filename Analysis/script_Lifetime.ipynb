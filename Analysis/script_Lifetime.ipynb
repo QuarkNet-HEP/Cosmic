{
 "cells": [
  {
   "cell_type": "markdown",
   "metadata": {},
   "source": [
    "# Muon Lifetime"
   ]
  },
  {
   "cell_type": "markdown",
   "metadata": {},
   "source": [
    "As cosmic ray muons travel through the detector, a few will decay inside the scintillator panels.  These decays can be used to estimate the lifetime of the muon."
   ]
  },
  {
   "cell_type": "markdown",
   "metadata": {},
   "source": [
    "What do we expect when a muon decays in flight?\n",
    "\n",
    "We arrange the detector panels in a vertical stack.  When we see a muon signal in the upper panels of the stack, but then we fail to see a signal in the lower panels, this is a good hint that the muon might have decayed within the detector volume."
   ]
  },
  {
   "cell_type": "markdown",
   "metadata": {},
   "source": [
    "The usage of the `Lifetime.pl` script is given as\n",
    "\n",
    "`Lifetime.pl [filename to open] [filename to save to] [gatewidth in seconds] [0 or 1 for check energy] [required coincidence Level 0 to n] [geometry directory]`\n",
    "\n",
    "or\n",
    "\n",
    "`$ perl perl/Lifetime.pl [input file] [output file] [gate width] [check energy] [coincidence] [geometry directory]`"
   ]
  },
  {
   "cell_type": "markdown",
   "metadata": {},
   "source": [
    "Try this:\n",
    "* `[input file]` = `sortOut` (already exists from earlier work)\n",
    "* `[output file]` = `outputs/lifetimeOut_Lifetime`\n",
    "* `[gate width]` = `1e-5`\n",
    "* `[check energy]` = `0`\n",
    "* `[coincidence]` = `1`\n",
    "* `[geometry directory]` = `./geo`\n",
    "\n",
    "`$ perl perl/Lifetime.pl sortOut outputs/lifetimeOut_Lifetime 1e-5 0 1 ./geo`"
   ]
  },
  {
   "cell_type": "markdown",
   "metadata": {},
   "source": [
    "```\n",
    "jgriffith@krieger:~/git_project_roots/Cosmic/Analysis$ head -10 outputs/lifetimeOut_Lifetime \n",
    "# channelNumb JulianDay PossibleDecayLength(MicroSeconds) StartDecay EndDecay FirstSignalTimeOverThreshold(nanoseconds) SecondSignalTimeoverThreshold(nanoseconds) PossibleDecayNumber\n",
    "6203.4  2457392 3.99125 0.2461358163203096      0.2461358163665046      22.50   35.00   1\n",
    "6203.1  2457392 3.99125 0.2461358163203386      0.2461358163665336      38.75   25.00   1\n",
    "6203.4  2457392 3.96500 0.2461358163206134      0.2461358163665046      22.50   35.00   1\n",
    "6203.2  2457392 3.99125 0.2461358163212095      0.2461358163674045      62.50   27.50   1\n",
    "6203.4  2457392 0.58125 0.2466854231135822      0.2466854231203096      26.25   32.50   1\n",
    "6203.1  2457392 0.58250 0.2466854231136401      0.2466854231203820      36.25   28.75   1\n",
    "6203.4  2457392 0.55125 0.2466854231139294      0.2466854231203096      20.00   32.50   1\n",
    "6203.2  2457392 0.58000 0.2466854231144821      0.2466854231211950      40.00   62.50   1\n",
    "6203.2  2457392 0.53875 0.2466854231149595      0.2466854231211950      26.25   62.50   1\n",
    "```"
   ]
  }
 ],
 "metadata": {
  "kernelspec": {
   "display_name": "Python 3",
   "language": "python",
   "name": "python3"
  },
  "language_info": {
   "codemirror_mode": {
    "name": "ipython",
    "version": 3
   },
   "file_extension": ".py",
   "mimetype": "text/x-python",
   "name": "python",
   "nbconvert_exporter": "python",
   "pygments_lexer": "ipython3",
   "version": "3.6.4"
  }
 },
 "nbformat": 4,
 "nbformat_minor": 2
}
