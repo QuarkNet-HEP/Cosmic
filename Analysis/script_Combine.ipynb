{
 "cells": [
  {
   "cell_type": "markdown",
   "metadata": {},
   "source": [
    "# Combine"
   ]
  },
  {
   "cell_type": "markdown",
   "metadata": {},
   "source": [
    "The e-Lab studies use the `Combine.pl` script for workflows that feature multiple input files.  As you might guess from its name, this script combines data from two (or more) files into a single dataset in a single file.  This can be useful when we want to examine data from an extended time period - so large that its original data had to be broken into smaller files for upload and storage - or when we want to examine data from more than one individual detector."
   ]
  },
  {
   "cell_type": "markdown",
   "metadata": {},
   "source": [
    "## Using Combine.pl"
   ]
  },
  {
   "cell_type": "markdown",
   "metadata": {},
   "source": [
    "To use the data transformation script `Combine.pl`, we provide it with any number of input files followed by what we want it to name the output file it creates:\n",
    "\n",
    "`$ perl ./perl/Combine.pl <input file 1> <input file 2> ... <input file N> <output file>`\n",
    "\n",
    "where the items in angled brackets `<>` are parameters we have to specify.  These are:\n",
    "\n",
    "* `input file`:  The name of a file to be used as input; we can specify as many as we like\n",
    "* `output file`: What we want to name the output file that the script will write its results to"
   ]
  },
  {
   "cell_type": "markdown",
   "metadata": {},
   "source": [
    "### Combining data over time"
   ]
  },
  {
   "cell_type": "markdown",
   "metadata": {},
   "source": [
    "QuarkNet's cosmic ray muon detectors can take data continuously, and it's not unusual for users to run their detectors for days at a time.  For example, the three Threshold files\n",
    "\n",
    "`6148.2018.0602.0.thresh`\n",
    "\n",
    "`6148.2018.0603.0.thresh`\n",
    "\n",
    "and\n",
    "\n",
    "`6148.2018.0604.0.thresh`\n",
    "\n",
    "contain data gathered over the 3-day period from June 2 to June 4, 2018.  The Cosmic Ray e-Lab breaks such data up into individual days for the sake of organization and to keep files from becoming unmanageably large.  When running studies on the data, though, we may want to consider the entire run as a single dataset.  The `Combine` data transformation lets us do that."
   ]
  },
  {
   "cell_type": "markdown",
   "metadata": {},
   "source": [
    "As always, we'll start by examining the input data before we apply any transformation to it.  Look at the first 5 and last 5 data lines of each of these three files:"
   ]
  },
  {
   "cell_type": "code",
   "execution_count": 4,
   "metadata": {},
   "outputs": [
    {
     "name": "stdout",
     "output_type": "stream",
     "text": [
      "#$md5\r\n",
      "#md5_hex(0)\r\n",
      "#ID.CHANNEL, Julian Day, RISING EDGE(sec), FALLING EDGE(sec), TIME OVER THRESHOLD (nanosec), RISING EDGE(INT), FALLING EDGE(INT)\r\n",
      "6148.2\t2458271\t0.5001851099136574\t0.5001851099139322\t23.74\t4321599349654000\t4321599349656374\r\n",
      "6148.2\t2458271\t0.5001851099139611\t0.5001851099141927\t20.01\t4321599349656624\t4321599349658625\r\n",
      "6148.3\t2458271\t0.5001851099140625\t0.5001851099144532\t33.76\t4321599349657500\t4321599349660876\r\n",
      "6148.2\t2458271\t0.5002396629087673\t0.5002396629089699\t17.51\t4322070687531750\t4322070687533500\r\n",
      "6148.3\t2458271\t0.5002396629091435\t0.5002396629093895\t21.26\t4322070687535000\t4322070687537125\r\n",
      "...\r\n",
      "6148.4\t2458272\t0.4996444257415654\t0.4996444257419126\t30.00\t4316927838407125\t4316927838410125\r\n",
      "6148.2\t2458272\t0.4997058953934896\t0.4997058953937355\t21.24\t4317458936199750\t4317458936201875\r\n",
      "6148.3\t2458272\t0.4997058953939526\t0.4997058953940539\t8.75\t4317458936203750\t4317458936204625\r\n",
      "6148.2\t2458272\t0.4998563698267506\t0.4998563698271123\t31.25\t4318759035303125\t4318759035306250\r\n",
      "6148.3\t2458272\t0.4998563698271846\t0.4998563698274595\t23.75\t4318759035306875\t4318759035309250\r\n"
     ]
    }
   ],
   "source": [
    "!head -8 files/6148.2018.0602.0.thresh ; echo \"...\" ; tail -5 files/6148.2018.0602.0.thresh"
   ]
  },
  {
   "cell_type": "code",
   "execution_count": 5,
   "metadata": {},
   "outputs": [
    {
     "name": "stdout",
     "output_type": "stream",
     "text": [
      "#$md5\r\n",
      "#md5_hex(0)\r\n",
      "#ID.CHANNEL, Julian Day, RISING EDGE(sec), FALLING EDGE(sec), TIME OVER THRESHOLD (nanosec), RISING EDGE(INT), FALLING EDGE(INT)\r\n",
      "6148.2\t2458272\t0.5002601237136719\t0.5002601237139034\t20.00\t4322247468886125\t4322247468888125\r\n",
      "6148.3\t2458272\t0.5002601237140480\t0.5002601237144098\t31.25\t4322247468889375\t4322247468892500\r\n",
      "6148.2\t2458272\t0.5002869503800058\t0.5002869503802229\t18.75\t4322479251283250\t4322479251285125\r\n",
      "6148.3\t2458272\t0.5002869503804398\t0.5002869503808015\t31.25\t4322479251287000\t4322479251290125\r\n",
      "6148.2\t2458272\t0.5003048243718605\t0.5003048243721354\t23.75\t4322633682572875\t4322633682575250\r\n",
      "...\r\n",
      "6148.3\t2458273\t0.4998297218178096\t0.4998297218180411\t20.00\t4318528796505875\t4318528796507875\r\n",
      "6148.2\t2458273\t0.4999118278728298\t0.4999118278731626\t28.75\t4319238192821250\t4319238192824125\r\n",
      "6148.2\t2458273\t0.4999118278731915\t0.4999118278733796\t16.25\t4319238192824374\t4319238192826000\r\n",
      "6148.4\t2458273\t0.4999118278733073\t0.4999118278734520\t12.50\t4319238192825375\t4319238192826625\r\n",
      "6148.3\t2458273\t0.4999118278733652\t0.4999118278736256\t22.50\t4319238192825875\t4319238192828126\r\n"
     ]
    }
   ],
   "source": [
    "!head -8 files/6148.2018.0603.0.thresh ; echo \"...\" ; tail -5 files/6148.2018.0603.0.thresh"
   ]
  },
  {
   "cell_type": "code",
   "execution_count": 6,
   "metadata": {},
   "outputs": [
    {
     "name": "stdout",
     "output_type": "stream",
     "text": [
      "#$md5\r\n",
      "#md5_hex(0)\r\n",
      "#ID.CHANNEL, Julian Day, RISING EDGE(sec), FALLING EDGE(sec), TIME OVER THRESHOLD (nanosec), RISING EDGE(INT), FALLING EDGE(INT)\r\n",
      "6148.2\t2458273\t0.5003691139060619\t0.5003691139063513\t25.01\t4323189144148375\t4323189144150875\r\n",
      "6148.3\t2458273\t0.5003691139064960\t0.5003691139068287\t28.75\t4323189144152125\t4323189144155000\r\n",
      "6148.2\t2458273\t0.5004505377767506\t0.5004505377769820\t19.99\t4323892646391125\t4323892646393124\r\n",
      "6148.3\t2458273\t0.5004505377772280\t0.5004505377775318\t26.24\t4323892646395250\t4323892646397875\r\n",
      "6148.2\t2458273\t0.5004672020113861\t0.5004672020117332\t30.00\t4324036625378375\t4324036625381375\r\n",
      "...\r\n",
      "6148.3\t2458274\t0.4997994782379630\t0.4997994782382378\t23.75\t4318267491976000\t4318267491978375\r\n",
      "6148.1\t2458274\t0.4998511005815972\t0.4998511005818142\t18.75\t4318713509025000\t4318713509026875\r\n",
      "6148.3\t2458274\t0.4998511005818432\t0.4998511005820891\t21.25\t4318713509027125\t4318713509029250\r\n",
      "6148.2\t2458274\t0.4999579281848959\t0.4999579281853009\t34.99\t4319636499517500\t4319636499521000\r\n",
      "6148.3\t2458274\t0.4999579281853588\t0.4999579281855758\t18.75\t4319636499521500\t4319636499523375\r\n"
     ]
    }
   ],
   "source": [
    "!head -8 files/6148.2018.0604.0.thresh ; echo \"...\" ; tail -5 files/6148.2018.0604.0.thresh"
   ]
  },
  {
   "cell_type": "markdown",
   "metadata": {},
   "source": [
    "In the clock system the e-Lab uses to record rising and falling edge times, the value `0.5` represents midnight in [Coordinated Universal Time](https://en.wikipedia.org/wiki/Coordinated_Universal_Time) (UTC).  So, the first file (`6148.2018.0602.0.thresh`) begins just after UTC midnight on the [Julian day](https://en.wikipedia.org/wiki/Julian_day) 2458271, which is June 1, 2018 (here's a [Julian day converter](http://www.onlineconversion.com/julian_date.htm) for the curious), and it ends just before midnight on the Julian day 2458272, which is June 2, 2018.  The next two files continue this pattern into the next two days."
   ]
  },
  {
   "cell_type": "markdown",
   "metadata": {},
   "source": [
    "*Challenge: explain the mismatch in dates.  I think it's because the e-Labs measure days as noon-to-noon UTC, while the Julian day is midnight-to-midnight UTC.  Or, it might be a simpler time zone issue*"
   ]
  },
  {
   "cell_type": "markdown",
   "metadata": {},
   "source": [
    "We can also check the number of lines in each file using the UNIX utility `wc` (short for \"word count\") with the `-l` flag to count lines instead of words:"
   ]
  },
  {
   "cell_type": "code",
   "execution_count": 8,
   "metadata": {},
   "outputs": [
    {
     "name": "stdout",
     "output_type": "stream",
     "text": [
      "23055 files/6148.2018.0602.0.thresh\r\n"
     ]
    }
   ],
   "source": [
    "!wc -l files/6148.2018.0602.0.thresh"
   ]
  },
  {
   "cell_type": "code",
   "execution_count": 9,
   "metadata": {},
   "outputs": [
    {
     "name": "stdout",
     "output_type": "stream",
     "text": [
      "23468 files/6148.2018.0603.0.thresh\r\n"
     ]
    }
   ],
   "source": [
    "!wc -l files/6148.2018.0603.0.thresh"
   ]
  },
  {
   "cell_type": "code",
   "execution_count": 10,
   "metadata": {},
   "outputs": [
    {
     "name": "stdout",
     "output_type": "stream",
     "text": [
      "23449 files/6148.2018.0604.0.thresh\r\n"
     ]
    }
   ],
   "source": [
    "!wc -l files/6148.2018.0604.0.thresh"
   ]
  },
  {
   "cell_type": "markdown",
   "metadata": {},
   "source": [
    "### Applying the data transformation"
   ]
  },
  {
   "cell_type": "markdown",
   "metadata": {},
   "source": [
    "We'll use `Combine` to join these three test files into a single dataset, calling it `combineOut-6148`:"
   ]
  },
  {
   "cell_type": "code",
   "execution_count": 11,
   "metadata": {},
   "outputs": [],
   "source": [
    "!perl ./perl/Combine.pl files/6148.2018.0602.0.thresh files/6148.2018.0603.0.thresh files/6148.2018.0604.0.thresh outputs/combineOut-6148"
   ]
  },
  {
   "cell_type": "markdown",
   "metadata": {},
   "source": [
    "Now we'll examine the output file the same way we did for the input file:"
   ]
  },
  {
   "cell_type": "code",
   "execution_count": 12,
   "metadata": {},
   "outputs": [
    {
     "name": "stdout",
     "output_type": "stream",
     "text": [
      "#16457cb3f02c44fe538b5c73ef984126\r\n",
      "#md5_hex(1528996872 1529340168 1529340168 1529340169  files/6148.2018.0602.0.thresh files/6148.2018.0603.0.thresh files/6148.2018.0604.0.thresh)\r\n",
      "#Combined data for files: files/6148.2018.0602.0.thresh files/6148.2018.0603.0.thresh files/6148.2018.0604.0.thresh \r\n",
      "6148.2\t2458271\t0.5001851099136574\t0.5001851099139322\t23.74\t4321599349654000\t4321599349656374\r\n",
      "6148.2\t2458271\t0.5001851099139611\t0.5001851099141927\t20.01\t4321599349656624\t4321599349658625\r\n",
      "6148.3\t2458271\t0.5001851099140625\t0.5001851099144532\t33.76\t4321599349657500\t4321599349660876\r\n",
      "6148.2\t2458271\t0.5002396629087673\t0.5002396629089699\t17.51\t4322070687531750\t4322070687533500\r\n",
      "6148.3\t2458271\t0.5002396629091435\t0.5002396629093895\t21.26\t4322070687535000\t4322070687537125\r\n",
      "...\r\n",
      "6148.3\t2458274\t0.4997994782379630\t0.4997994782382378\t23.75\t4318267491976000\t4318267491978375\r\n",
      "6148.1\t2458274\t0.4998511005815972\t0.4998511005818142\t18.75\t4318713509025000\t4318713509026875\r\n",
      "6148.3\t2458274\t0.4998511005818432\t0.4998511005820891\t21.25\t4318713509027125\t4318713509029250\r\n",
      "6148.2\t2458274\t0.4999579281848959\t0.4999579281853009\t34.99\t4319636499517500\t4319636499521000\r\n",
      "6148.3\t2458274\t0.4999579281853588\t0.4999579281855758\t18.75\t4319636499521500\t4319636499523375\r\n"
     ]
    }
   ],
   "source": [
    "!head -8 outputs/combineOut-6148; echo \"...\" ; tail -5 outputs/combineOut-6148"
   ]
  },
  {
   "cell_type": "markdown",
   "metadata": {},
   "source": [
    "We can see at a glance that the first five data lines of the output are the first five data lines of the first input file, and the last five data lines of the output are the same as the last five data lines of the last input file.  That's what we'd expect for a transformation that does nothing but concatenate files together."
   ]
  },
  {
   "cell_type": "markdown",
   "metadata": {},
   "source": [
    "What's more, we can check the line count of the output file:"
   ]
  },
  {
   "cell_type": "code",
   "execution_count": 13,
   "metadata": {},
   "outputs": [
    {
     "name": "stdout",
     "output_type": "stream",
     "text": [
      "69966 outputs/combineOut-6148\r\n"
     ]
    }
   ],
   "source": [
    "!wc -l outputs/combineOut-6148"
   ]
  },
  {
   "cell_type": "markdown",
   "metadata": {},
   "source": [
    "Is this number what you expect it to be?"
   ]
  },
  {
   "cell_type": "markdown",
   "metadata": {},
   "source": []
  },
  {
   "cell_type": "markdown",
   "metadata": {},
   "source": [
    "### Combining data over time"
   ]
  },
  {
   "cell_type": "markdown",
   "metadata": {},
   "source": []
  },
  {
   "cell_type": "code",
   "execution_count": null,
   "metadata": {},
   "outputs": [],
   "source": []
  },
  {
   "cell_type": "markdown",
   "metadata": {},
   "source": [
    "---"
   ]
  },
  {
   "cell_type": "markdown",
   "metadata": {},
   "source": [
    "Now we'll see what happens when we run these through `Combine.pl` using\n",
    "\n",
    "`$ perl ./perl/Combine.pl test_data/6119.2016.0104.1.test.thresh test_data/6203.2016.0104.1.test.thresh test_data/combineOut`\n",
    "\n",
    "The file `combineOut` gets created in the `test_data/` directory.  Before we try to `cat` it, let's see how many lines it is:"
   ]
  },
  {
   "cell_type": "code",
   "execution_count": 5,
   "metadata": {},
   "outputs": [
    {
     "name": "stdout",
     "output_type": "stream",
     "text": [
      "17 test_data/combineOut\r\n"
     ]
    }
   ],
   "source": [
    "!wc -l test_data/combineOut"
   ]
  },
  {
   "cell_type": "markdown",
   "metadata": {},
   "source": [
    "Not so bad.  Let's take a look:"
   ]
  },
  {
   "cell_type": "code",
   "execution_count": 6,
   "metadata": {},
   "outputs": [
    {
     "name": "stdout",
     "output_type": "stream",
     "text": [
      "#344f56cc2ab825588ae1315357ab3096\r\n",
      "#md5_hex(1528996872 1530043861 1530043909  test_data/6119.2016.0104.1.test.thresh test_data/6203.2016.0104.1.test.thresh)\r\n",
      "#Combined data for files: test_data/6119.2016.0104.1.test.thresh test_data/6203.2016.0104.1.test.thresh \r\n",
      "6119.1\t2457392\t0.3721863017828993\t0.3721863017831598\t22.50\t3215689647404250\t3215689647406500\r\n",
      "6119.3\t2457392\t0.3721863017829138\t0.3721863017831598\t21.25\t3215689647404375\t3215689647406500\r\n",
      "6119.2\t2457392\t0.3721885846820747\t0.3721885846822772\t17.50\t3215709371653125\t3215709371654875\r\n",
      "6119.4\t2457392\t0.3721885846820747\t0.3721885846822917\t18.75\t3215709371653125\t3215709371655000\r\n",
      "6119.4\t2457392\t0.3721901866161603\t0.3721901866163773\t18.75\t3215723212363625\t3215723212365500\r\n",
      "6119.1\t2457392\t0.3721901866161748\t0.3721901866164496\t23.75\t3215723212363750\t3215723212366125\r\n",
      "6119.1\t2457392\t0.3721903650327546\t0.3721903650329427\t16.25\t3215724753883000\t3215724753884625\r\n",
      "6203.1\t2457392\t0.2452114384916088\t0.2452114384919415\t28.75\t2118626828567500\t2118626828570375\r\n",
      "6203.4\t2457392\t0.2452114384916232\t0.2452114384919705\t30.00\t2118626828567625\t2118626828570625\r\n",
      "6203.2\t2457392\t0.2452114384916232\t0.2452114384920283\t35.00\t2118626828567625\t2118626828571125\r\n",
      "6203.1\t2457392\t0.2452182596452402\t0.2452182596455440\t26.25\t2118685763334875\t2118685763337500\r\n",
      "6203.4\t2457392\t0.2452182596452402\t0.2452182596455874\t30.00\t2118685763334875\t2118685763337875\r\n",
      "6203.2\t2457392\t0.2452182596452402\t0.2452182596456308\t33.75\t2118685763334875\t2118685763338250\r\n",
      "6203.4\t2457392\t0.2452190121639323\t0.2452190121641204\t16.25\t2118692265096375\t2118692265098000\r\n"
     ]
    }
   ],
   "source": [
    "!cat test_data/combineOut"
   ]
  },
  {
   "cell_type": "markdown",
   "metadata": {},
   "source": [
    "From the name `Combine.pl`, it's not hard to guess that the data transformation takes all of its input files and combines them into one file, and that's exactly what we see here.\n",
    "\n",
    "Each of the input files was 10 lines long -- 3 lines of header, and 7 lines of data.  Here, we have a new header of 3 lines followed by 14 lines of data, for a total of 17 lines (just like `wc -l` gave us).  All of the data from the first input file, `test_data/6119.2016.0104.1.test.thresh`, comes first, followed by all of the data from the second input file, `test_data/6203.2016.0104.1.test.thresh`.  All the data is kept in the same order, and individual lines have not been altered: all of the columns, values, and decimal places from the original threshold files are the same."
   ]
  }
 ],
 "metadata": {
  "kernelspec": {
   "display_name": "Python 3",
   "language": "python",
   "name": "python3"
  },
  "language_info": {
   "codemirror_mode": {
    "name": "ipython",
    "version": 3
   },
   "file_extension": ".py",
   "mimetype": "text/x-python",
   "name": "python",
   "nbconvert_exporter": "python",
   "pygments_lexer": "ipython3",
   "version": "3.6.4"
  }
 },
 "nbformat": 4,
 "nbformat_minor": 2
}
