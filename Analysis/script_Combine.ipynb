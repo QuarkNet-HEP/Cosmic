{
 "cells": [
  {
   "cell_type": "markdown",
   "metadata": {},
   "source": [
    "# Combine"
   ]
  },
  {
   "cell_type": "markdown",
   "metadata": {},
   "source": [
    "To use the data transformation script `Combine.pl`, we provide it with any number of input files (which must already exist) followed by what we want it to name the output file it creates:\n",
    "\n",
    "`$ perl ./perl/Combine.pl [input file 1] [input file 2] ... [input file N] [output file]`\n",
    "\n",
    "We'll try it out on the test data in the `test_data` directory.  Use the UNIX shell command `$ ls test_data` to see what's there:"
   ]
  },
  {
   "cell_type": "code",
   "execution_count": 1,
   "metadata": {},
   "outputs": [
    {
     "name": "stdout",
     "output_type": "stream",
     "text": [
      "6119.2016.0104.1.test.thresh  6203.2016.0104.1.test.thresh\r\n"
     ]
    }
   ],
   "source": [
    "!ls test_data"
   ]
  },
  {
   "cell_type": "markdown",
   "metadata": {},
   "source": [
    "We'll run\n",
    "\n",
    "`$ perl ./perl/Combine.pl test_data/6119.2016.0104.1.test.thresh test_data/6203.2016.0104.1.test.thresh test_data/combineOut`\n",
    "\n",
    "to see what happens.  Before we do, though, let's get a closer look at the input files with the UNIX shell command `$ cat [filename]`."
   ]
  },
  {
   "cell_type": "markdown",
   "metadata": {},
   "source": [
    "**WARNING**\n",
    "\n",
    "`$ cat` will print out the entire contents of `[filename]`.  Some of the data files used in the e-Labs are hundreds of thousands of lines long.  Trying to pipe that through a Jupyter Notebook might break it, and it will certainly impact readability.\n",
    "\n",
    "The test data files we're about to examine have been specially prepared to be small for readability -- about 10 lines.  If you're not sure, though, check the line count with `$ wc -l [filename]` before `cat`-ting"
   ]
  },
  {
   "cell_type": "code",
   "execution_count": 2,
   "metadata": {},
   "outputs": [
    {
     "name": "stdout",
     "output_type": "stream",
     "text": [
      "10 test_data/6119.2016.0104.1.test.thresh\r\n"
     ]
    }
   ],
   "source": [
    "!wc -l test_data/6119.2016.0104.1.test.thresh"
   ]
  },
  {
   "cell_type": "markdown",
   "metadata": {},
   "source": [
    "(`wc` stands for \"word count\", and the `-l` flag means \"but count lines instead of words.\" The first number in the output, before the filename, is the number of lines, in this case 10)"
   ]
  },
  {
   "cell_type": "markdown",
   "metadata": {},
   "source": [
    "That's a reasonable number of lines, and `test_data/6203.2016.0104.1.test.thresh` is pretty much the same (check for yourself if you don't believe me), so let's take a look at them:"
   ]
  },
  {
   "cell_type": "code",
   "execution_count": 3,
   "metadata": {},
   "outputs": [
    {
     "name": "stdout",
     "output_type": "stream",
     "text": [
      "#$md5\r\n",
      "#md5_hex(0)\r\n",
      "#ID.CHANNEL, Julian Day, RISING EDGE(sec), FALLING EDGE(sec), TIME OVER THRESHOLD (nanosec), RISING EDGE(INT), FALLING EDGE(INT)\r\n",
      "6119.1\t2457392\t0.3721863017828993\t0.3721863017831598\t22.50\t3215689647404250\t3215689647406500\r\n",
      "6119.3\t2457392\t0.3721863017829138\t0.3721863017831598\t21.25\t3215689647404375\t3215689647406500\r\n",
      "6119.2\t2457392\t0.3721885846820747\t0.3721885846822772\t17.50\t3215709371653125\t3215709371654875\r\n",
      "6119.4\t2457392\t0.3721885846820747\t0.3721885846822917\t18.75\t3215709371653125\t3215709371655000\r\n",
      "6119.4\t2457392\t0.3721901866161603\t0.3721901866163773\t18.75\t3215723212363625\t3215723212365500\r\n",
      "6119.1\t2457392\t0.3721901866161748\t0.3721901866164496\t23.75\t3215723212363750\t3215723212366125\r\n",
      "6119.1\t2457392\t0.3721903650327546\t0.3721903650329427\t16.25\t3215724753883000\t3215724753884625\r\n"
     ]
    }
   ],
   "source": [
    "!cat test_data/6119.2016.0104.1.test.thresh"
   ]
  },
  {
   "cell_type": "code",
   "execution_count": 4,
   "metadata": {},
   "outputs": [
    {
     "name": "stdout",
     "output_type": "stream",
     "text": [
      "#$md5\r\n",
      "#md5_hex(0)\r\n",
      "#ID.CHANNEL, Julian Day, RISING EDGE(sec), FALLING EDGE(sec), TIME OVER THRESHOLD (nanosec), RISING EDGE(INT), FALLING EDGE(INT)\r\n",
      "6203.1\t2457392\t0.2452114384916088\t0.2452114384919415\t28.75\t2118626828567500\t2118626828570375\r\n",
      "6203.4\t2457392\t0.2452114384916232\t0.2452114384919705\t30.00\t2118626828567625\t2118626828570625\r\n",
      "6203.2\t2457392\t0.2452114384916232\t0.2452114384920283\t35.00\t2118626828567625\t2118626828571125\r\n",
      "6203.1\t2457392\t0.2452182596452402\t0.2452182596455440\t26.25\t2118685763334875\t2118685763337500\r\n",
      "6203.4\t2457392\t0.2452182596452402\t0.2452182596455874\t30.00\t2118685763334875\t2118685763337875\r\n",
      "6203.2\t2457392\t0.2452182596452402\t0.2452182596456308\t33.75\t2118685763334875\t2118685763338250\r\n",
      "6203.4\t2457392\t0.2452190121639323\t0.2452190121641204\t16.25\t2118692265096375\t2118692265098000\r\n"
     ]
    }
   ],
   "source": [
    "!cat test_data/6203.2016.0104.1.test.thresh"
   ]
  },
  {
   "cell_type": "markdown",
   "metadata": {},
   "source": [
    "Now we'll see what happens when we run these through `Combine.pl` using\n",
    "\n",
    "`$ perl ./perl/Combine.pl test_data/6119.2016.0104.1.test.thresh test_data/6203.2016.0104.1.test.thresh test_data/combineOut`\n",
    "\n",
    "The file `combineOut` gets created in the `test_data/` directory.  Before we try to `cat` it, let's see how many lines it is:"
   ]
  },
  {
   "cell_type": "code",
   "execution_count": 5,
   "metadata": {},
   "outputs": [
    {
     "name": "stdout",
     "output_type": "stream",
     "text": [
      "17 test_data/combineOut\r\n"
     ]
    }
   ],
   "source": [
    "!wc -l test_data/combineOut"
   ]
  },
  {
   "cell_type": "markdown",
   "metadata": {},
   "source": [
    "Not so bad.  Let's take a look:"
   ]
  },
  {
   "cell_type": "code",
   "execution_count": 6,
   "metadata": {},
   "outputs": [
    {
     "name": "stdout",
     "output_type": "stream",
     "text": [
      "#344f56cc2ab825588ae1315357ab3096\r\n",
      "#md5_hex(1528996872 1530043861 1530043909  test_data/6119.2016.0104.1.test.thresh test_data/6203.2016.0104.1.test.thresh)\r\n",
      "#Combined data for files: test_data/6119.2016.0104.1.test.thresh test_data/6203.2016.0104.1.test.thresh \r\n",
      "6119.1\t2457392\t0.3721863017828993\t0.3721863017831598\t22.50\t3215689647404250\t3215689647406500\r\n",
      "6119.3\t2457392\t0.3721863017829138\t0.3721863017831598\t21.25\t3215689647404375\t3215689647406500\r\n",
      "6119.2\t2457392\t0.3721885846820747\t0.3721885846822772\t17.50\t3215709371653125\t3215709371654875\r\n",
      "6119.4\t2457392\t0.3721885846820747\t0.3721885846822917\t18.75\t3215709371653125\t3215709371655000\r\n",
      "6119.4\t2457392\t0.3721901866161603\t0.3721901866163773\t18.75\t3215723212363625\t3215723212365500\r\n",
      "6119.1\t2457392\t0.3721901866161748\t0.3721901866164496\t23.75\t3215723212363750\t3215723212366125\r\n",
      "6119.1\t2457392\t0.3721903650327546\t0.3721903650329427\t16.25\t3215724753883000\t3215724753884625\r\n",
      "6203.1\t2457392\t0.2452114384916088\t0.2452114384919415\t28.75\t2118626828567500\t2118626828570375\r\n",
      "6203.4\t2457392\t0.2452114384916232\t0.2452114384919705\t30.00\t2118626828567625\t2118626828570625\r\n",
      "6203.2\t2457392\t0.2452114384916232\t0.2452114384920283\t35.00\t2118626828567625\t2118626828571125\r\n",
      "6203.1\t2457392\t0.2452182596452402\t0.2452182596455440\t26.25\t2118685763334875\t2118685763337500\r\n",
      "6203.4\t2457392\t0.2452182596452402\t0.2452182596455874\t30.00\t2118685763334875\t2118685763337875\r\n",
      "6203.2\t2457392\t0.2452182596452402\t0.2452182596456308\t33.75\t2118685763334875\t2118685763338250\r\n",
      "6203.4\t2457392\t0.2452190121639323\t0.2452190121641204\t16.25\t2118692265096375\t2118692265098000\r\n"
     ]
    }
   ],
   "source": [
    "!cat test_data/combineOut"
   ]
  },
  {
   "cell_type": "markdown",
   "metadata": {},
   "source": [
    "From the name `Combine.pl`, it's not hard to guess that the data transformation takes all of its input files and combines them into one file, and that's exactly what we see here.\n",
    "\n",
    "Each of the input files was 10 lines long -- 3 lines of header, and 7 lines of data.  Here, we have a new header of 3 lines followed by 14 lines of data, for a total of 17 lines (just like `wc -l` gave us).  All of the data from the first input file, `test_data/6119.2016.0104.1.test.thresh`, comes first, followed by all of the data from the second input file, `test_data/6203.2016.0104.1.test.thresh`.  All the data is kept in the same order, and individual lines have not been altered: all of the columns, values, and decimal places from the original threshold files are the same."
   ]
  }
 ],
 "metadata": {
  "kernelspec": {
   "display_name": "Python 3",
   "language": "python",
   "name": "python3"
  },
  "language_info": {
   "codemirror_mode": {
    "name": "ipython",
    "version": 3
   },
   "file_extension": ".py",
   "mimetype": "text/x-python",
   "name": "python",
   "nbconvert_exporter": "python",
   "pygments_lexer": "ipython3",
   "version": "3.6.4"
  }
 },
 "nbformat": 4,
 "nbformat_minor": 2
}
