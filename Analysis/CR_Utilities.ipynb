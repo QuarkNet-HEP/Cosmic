{
 "cells": [
  {
   "cell_type": "code",
   "execution_count": null,
   "metadata": {},
   "outputs": [],
   "source": [
    "def findCableLength(daqID):\n",
    "    '''A function to extract the length of cables used in a CRMD from its geometry file'''\n",
    "    \n",
    "    # Use the input DAQ ID to construct the file path to the geometry file,\n",
    "    # i.e. './geo/6119/6119.geo'\n",
    "    geoFile = './geo/'+str(daqID)+'/'+str(daqID)+'.geo'\n",
    "    \n",
    "    # Here's how to open a file for Python to read.\n",
    "    # The 'r' option is for \"read-only\", so we can't accidentally change the source data\n",
    "    with open(geoFile, 'r') as file:\n",
    "        # I happen to know that the cable length is stored in line 9 of the file.\n",
    "        # Scan through the file line-by-line, looking for line 9:\n",
    "        for i, line in enumerate(file):\n",
    "            if i == 9:\n",
    "                print(line)\n",
    "            # past the 9th line, we don't care, so exit the line-by-line scan:\n",
    "            elif i > 9:\n",
    "                break "
   ]
  }
 ],
 "metadata": {
  "kernelspec": {
   "display_name": "Python 3",
   "language": "python",
   "name": "python3"
  },
  "language_info": {
   "codemirror_mode": {
    "name": "ipython",
    "version": 3
   },
   "file_extension": ".py",
   "mimetype": "text/x-python",
   "name": "python",
   "nbconvert_exporter": "python",
   "pygments_lexer": "ipython3",
   "version": "3.6.4"
  }
 },
 "nbformat": 4,
 "nbformat_minor": 2
}
