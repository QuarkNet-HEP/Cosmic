{
 "cells": [
  {
   "cell_type": "code",
   "execution_count": null,
   "metadata": {},
   "outputs": [],
   "source": [
    "@bash_app\n",
    "def Plot(inputs=[], outputs=[], ptype='', caption='Plot Caption', title='Plot Title', \n",
    "         x=[0,1,\"x-axis\"], y=[0,1,\"y-axis\"], z=[0,1,\"z-axis\"], stdout='stdout.txt', stderr='stderr.txt'):\n",
    "    '''Two output files: outputs[0] is a text list of parameters and outputs[1] is the plot image'''\n",
    "    return 'perl ./perl/Plot.pl -file %s -param %s -svg %s -type %s -title %s -xlabel %s -ylabel %s -zlabel %s -caption %s -lowx %s -highx %s -lowy %s -highy %s -lowz %s -highz %s' % (inputs[0], outputs[0], outputs[1], ptype, title, x[2], y[2], z[2], caption, x[0], x[1], y[0], y[1], z[0], z[1])\n",
    "\n",
    "@bash_app\n",
    "def SVG2PNG(inputs=[], outputs=[], height='', stdout='stdout.txt', stderr='stderr.txt'):\n",
    "    '''Converts an input SVG file into a PNG for display'''\n",
    "    \"\"\"Unlike other Apps, there is no SVG2PNG.pl script.  Near as I can tell, Swift's old tc.data\n",
    "        file linked this App to the command-line utility `rsvg`.  See if that works.\"\"\"\n",
    "    #return 'perl ./perl/SVG2PNG.pl -h %s -w %s %s %s' % (height, height, svgIn, pngOut)\n",
    "    return 'rsvg -h %s -w %s %s %s' % (height, height, inputs[0], outputs[0])"
   ]
  },
  {
   "cell_type": "code",
   "execution_count": null,
   "metadata": {},
   "outputs": [],
   "source": [
    "# For Plot\n",
    "paramOut = 'PlotParametersOut'\n",
    "svgOut = 'Plot.svg'\n",
    "plotType = '3'\n",
    "title = 'Flux as a Function of Time'\n",
    "caption = 'Plot Caption'\n",
    "xAxis = ['0.99999','1.00001','Time']\n",
    "yAxis = ['0','100','Flux']\n",
    "zAxis = ['','','']\n",
    "\n",
    "# For SVG2PNG\n",
    "pngOut = 'Plot.png'\n",
    "height = '600'"
   ]
  },
  {
   "cell_type": "markdown",
   "metadata": {},
   "source": [
    "#### vi) Plot\n",
    "The data portion of the study may be complete, but we might like to have a better representation of the output than a plaintext table of data.  Fortunately, we can forward the output of `Flux` to the [Plot](http://localhost:8888/notebooks/Analysis/script_Plot.ipynb) App, which will create a graphical plot of the data and output it as an SVG file."
   ]
  },
  {
   "cell_type": "code",
   "execution_count": null,
   "metadata": {},
   "outputs": [],
   "source": [
    "Plot_future = Plot(inputs=Flux_future.outputs, outputs=[paramOut,svgOut], ptype=plotType, caption=caption, \n",
    "                   title=title, x=xAxis, y=yAxis, z=zAxis)"
   ]
  },
  {
   "cell_type": "markdown",
   "metadata": {},
   "source": [
    "_Open the file here_"
   ]
  },
  {
   "cell_type": "markdown",
   "metadata": {},
   "source": [
    "#### vii) SVG2PNG\n",
    "An SVG format of the plot is useful, but for good measure we might like to have a PNG version that's easier to display on the web.  The [SVG2PNG](http://localhost:8888/notebooks/Analysis/script_SVG2PNG.ipynb) App accomplishes that for us in short order:"
   ]
  },
  {
   "cell_type": "code",
   "execution_count": null,
   "metadata": {},
   "outputs": [],
   "source": [
    "SVG_future = SVG2PNG(inputs=[Plot_future.outputs[1]], outputs=[pngOut], height=height)"
   ]
  },
  {
   "cell_type": "markdown",
   "metadata": {},
   "source": [
    "Let's see how it turned out:"
   ]
  },
  {
   "cell_type": "markdown",
   "metadata": {},
   "source": [
    "_Open the file here_"
   ]
  },
  {
   "cell_type": "markdown",
   "metadata": {},
   "source": [
    "Lastly, we'll define a future for the `SVG2PNG` App call that we can test to see if it's completed properly.  Since all Apps in the workflow feed their outputs in a chain that ends at `SVG2PNG`, knowing it's complete means knowing the whole workflow is complete:"
   ]
  },
  {
   "cell_type": "code",
   "execution_count": null,
   "metadata": {},
   "outputs": [],
   "source": [
    "x = SVG_future.result()\n",
    "\n",
    "print(\"Call to SVG2PNG completed with exit code:\", x)"
   ]
  }
 ],
 "metadata": {
  "kernelspec": {
   "display_name": "Python 3",
   "language": "python",
   "name": "python3"
  },
  "language_info": {
   "codemirror_mode": {
    "name": "ipython",
    "version": 3
   },
   "file_extension": ".py",
   "mimetype": "text/x-python",
   "name": "python",
   "nbconvert_exporter": "python",
   "pygments_lexer": "ipython3",
   "version": "3.6.4"
  }
 },
 "nbformat": 4,
 "nbformat_minor": 2
}
