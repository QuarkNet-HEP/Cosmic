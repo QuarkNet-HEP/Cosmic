{
 "cells": [
  {
   "cell_type": "markdown",
   "metadata": {},
   "source": [
    "Import Parsl"
   ]
  },
  {
   "cell_type": "code",
   "execution_count": 1,
   "metadata": {},
   "outputs": [],
   "source": [
    "import parsl\n",
    "from parsl.config import Config\n",
    "from parsl.executors.threads import ThreadPoolExecutor\n",
    "from parsl.app.app import bash_app,python_app\n",
    "from parsl import File\n",
    "#import sys"
   ]
  },
  {
   "cell_type": "markdown",
   "metadata": {},
   "source": [
    "Configure Parsl"
   ]
  },
  {
   "cell_type": "code",
   "execution_count": 2,
   "metadata": {},
   "outputs": [
    {
     "data": {
      "text/plain": [
       "<parsl.dataflow.dflow.DataFlowKernel at 0x7fc0c804fb00>"
      ]
     },
     "execution_count": 2,
     "metadata": {},
     "output_type": "execute_result"
    }
   ],
   "source": [
    "config = Config(\n",
    "    executors=[ThreadPoolExecutor()],\n",
    "    lazy_errors=True\n",
    ")\n",
    "parsl.load(config)"
   ]
  },
  {
   "cell_type": "markdown",
   "metadata": {},
   "source": [
    "Define Parsl Apps that call each of the data transformation scripts we'll use"
   ]
  },
  {
   "cell_type": "code",
   "execution_count": 3,
   "metadata": {},
   "outputs": [],
   "source": [
    "## Define Apps ##\n",
    "@bash_app\n",
    "def WireDelay(threshIn='', outputs=[], geoDir='', daqId='', fw='', stdout='stdout.txt', stderr='stderr.txt'):\n",
    "    return 'perl ./perl/WireDelay.pl %s %s %s %s %s' %(threshIn, outputs[0], geoDir, daqId, fw)\n",
    "\n",
    "@bash_app\n",
    "def Combine(inputs=[], outputs=[], stdout='stdout.txt', stderr='stderr.txt'):\n",
    "    return 'perl ./perl/Combine.pl ' + ' '.join(inputs) + ' ' + str(outputs[0])\n",
    "\n",
    "@bash_app\n",
    "def SingleChannel(inputs=[], outputs=[], channel='1'):\n",
    "    return 'perl ./perl/SingleChannel.pl %s %s %s' % (inputs[0], outputs[0], channel)\n",
    "    \n",
    "@bash_app\n",
    "def Sort(inputs=[], outputs=[], key1='1', key2='1', stdout='stdout.txt', stderr='stderr.txt'):\n",
    "    return 'perl ./perl/Sort.pl %s %s %s %s' % (inputs[0], outputs[0], key1, key2)\n",
    "\n",
    "@bash_app\n",
    "def Flux(inputs=[], outputs=[], binWidth='600', geoDir='geo/', stdout='stdout.txt', stderr='stderr.txt'):\n",
    "    return 'perl ./perl/Flux.pl %s %s %s %s' % (inputs[0], outputs[0], binWidth, geoDir)\n",
    "\n",
    "# Adding Plots:\n",
    "@bash_app\n",
    "def Plot(inputs=[], outputs=[], ptype='', caption='Plot Caption', title='Plot Title', \n",
    "         x=[0,1,\"x-axis\"], y=[0,1,\"y-axis\"], z=[0,1,\"z-axis\"]):\n",
    "      '''Two output files: outputs[0] is a text list of parameters and outputs[1] is the plot image'''\n",
    "    return 'perl ./perl/Plot.pl -file %s -param %s -svg %s -type %s -title %s -xlabel %s -ylabel %s -zlabel %s -caption %s -lowx %s -highx %s -lowy %s -highy %s -lowz %s -highz %s' \n",
    "% (inputs[0], outputs[0], outputs[1], ptype, title, x[2], y[2], z[2], caption, x[0], x[1], y[0], y[1], z[0], z[1])\n",
    "\n",
    "@bash_app\n",
    "def SVG2PNG(inputs=[], outputs=[], height=''):\n",
    "    '''Converts an input SVG file into a PNG for display'''\n",
    "    \"\"\"Unlike other Apps, there is no SVG2PNG.pl script.  Near as I can tell, Swift's old tc.data\n",
    "        file linked this App to the command-line utility `rsvg`.  See if that works.\"\"\"\n",
    "    #return 'perl ./perl/SVG2PNG.pl -h %s -w %s %s %s' % (height, height, svgIn, pngOut)\n",
    "    return 'rsvg -h %s -w %s %s %s' % (height, height, svgIn, pngOut)\n"
   ]
  },
  {
   "cell_type": "code",
   "execution_count": 4,
   "metadata": {},
   "outputs": [],
   "source": [
    "## Analysis Parameters ##\n",
    "# Define input parameters\n",
    "\n",
    "# For WireDelay\n",
    "thresholdAll = ('files/6119.2016.0104.1.thresh', 'files/6203.2016.0104.1.thresh')\n",
    "wireDelayData = ('6119.2016.0104.1.wd', '6203.2016.0104.1.wd')\n",
    "geoDir = './geo'\n",
    "detectors = ('6119', '6203')\n",
    "firmwares = ('1.12', '1.12')\n",
    "\n",
    "# For Combine\n",
    "combineOut = 'combineOut'\n",
    "\n",
    "# For SingleChannel\n",
    "singlechannel_channel = '1'\n",
    "singleChannelOut = 'singleChannelOut'\n",
    "\n",
    "# For Sort\n",
    "sort_sortKey1 = '2'\n",
    "sort_sortKey2 = '3'\n",
    "sortOut = 'sortOut'\n",
    "\n",
    "# For Flux\n",
    "binWidth = '600'\n",
    "geoFiles = ['geo/6119/6119.geo', 'geo/6203/6203.geo']\n",
    "fluxOut = 'fluxOut'\n",
    "\n",
    "# For Plot\n",
    "paramOut = 'PlotParametersOut'\n",
    "svgOut = 'PlotImageOut'\n",
    "plotType = ''\n",
    "title = 'Flux as a Function of Time'\n",
    "caption = 'Plot Caption'\n",
    "#xLabel = 'Time'\n",
    "#xLow = '0'\n",
    "#xHi = '1'\n",
    "xAxis = ['0','1','Time']\n",
    "#yLabel = 'Flux (events/m^2/min)'\n",
    "#yLow = '0'\n",
    "#yHi = '1'\n",
    "yAxis = ['0','1','Flux (events/m^2/min)']\n",
    "#zLabel = 'N/A'\n",
    "#zLow = '0'\n",
    "#zHi = '1'\n",
    "zAxis = ['0','1','N/A']\n",
    "\n",
    "# For SVG2PNG\n",
    "pngOut = 'Plot.png'\n",
    "height = '200'"
   ]
  },
  {
   "cell_type": "code",
   "execution_count": 5,
   "metadata": {},
   "outputs": [
    {
     "name": "stdout",
     "output_type": "stream",
     "text": [
      "Call to Flux completed with exit code: 0\n"
     ]
    }
   ],
   "source": [
    "## Workflow ##\n",
    "# 1) WireDelay() takes input Threshold (.thresh) files and converts\n",
    "#    each to a Wire Delay (.wd) file:\n",
    "WireDelay_futures = []\n",
    "for i in range(len(thresholdAll)):\n",
    "        WireDelay_futures.append(WireDelay(threshIn=thresholdAll[i], outputs=[wireDelayData[i]], \n",
    "                                           geoDir=geoDir, daqId=detectors[i], fw=firmwares[i]))\n",
    "\n",
    "# WireDelay_futures is a list of futures.\n",
    "# Each future has an outputs list with one output.\n",
    "WireDelay_outputs = [i.outputs[0] for i in WireDelay_futures]\n",
    "\n",
    "# 2) Combine() takes the WireDelay files output by WireDelay() and combines\n",
    "#    them into a single file with name given by `combineOut`\n",
    "Combine_future = Combine(inputs=WireDelay_outputs, outputs=[combineOut])\n",
    "\n",
    "# 3) SingleChannel() takes\n",
    "SingleChannel_future = SingleChannel(inputs=Combine_future.outputs, outputs=[singleChannelOut], \n",
    "                                     channel=singlechannel_channel)\n",
    "\n",
    "# 4) Sort() sorts the `singleChannelOut` file, producing a new file with name given\n",
    "#    by `sortOut`\n",
    "Sort_future = Sort(inputs=SingleChannel_future.outputs, outputs=[sortOut], \n",
    "                   key1=sort_sortKey1, key2=sort_sortKey2)\n",
    "\n",
    "# 5) Flux() processes the `sortOut` file and produces a output file with name given \n",
    "#    by `fluxOut`\n",
    "Flux_future = Flux(inputs=Sort_future.outputs, outputs=[fluxOut], binWidth=binWidth, geoDir=geoDir)\n",
    "\n",
    "# 6) Plot() takes the fluxOut output and creates an SVG plot\n",
    "Plot_future = Plot(inputs=Flux_future.outputs, outputs=[paramOut,svgOut], ptype=plotType, caption=caption, \n",
    "                   title=title, x=xAxis, y=yAxis, z=zAxis)\n",
    "\n",
    "# 7) SVG2PNG() creates a PNG plot image from the output of Plot()\n",
    "SVG_future = SVG2PNG(inputs=[Plot_future.outputs[1]], outputs=[pngOut], height=height)\n",
    "\n",
    "# Wait for the final result before exiting.\n",
    "x = Flux_future.result()\n",
    "\n",
    "print(\"Call to Flux completed with exit code:\", x)"
   ]
  },
  {
   "cell_type": "code",
   "execution_count": null,
   "metadata": {},
   "outputs": [],
   "source": []
  }
 ],
 "metadata": {
  "kernelspec": {
   "display_name": "Python 3",
   "language": "python",
   "name": "python3"
  },
  "language_info": {
   "codemirror_mode": {
    "name": "ipython",
    "version": 3
   },
   "file_extension": ".py",
   "mimetype": "text/x-python",
   "name": "python",
   "nbconvert_exporter": "python",
   "pygments_lexer": "ipython3",
   "version": "3.6.4"
  }
 },
 "nbformat": 4,
 "nbformat_minor": 2
}
