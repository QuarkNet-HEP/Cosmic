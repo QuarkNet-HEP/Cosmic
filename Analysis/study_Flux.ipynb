{
 "cells": [
  {
   "cell_type": "markdown",
   "metadata": {},
   "source": [
    "# Cosmic Ray Flux Study"
   ]
  },
  {
   "cell_type": "markdown",
   "metadata": {},
   "source": [
    "## (Fill in science story here)"
   ]
  },
  {
   "cell_type": "markdown",
   "metadata": {},
   "source": [
    "### 1) Import Parsl"
   ]
  },
  {
   "cell_type": "code",
   "execution_count": 1,
   "metadata": {},
   "outputs": [],
   "source": [
    "import parsl\n",
    "from parsl.config import Config\n",
    "from parsl.executors.threads import ThreadPoolExecutor\n",
    "from parsl.app.app import bash_app,python_app\n",
    "from parsl import File"
   ]
  },
  {
   "cell_type": "markdown",
   "metadata": {},
   "source": [
    "### 1.5) Import other stuff"
   ]
  },
  {
   "cell_type": "code",
   "execution_count": 2,
   "metadata": {},
   "outputs": [],
   "source": [
    "#import sys\n",
    "import matplotlib.pyplot as plt"
   ]
  },
  {
   "cell_type": "markdown",
   "metadata": {},
   "source": [
    "### 2) Configure Parsl"
   ]
  },
  {
   "cell_type": "code",
   "execution_count": 2,
   "metadata": {},
   "outputs": [
    {
     "data": {
      "text/plain": [
       "<parsl.dataflow.dflow.DataFlowKernel at 0x7fc511ff0630>"
      ]
     },
     "execution_count": 2,
     "metadata": {},
     "output_type": "execute_result"
    }
   ],
   "source": [
    "config = Config(\n",
    "    executors=[ThreadPoolExecutor()],\n",
    "    lazy_errors=True\n",
    ")\n",
    "parsl.load(config)"
   ]
  },
  {
   "cell_type": "markdown",
   "metadata": {},
   "source": [
    "### 3) Define Parsl Apps that call each of the data transformation scripts we'll use"
   ]
  },
  {
   "cell_type": "code",
   "execution_count": 3,
   "metadata": {},
   "outputs": [],
   "source": [
    "# For data processing:\n",
    "@bash_app\n",
    "def WireDelay(threshIn='', outputs=[], geoDir='', daqId='', fw='', stdout='stdout.txt', stderr='stderr.txt'):\n",
    "    return 'perl ./perl/WireDelay.pl %s %s %s %s %s' %(threshIn, outputs[0], geoDir, daqId, fw)\n",
    "\n",
    "@bash_app\n",
    "def Combine(inputs=[], outputs=[], stdout='stdout.txt', stderr='stderr.txt'):\n",
    "    return 'perl ./perl/Combine.pl ' + ' '.join(inputs) + ' ' + str(outputs[0])\n",
    "\n",
    "@bash_app\n",
    "def SingleChannel(inputs=[], outputs=[], channel='1'):\n",
    "    return 'perl ./perl/SingleChannel.pl %s %s %s' % (inputs[0], outputs[0], channel)\n",
    "    \n",
    "@bash_app\n",
    "def Sort(inputs=[], outputs=[], key1='1', key2='1', stdout='stdout.txt', stderr='stderr.txt'):\n",
    "    return 'perl ./perl/Sort.pl %s %s %s %s' % (inputs[0], outputs[0], key1, key2)\n",
    "\n",
    "@bash_app\n",
    "def Flux(inputs=[], outputs=[], binWidth='600', geoDir='geo/', stdout='stdout.txt', stderr='stderr.txt'):\n",
    "    return 'perl ./perl/Flux.pl %s %s %s %s' % (inputs[0], outputs[0], binWidth, geoDir)\n",
    "\n",
    "# For making plots:\n",
    "@bash_app\n",
    "def Plot(inputs=[], outputs=[], ptype='', caption='Plot Caption', title='Plot Title', \n",
    "         x=[0,1,\"x-axis\"], y=[0,1,\"y-axis\"], z=[0,1,\"z-axis\"], stdout='stdout.txt', stderr='stderr.txt'):\n",
    "    '''Two output files: outputs[0] is a text list of parameters and outputs[1] is the plot image'''\n",
    "    return 'perl ./perl/Plot.pl -file %s -param %s -svg %s -type %s -title %s -xlabel %s -ylabel %s -zlabel %s -caption %s -lowx %s -highx %s -lowy %s -highy %s -lowz %s -highz %s' % (inputs[0], outputs[0], outputs[1], ptype, title, x[2], y[2], z[2], caption, x[0], x[1], y[0], y[1], z[0], z[1])\n",
    "\n",
    "@bash_app\n",
    "def SVG2PNG(inputs=[], outputs=[], height='', stdout='stdout.txt', stderr='stderr.txt'):\n",
    "    '''Converts an input SVG file into a PNG for display'''\n",
    "    \"\"\"Unlike other Apps, there is no SVG2PNG.pl script.  Near as I can tell, Swift's old tc.data\n",
    "        file linked this App to the command-line utility `rsvg`.  See if that works.\"\"\"\n",
    "    #return 'perl ./perl/SVG2PNG.pl -h %s -w %s %s %s' % (height, height, svgIn, pngOut)\n",
    "    return 'rsvg -h %s -w %s %s %s' % (height, height, inputs[0], outputs[0])\n"
   ]
  },
  {
   "cell_type": "markdown",
   "metadata": {},
   "source": [
    "### 4) Define input parameters"
   ]
  },
  {
   "cell_type": "code",
   "execution_count": 4,
   "metadata": {},
   "outputs": [],
   "source": [
    "# For WireDelay\n",
    "thresholdAll = ('files/6119.2016.0104.1.thresh', 'files/6203.2016.0104.1.thresh')\n",
    "wireDelayData = ('6119.2016.0104.1.wd', '6203.2016.0104.1.wd')\n",
    "geoDir = './geo'\n",
    "detectors = ('6119', '6203')\n",
    "firmwares = ('1.12', '1.12')\n",
    "\n",
    "# For Combine\n",
    "combineOut = 'combineOut'\n",
    "\n",
    "# For SingleChannel\n",
    "singlechannel_channel = '1'\n",
    "singleChannelOut = 'singleChannelOut'\n",
    "\n",
    "# For Sort\n",
    "sort_sortKey1 = '2'\n",
    "sort_sortKey2 = '3'\n",
    "sortOut = 'sortOut'\n",
    "\n",
    "# For Flux\n",
    "binWidth = '600'\n",
    "geoFiles = ['geo/6119/6119.geo', 'geo/6203/6203.geo']\n",
    "fluxOut = 'fluxOut'\n",
    "\n",
    "# For Plot\n",
    "paramOut = 'PlotParametersOut'\n",
    "svgOut = 'Plot.svg'\n",
    "plotType = '3'\n",
    "title = 'Flux as a Function of Time'\n",
    "caption = 'Plot Caption'\n",
    "#xLabel = 'Time'\n",
    "#xLow = '0'\n",
    "#xHi = '1'\n",
    "xAxis = ['0.99999','1.00001','Time']\n",
    "#yLabel = 'Flux (events/m^2/min)'\n",
    "#yLow = '0'\n",
    "#yHi = '1'\n",
    "yAxis = ['0','100','Flux']\n",
    "#zLabel = 'N/A'\n",
    "#zLow = '0'\n",
    "#zHi = '1'\n",
    "zAxis = ['','','']\n",
    "\n",
    "# For SVG2PNG\n",
    "pngOut = 'Plot.png'\n",
    "height = '600'"
   ]
  },
  {
   "cell_type": "markdown",
   "metadata": {},
   "source": [
    "### 5) The Workflow"
   ]
  },
  {
   "cell_type": "markdown",
   "metadata": {},
   "source": [
    "With everything above defined, we can now define the workflow itself by calling Apps using the above input parameters."
   ]
  },
  {
   "cell_type": "markdown",
   "metadata": {},
   "source": [
    "#### i) Wire Delay\n",
    "First, we'll call the WireDelay script once for each input threshold file.  The [WireDelay](http://localhost:8888/notebooks/Analysis/script_WireDelay.ipynb) script is straightforward: it takes all time values in the input file and corrects them to account for the time it takes for the muon event signal to travel from the detector panel to the DAQ.  This time delay depends on the length of the cable connecting the two, and this (constant) value is stored in the detector's geometry file.\n",
    "\n",
    "The output of the `WireDelay.pl` script is nearly identical in format to the input threshold files, so we have the script output to filenames ending with the `.wd` extension so we can tell which files the delay has been applied to."
   ]
  },
  {
   "cell_type": "code",
   "execution_count": 5,
   "metadata": {},
   "outputs": [],
   "source": [
    "WireDelay_futures = []\n",
    "for i in range(len(thresholdAll)):\n",
    "        WireDelay_futures.append(WireDelay(threshIn=thresholdAll[i], outputs=[wireDelayData[i]], \n",
    "                                           geoDir=geoDir, daqId=detectors[i], fw=firmwares[i]))\n",
    "        \n",
    "WireDelay_outputs = [i.outputs[0] for i in WireDelay_futures]"
   ]
  },
  {
   "cell_type": "markdown",
   "metadata": {},
   "source": [
    "#### ii) Combine\n",
    "Next, we combine all of the `.wd` files generated by the WireDelay script into a single file.  Naturally, the script that does this is called [Combine](http://localhost:8888/notebooks/Analysis/script_Combine.ipynb)."
   ]
  },
  {
   "cell_type": "code",
   "execution_count": 6,
   "metadata": {},
   "outputs": [],
   "source": [
    "Combine_future = Combine(inputs=WireDelay_outputs, outputs=[combineOut])"
   ]
  },
  {
   "cell_type": "markdown",
   "metadata": {},
   "source": [
    "**Exercise 1)** Would it make a difference in the resulting data file if we called `Combine.pl` before calling `WireDelay.pl`?  If so, what difference do you think it would make?"
   ]
  },
  {
   "cell_type": "markdown",
   "metadata": {},
   "source": [
    "_Write your answer below:_"
   ]
  },
  {
   "cell_type": "markdown",
   "metadata": {},
   "source": []
  },
  {
   "cell_type": "markdown",
   "metadata": {},
   "source": [
    "**Exercise 2)** Design a way to adapt the code presented here to determine whether or not your answer to Exercise 1) is correct, and then try it.  Did you find the result you expected?"
   ]
  },
  {
   "cell_type": "markdown",
   "metadata": {},
   "source": [
    "_Write and program your answer below, adding additional cells if necessary:_"
   ]
  },
  {
   "cell_type": "markdown",
   "metadata": {},
   "source": []
  },
  {
   "cell_type": "markdown",
   "metadata": {},
   "source": [
    "#### iii) Single Channel\n",
    "The [SingleChannel](http://localhost:8888/notebooks/Analysis/script_SingleChannel.ipynb) script selects input data from one of the four detector channels, writing it to the output file and discarding the rest."
   ]
  },
  {
   "cell_type": "code",
   "execution_count": 7,
   "metadata": {},
   "outputs": [],
   "source": [
    "SingleChannel_future = SingleChannel(inputs=Combine_future.outputs, outputs=[singleChannelOut], \n",
    "                                     channel=singlechannel_channel)"
   ]
  },
  {
   "cell_type": "markdown",
   "metadata": {},
   "source": [
    "**Exercise 3)** In this example, the input to `SingleChannel` is the file `combineOut`, and the output file is `singleChannelOut`.  Relative to `combineOut`, about how many lines would you expect the file `singleChannelOut` to be?"
   ]
  },
  {
   "cell_type": "markdown",
   "metadata": {},
   "source": [
    "_Write your answer below:_"
   ]
  },
  {
   "cell_type": "markdown",
   "metadata": {},
   "source": []
  },
  {
   "cell_type": "markdown",
   "metadata": {},
   "source": [
    "**Exercise 4)** Check your answer to Exercise 3) (_hint_: the UNIX shell command to see the number of lines in a file is `wc -l`.  Do you remember how to run a shell command from within a Jupyter Notebook?)"
   ]
  },
  {
   "cell_type": "markdown",
   "metadata": {},
   "source": [
    "_Write and program your answer below, adding additional cells if necessary:_"
   ]
  },
  {
   "cell_type": "code",
   "execution_count": null,
   "metadata": {},
   "outputs": [],
   "source": []
  },
  {
   "cell_type": "markdown",
   "metadata": {},
   "source": [
    "#### iv) Sort\n",
    "The [Sort](http://localhost:8888/notebooks/Analysis/script_Sort.ipynb) script, as you might guess, sorts the input data according to the column parameters we give it.  `Sort` can be more complex than some of the preceding Apps, however, since for most data files there are multiple combinations of primary and secondary sorting that give different results."
   ]
  },
  {
   "cell_type": "code",
   "execution_count": 8,
   "metadata": {},
   "outputs": [],
   "source": [
    "Sort_future = Sort(inputs=SingleChannel_future.outputs, outputs=[sortOut], \n",
    "                   key1=sort_sortKey1, key2=sort_sortKey2)"
   ]
  },
  {
   "cell_type": "markdown",
   "metadata": {},
   "source": [
    "In this example, we've used `key1=2` and `key2=3`."
   ]
  },
  {
   "cell_type": "markdown",
   "metadata": {},
   "source": [
    "**Exercise 5)** Using your knowledge of the cosmic ray data format and any of the reference links for individual scripts ([WireDelay](http://localhost:8888/notebooks/Analysis/script_WireDelay.ipynb), [Combine](http://localhost:8888/notebooks/Analysis/script_Combine.ipynb), [SingleChannel](http://localhost:8888/notebooks/Analysis/script_SingleChannel.ipynb), and [Sort](http://localhost:8888/notebooks/Analysis/script_Sort.ipynb)), explain why we've chosen this combination of sort columns in preparation for inputting data into the `Flux` script."
   ]
  },
  {
   "cell_type": "markdown",
   "metadata": {},
   "source": [
    "_Write your answer below:_"
   ]
  },
  {
   "cell_type": "markdown",
   "metadata": {},
   "source": []
  },
  {
   "cell_type": "markdown",
   "metadata": {},
   "source": [
    "#### v) Flux"
   ]
  },
  {
   "cell_type": "markdown",
   "metadata": {},
   "source": [
    "Finally, we reach the main event of the Flux Study, the [Flux](http://localhost:8888/notebooks/Analysis/script_Flux.ipynb) App itself, which sorts the cosmic ray muon events in its input file into time bins and outputs the total flux for each bin."
   ]
  },
  {
   "cell_type": "code",
   "execution_count": 9,
   "metadata": {},
   "outputs": [],
   "source": [
    "Flux_future = Flux(inputs=Sort_future.outputs, outputs=[fluxOut], binWidth=binWidth, geoDir=geoDir)"
   ]
  },
  {
   "cell_type": "markdown",
   "metadata": {},
   "source": [
    "The output file `fluxOut` now has the data we're looking for: the total flux of cosmic ray muons represented by the original threshold data files, complete with statistical uncertainties, and sorted into time bins of our choosing.  Take a look:"
   ]
  },
  {
   "cell_type": "code",
   "execution_count": 5,
   "metadata": {},
   "outputs": [
    {
     "name": "stdout",
     "output_type": "stream",
     "text": [
      "#dba5ecdadabca58ac715b42705a22d67\r\n",
      "#md5_hex(1538770992 1540579219 sortOut fluxOut 600 ./geo)\r\n",
      "01/04/2016 17:58:07 185135.623870 489.010758\r\n",
      "01/04/2016 18:08:07 211609.403255 522.806403\r\n",
      "01/04/2016 18:18:07 212983.725136 524.501369\r\n",
      "01/04/2016 18:28:07 216491.862568 528.803359\r\n",
      "01/04/2016 21:08:07 90632.911392 342.149872\r\n",
      "01/04/2016 21:18:07 91066.907776 342.968087\r\n",
      "01/04/2016 21:28:07 88716.094033 338.512432\r\n",
      "01/04/2016 21:38:07 93562.386980 347.635455\r\n"
     ]
    }
   ],
   "source": [
    "!head -10 fluxOut"
   ]
  },
  {
   "cell_type": "markdown",
   "metadata": {},
   "source": [
    "#### vi) Plot\n",
    "The data portion of the study may be complete, but we might like to have a better representation of the output than a plaintext table of data.  Fortunately, we can forward the output of `Flux` to the [Plot](http://localhost:8888/notebooks/Analysis/script_Plot.ipynb) App, which will create a graphical plot of the data and output it as an SVG file."
   ]
  },
  {
   "cell_type": "code",
   "execution_count": 11,
   "metadata": {},
   "outputs": [],
   "source": [
    "Plot_future = Plot(inputs=Flux_future.outputs, outputs=[paramOut,svgOut], ptype=plotType, caption=caption, \n",
    "                   title=title, x=xAxis, y=yAxis, z=zAxis)"
   ]
  },
  {
   "cell_type": "markdown",
   "metadata": {},
   "source": [
    "_Open the file here_"
   ]
  },
  {
   "cell_type": "markdown",
   "metadata": {},
   "source": [
    "#### vii) SVG2PNG\n",
    "An SVG format of the plot is useful, but for good measure we might like to have a PNG version that's easier to display on the web.  The [SVG2PNG](http://localhost:8888/notebooks/Analysis/script_SVG2PNG.ipynb) App accomplishes that for us in short order:"
   ]
  },
  {
   "cell_type": "code",
   "execution_count": 12,
   "metadata": {},
   "outputs": [],
   "source": [
    "SVG_future = SVG2PNG(inputs=[Plot_future.outputs[1]], outputs=[pngOut], height=height)"
   ]
  },
  {
   "cell_type": "markdown",
   "metadata": {},
   "source": [
    "Let's see how it turned out:"
   ]
  },
  {
   "cell_type": "markdown",
   "metadata": {},
   "source": [
    "_Open the file here_"
   ]
  },
  {
   "cell_type": "markdown",
   "metadata": {},
   "source": [
    "Lastly, we'll define a future for the `SVG2PNG` App call that we can test to see if it's completed properly.  Since all Apps in the workflow feed their outputs in a chain that ends at `SVG2PNG`, knowing it's complete means knowing the whole workflow is complete:"
   ]
  },
  {
   "cell_type": "code",
   "execution_count": 13,
   "metadata": {},
   "outputs": [
    {
     "name": "stdout",
     "output_type": "stream",
     "text": [
      "Call to SVG2PNG completed with exit code: 0\n"
     ]
    }
   ],
   "source": [
    "x = SVG_future.result()\n",
    "\n",
    "print(\"Call to SVG2PNG completed with exit code:\", x)"
   ]
  },
  {
   "cell_type": "markdown",
   "metadata": {},
   "source": [
    "#### viii) Plotting with matplotlib"
   ]
  },
  {
   "cell_type": "markdown",
   "metadata": {},
   "source": [
    "Instead of using the `Plot` and `SVG2PNG` scripts to create static plot images, we can use Python's `matplotlib` package along with its `pyplot` module to create and display dynamic graphs.\n",
    "\n",
    "First, we'll read in the output file `fluxOut`:"
   ]
  },
  {
   "cell_type": "code",
   "execution_count": 36,
   "metadata": {},
   "outputs": [
    {
     "data": {
      "text/plain": [
       "(array([17.,  0.,  0.,  0.,  0.,  0.,  0.,  1.,  0.,  3.]),\n",
       " array([ 86220.614828,  99247.739602, 112274.864376, 125301.98915 ,\n",
       "        138329.113924, 151356.238698, 164383.363472, 177410.488246,\n",
       "        190437.61302 , 203464.737794, 216491.862568]),\n",
       " <a list of 10 Patch objects>)"
      ]
     },
     "execution_count": 36,
     "metadata": {},
     "output_type": "execute_result"
    },
    {
     "data": {
      "image/png": "[encoded data removed]",
      "text/plain": [
       "<matplotlib.figure.Figure at 0x7f7b0bc15518>"
      ]
     },
     "metadata": {},
     "output_type": "display_data"
    }
   ],
   "source": [
    "with open(\"fluxOut\") as flux:\n",
    "    # A list with each line of 'fluxOut' as one element\n",
    "    lines = flux.readlines()\n",
    "    # Remove the first two lines, which are comments\n",
    "    lines = lines[2:]\n",
    "    # Split each line into x, y, and uncertainty arrays:\n",
    "    x = [(line.split()[1]) for line in lines]\n",
    "    y = [float(line.split()[2]) for line in lines]\n",
    "    dy = [float(line.split()[3]) for line in lines]\n",
    "\n",
    "# Make the output plot bigger:\n",
    "scale=15\n",
    "plt.rcParams[\"figure.figsize\"]=[scale,scale]\n",
    "\n",
    "#print(x)\n",
    "#print(y)\n",
    "\n",
    "#plt.plot(x,y)\n",
    "plt.hist(y)"
   ]
  },
  {
   "cell_type": "markdown",
   "metadata": {},
   "source": []
  },
  {
   "cell_type": "code",
   "execution_count": null,
   "metadata": {},
   "outputs": [],
   "source": []
  },
  {
   "cell_type": "code",
   "execution_count": null,
   "metadata": {},
   "outputs": [],
   "source": []
  },
  {
   "cell_type": "code",
   "execution_count": null,
   "metadata": {},
   "outputs": [],
   "source": []
  },
  {
   "cell_type": "code",
   "execution_count": null,
   "metadata": {},
   "outputs": [],
   "source": []
  },
  {
   "cell_type": "markdown",
   "metadata": {},
   "source": [
    "**_The Workflow Summarized_**"
   ]
  },
  {
   "cell_type": "markdown",
   "metadata": {},
   "source": [
    "When we stop and consider the role of each App in the Flux Study workflow, as we did above, it's easy to lose track of the big picture.  For reference, this notebook's workflow is copied below, condensed into a single cell for readability (and commented out, of course, so that we don't run it twice when running the notebook!) "
   ]
  },
  {
   "cell_type": "code",
   "execution_count": null,
   "metadata": {},
   "outputs": [],
   "source": [
    "\"\"\"\n",
    "WireDelay_futures = []\n",
    "for i in range(len(thresholdAll)):\n",
    "        WireDelay_futures.append(WireDelay(threshIn=thresholdAll[i], outputs=[wireDelayData[i]], \n",
    "                                           geoDir=geoDir, daqId=detectors[i], fw=firmwares[i]))\n",
    "        \n",
    "WireDelay_outputs = [i.outputs[0] for i in WireDelay_futures]\n",
    "\n",
    "Combine_future = Combine(inputs=WireDelay_outputs, outputs=[combineOut])\n",
    "\n",
    "SingleChannel_future = SingleChannel(inputs=Combine_future.outputs, outputs=[singleChannelOut], \n",
    "                                     channel=singlechannel_channel)\n",
    "\n",
    "Sort_future = Sort(inputs=SingleChannel_future.outputs, outputs=[sortOut], \n",
    "                   key1=sort_sortKey1, key2=sort_sortKey2)\n",
    "\n",
    "Flux_future = Flux(inputs=Sort_future.outputs, outputs=[fluxOut], binWidth=binWidth, geoDir=geoDir)\n",
    "\n",
    "Plot_future = Plot(inputs=Flux_future.outputs, outputs=[paramOut,svgOut], ptype=plotType, caption=caption, \n",
    "                   title=title, x=xAxis, y=yAxis, z=zAxis)\n",
    "\n",
    "SVG_future = SVG2PNG(inputs=[Plot_future.outputs[1]], outputs=[pngOut], height=height)\n",
    "\n",
    "x = SVG_future.result()\n",
    "\n",
    "print(\"Call to SVG2PNG completed with exit code:\", x)\n",
    "\"\"\""
   ]
  }
 ],
 "metadata": {
  "kernelspec": {
   "display_name": "Python 3",
   "language": "python",
   "name": "python3"
  },
  "language_info": {
   "codemirror_mode": {
    "name": "ipython",
    "version": 3
   },
   "file_extension": ".py",
   "mimetype": "text/x-python",
   "name": "python",
   "nbconvert_exporter": "python",
   "pygments_lexer": "ipython3",
   "version": "3.6.4"
  }
 },
 "nbformat": 4,
 "nbformat_minor": 2
}
