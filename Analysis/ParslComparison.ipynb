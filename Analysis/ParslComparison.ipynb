{
 "cells": [
  {
   "cell_type": "markdown",
   "metadata": {},
   "source": [
    "# Parsl Speed Comparison"
   ]
  },
  {
   "cell_type": "markdown",
   "metadata": {},
   "source": [
    "This notebook performs two cosmic ray flux analyses that use the same raw data and same data transformation workflow to create a cosmic ray flux plot from raw data.\n",
    "\n",
    "The first analysis uses traditional sequential, pure-Python calls to the relevant data transformation scripts.  The second uses Parsl to parallelize the dataflow."
   ]
  },
  {
   "cell_type": "markdown",
   "metadata": {},
   "source": [
    "## Pure Python"
   ]
  },
  {
   "cell_type": "markdown",
   "metadata": {},
   "source": [
    "### Define parameters"
   ]
  },
  {
   "cell_type": "code",
   "execution_count": 1,
   "metadata": {},
   "outputs": [],
   "source": [
    "# For WireDelay\n",
    "thresholdAll = ('files/6119.2016.0104.1.thresh', 'files/6203.2016.0104.1.thresh')\n",
    "wireDelayData = ('pp.6119.2016.0104.1.wd', 'pp.6203.2016.0104.1.wd')\n",
    "geoDir = './geo'\n",
    "detectors = ('6119', '6203')\n",
    "firmwares = ('1.12', '1.12')\n",
    "\n",
    "# For Combine\n",
    "combineOut = 'pp.combineOut'\n",
    "\n",
    "# For SingleChannel\n",
    "singlechannel_channel = '1'\n",
    "singleChannelOut = 'pp.singleChannelOut'\n",
    "\n",
    "# For Sort\n",
    "sort_sortKey1 = '2'\n",
    "sort_sortKey2 = '3'\n",
    "sortOut = 'pp.sortOut'\n",
    "\n",
    "# For Flux\n",
    "binWidth = '600'\n",
    "geoFiles = ['geo/6119/6119.geo', 'geo/6203/6203.geo']\n",
    "fluxOut = 'pp.fluxOut'"
   ]
  },
  {
   "cell_type": "markdown",
   "metadata": {},
   "source": [
    "### Workflow"
   ]
  },
  {
   "cell_type": "code",
   "execution_count": 2,
   "metadata": {},
   "outputs": [
    {
     "name": "stdout",
     "output_type": "stream",
     "text": [
      "Pure Python execution time: 3741010278 ns\n"
     ]
    }
   ],
   "source": [
    "ppStart = !date +%s%N\n",
    "\n",
    "for i in range(len(thresholdAll)):\n",
    "    !{'perl ./perl/WireDelay.pl %s %s %s %s %s' %(thresholdAll[i], wireDelayData[i], geoDir, detectors[i], firmwares[i])}\n",
    "\n",
    "!{'perl ./perl/Combine.pl ' + ' '.join(wireDelayData) + ' ' + combineOut}\n",
    "\n",
    "!{'perl ./perl/SingleChannel.pl %s %s %s' % (combineOut, singleChannelOut, singlechannel_channel)}\n",
    "\n",
    "!{'perl ./perl/Sort.pl %s %s %s %s' % (singleChannelOut, sortOut, sort_sortKey1, sort_sortKey2)}\n",
    "\n",
    "!{'perl ./perl/Flux.pl %s %s %s %s' % (sortOut, fluxOut, binWidth, geoDir)}\n",
    "\n",
    "ppStop = !date +%s%N\n",
    "ppTime = int(ppStop[0]) - int(ppStart[0])\n",
    "print(\"Pure Python execution time: \" + str(ppTime) + \" ns\")"
   ]
  },
  {
   "cell_type": "markdown",
   "metadata": {},
   "source": [
    "## Parsl"
   ]
  },
  {
   "cell_type": "markdown",
   "metadata": {},
   "source": [
    "### Import and configure"
   ]
  },
  {
   "cell_type": "code",
   "execution_count": 3,
   "metadata": {},
   "outputs": [
    {
     "data": {
      "text/plain": [
       "<parsl.dataflow.dflow.DataFlowKernel at 0x7fd028d9b6a0>"
      ]
     },
     "execution_count": 3,
     "metadata": {},
     "output_type": "execute_result"
    }
   ],
   "source": [
    "import parsl\n",
    "from parsl.config import Config\n",
    "from parsl.executors.threads import ThreadPoolExecutor\n",
    "from parsl.app.app import bash_app,python_app\n",
    "from parsl import File\n",
    "\n",
    "config = Config(\n",
    "    executors=[ThreadPoolExecutor()],\n",
    "    lazy_errors=True\n",
    ")\n",
    "parsl.load(config)"
   ]
  },
  {
   "cell_type": "markdown",
   "metadata": {},
   "source": [
    "### Define Apps"
   ]
  },
  {
   "cell_type": "code",
   "execution_count": 4,
   "metadata": {},
   "outputs": [],
   "source": [
    "# For data processing:\n",
    "@bash_app\n",
    "def WireDelay(threshIn='', outputs=[], geoDir='', daqId='', fw='', stdout='stdout.txt', stderr='stderr.txt'):\n",
    "    return 'perl ./perl/WireDelay.pl %s %s %s %s %s' %(threshIn, outputs[0], geoDir, daqId, fw)\n",
    "\n",
    "@bash_app\n",
    "def Combine(inputs=[], outputs=[], stdout='stdout.txt', stderr='stderr.txt'):\n",
    "    return 'perl ./perl/Combine.pl ' + ' '.join(inputs) + ' ' + str(outputs[0])\n",
    "\n",
    "@bash_app\n",
    "def SingleChannel(inputs=[], outputs=[], channel='1'):\n",
    "    return 'perl ./perl/SingleChannel.pl %s %s %s' % (inputs[0], outputs[0], channel)\n",
    "    \n",
    "@bash_app\n",
    "def Sort(inputs=[], outputs=[], key1='1', key2='1', stdout='stdout.txt', stderr='stderr.txt'):\n",
    "    return 'perl ./perl/Sort.pl %s %s %s %s' % (inputs[0], outputs[0], key1, key2)\n",
    "\n",
    "@bash_app\n",
    "def Flux(inputs=[], outputs=[], binWidth='600', geoDir='geo/', stdout='stdout.txt', stderr='stderr.txt'):\n",
    "    return 'perl ./perl/Flux.pl %s %s %s %s' % (inputs[0], outputs[0], binWidth, geoDir)"
   ]
  },
  {
   "cell_type": "markdown",
   "metadata": {},
   "source": [
    "### Define parameters"
   ]
  },
  {
   "cell_type": "code",
   "execution_count": 5,
   "metadata": {},
   "outputs": [],
   "source": [
    "# For WireDelay\n",
    "thresholdAll = ('files/6119.2016.0104.1.thresh', 'files/6203.2016.0104.1.thresh')\n",
    "wireDelayData = ('par.6119.2016.0104.1.wd', 'par.6203.2016.0104.1.wd')\n",
    "geoDir = './geo'\n",
    "detectors = ('6119', '6203')\n",
    "firmwares = ('1.12', '1.12')\n",
    "\n",
    "# For Combine\n",
    "combineOut = 'par.combineOut'\n",
    "\n",
    "# For SingleChannel\n",
    "singlechannel_channel = '1'\n",
    "singleChannelOut = 'par.singleChannelOut'\n",
    "\n",
    "# For Sort\n",
    "sort_sortKey1 = '2'\n",
    "sort_sortKey2 = '3'\n",
    "sortOut = 'par.sortOut'\n",
    "\n",
    "# For Flux\n",
    "binWidth = '600'\n",
    "geoFiles = ['geo/6119/6119.geo', 'geo/6203/6203.geo']\n",
    "fluxOut = 'par.fluxOut'"
   ]
  },
  {
   "cell_type": "markdown",
   "metadata": {},
   "source": [
    "### Workflow"
   ]
  },
  {
   "cell_type": "code",
   "execution_count": 6,
   "metadata": {},
   "outputs": [
    {
     "name": "stdout",
     "output_type": "stream",
     "text": [
      "Call to Flux completed with exit code: 0\n",
      "Pure Python execution time: 3741010278 ns\n",
      "Parsl execution time: 2051795871 ns\n",
      "Parsl completes 45.15396327387476% faster\n"
     ]
    }
   ],
   "source": [
    "parStart = !date +%s%N\n",
    "\n",
    "WireDelay_futures = []\n",
    "for i in range(len(thresholdAll)):\n",
    "        WireDelay_futures.append(WireDelay(threshIn=thresholdAll[i], outputs=[wireDelayData[i]], \n",
    "                                           geoDir=geoDir, daqId=detectors[i], fw=firmwares[i]))\n",
    "        \n",
    "WireDelay_outputs = [i.outputs[0] for i in WireDelay_futures]\n",
    "\n",
    "Combine_future = Combine(inputs=WireDelay_outputs, outputs=[combineOut])\n",
    "\n",
    "SingleChannel_future = SingleChannel(inputs=Combine_future.outputs, outputs=[singleChannelOut], \n",
    "                                     channel=singlechannel_channel)\n",
    "\n",
    "Sort_future = Sort(inputs=SingleChannel_future.outputs, outputs=[sortOut], \n",
    "                   key1=sort_sortKey1, key2=sort_sortKey2)\n",
    "\n",
    "Flux_future = Flux(inputs=Sort_future.outputs, outputs=[fluxOut], binWidth=binWidth, geoDir=geoDir)\n",
    "\n",
    "x = Flux_future.result()\n",
    "\n",
    "print(\"Call to Flux completed with exit code:\", x)\n",
    "\n",
    "parStop = !date +%s%N\n",
    "parTime = int(parStop[0]) - int(parStart[0])\n",
    "print(\"Pure Python execution time: \" + str(ppTime) + \" ns\")\n",
    "print(\"Parsl execution time: \" + str(parTime) + \" ns\")\n",
    "print(\"Parsl completes \" + str((ppTime - parTime)*100/ppTime) + \"% faster\")"
   ]
  },
  {
   "cell_type": "markdown",
   "metadata": {},
   "source": [
    "### Plot"
   ]
  },
  {
   "cell_type": "code",
   "execution_count": 8,
   "metadata": {},
   "outputs": [
    {
     "data": {
      "image/png": "[encoded data removed]",
      "text/plain": [
       "<matplotlib.figure.Figure at 0x7fd028d9b898>"
      ]
     },
     "metadata": {},
     "output_type": "display_data"
    }
   ],
   "source": [
    "%matplotlib inline\n",
    "import matplotlib.pyplot as plt\n",
    "\n",
    "with open(\"par.fluxOut\") as flux:\n",
    "    # 'lines' will be a list having each line of 'fluxOut' as an element\n",
    "    lines = flux.readlines()\n",
    "    # Remove the first two lines, which are comments\n",
    "    lines = lines[2:]\n",
    "    # Get the date\n",
    "    date=str(lines[0].split()[0])\n",
    "    \n",
    "    # Split each line into x, y, and uncertainty arrays:\n",
    "    x = [(line.split()[1]) for line in lines]\n",
    "    y = [float(line.split()[2]) for line in lines]\n",
    "    dy = [float(line.split()[3]) for line in lines]\n",
    "\n",
    "#print(x)\n",
    "#print(y)\n",
    "#print(len(y))\n",
    "\n",
    "# Make the output plot bigger:\n",
    "#scale=15\n",
    "#plt.rcParams[\"figure.figsize\"]=[scale,scale]\n",
    "plt.rcParams[\"figure.figsize\"]=[15,7]\n",
    "\n",
    "# Slant tick-labels on x-axis for readability\n",
    "plt.xticks(rotation=30)\n",
    "\n",
    "# Add a title\n",
    "plt.title(\"Flux for \" + date)\n",
    "\n",
    "plt.scatter(x,y)\n",
    "\n",
    "# Add error bars\n",
    "#   Amplify error bars just to see if they're really there:\n",
    "#   dy = [20*i for i in dy]\n",
    "plt.errorbar(x,y,yerr=dy,linestyle=\"None\",fmt='o')\n",
    "plt.show()"
   ]
  },
  {
   "cell_type": "code",
   "execution_count": null,
   "metadata": {},
   "outputs": [],
   "source": []
  }
 ],
 "metadata": {
  "kernelspec": {
   "display_name": "Python 3",
   "language": "python",
   "name": "python3"
  },
  "language_info": {
   "codemirror_mode": {
    "name": "ipython",
    "version": 3
   },
   "file_extension": ".py",
   "mimetype": "text/x-python",
   "name": "python",
   "nbconvert_exporter": "python",
   "pygments_lexer": "ipython3",
   "version": "3.6.4"
  }
 },
 "nbformat": 4,
 "nbformat_minor": 2
}
