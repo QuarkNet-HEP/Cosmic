{
 "cells": [
  {
   "cell_type": "code",
   "execution_count": 5,
   "metadata": {},
   "outputs": [],
   "source": [
    "import ipywidgets as widgets"
   ]
  },
  {
   "cell_type": "markdown",
   "metadata": {},
   "source": [
    "*Instructors:*\n",
    "*This Notebook uses the Sort.pl script of the Cosmic Ray e-Lab analyses to provide material for the following learning goals:*\n",
    "\n",
    "* *Understanding energy scales in physics*\n",
    "* *Understanding ultra-high-energy cosmic rays as a real-world research problem*\n",
    "* *Identifying interesting data within a large dataset*\n",
    "* *Formulating questions and transforming data to answer them*"
   ]
  },
  {
   "cell_type": "markdown",
   "metadata": {},
   "source": [
    "# Sort"
   ]
  },
  {
   "cell_type": "markdown",
   "metadata": {},
   "source": [
    "## Motivation: Identifying high-energy cosmic rays"
   ]
  },
  {
   "cell_type": "markdown",
   "metadata": {},
   "source": [
    "**Understanding cosmic ray energy scales**"
   ]
  },
  {
   "cell_type": "markdown",
   "metadata": {},
   "source": [
    "Cosmic rays are considered \"high-energy\" radiation.  The typical energy of a muon-producing primary cosmic ray particle is 1-100 GeV.  \"GeV\" stands for \"Giga electron-Volt\"; the electron-Volt (eV) is the standard unit of energy in particle physics, and \"Giga\" is a prefix meaning \"one billion of them\", or $10^9$.  For comparison, \n",
    "\n",
    "* A single electron accelerated through a voltage of 1 Volt gains an energy equal to 1 eV (hence the name),\n",
    "\n",
    "* The energy of neutron emitted during the fission of a uranium nucleus is typically ~1 MeV, or ~0.001 GeV, and\n",
    "\n",
    "* The energy of a proton in one beam of the LHC, the highest-energy particle accelerator in human history, is 6.5 TeV, or 6,500 Gev.\n",
    "\n",
    "(\"M\" is a shorthand prefix for \"Mega\", meaning \"one million\" or $10^6$.  \"T\" is a shorthand prefix for \"Tera\", meaning \"one trillion\", or $10^{12}$).\n",
    "\n",
    "Your everyday primary cosmic ray particle isn't quite as energetic as what's collided at the LHC, but it's over 1,000 times more energetic than individual particles emitted during nuclear fission events, such as in a nuclear reactor or the detonation of a nuclear weapon."
   ]
  },
  {
   "cell_type": "markdown",
   "metadata": {},
   "source": [
    "Note that we say a \"typical\" cosmic ray particle has an energy of 1-100 GeV, but that isn't meant to be a limit.  Cosmic rays with energies higher than this range are measured frequently, and cosmic rays with energies of thousands or tens of thousands of GeV are usually considered unremarkable, though they become much rarer as you move further away from the 1-100 GeV range."
   ]
  },
  {
   "cell_type": "markdown",
   "metadata": {},
   "source": [
    "**Ultra-high-energy cosmic rays**"
   ]
  },
  {
   "cell_type": "markdown",
   "metadata": {},
   "source": [
    "Every once in a while, though, a cosmic ray is detected with an energy far greater than the typical 1-100 GeV.  Called \"ultra-high-energy cosmic rays\", these particles have energies of 1 *billion*, or $10^9$, GeV or greater.\n",
    "\n",
    "Such rare events are intriguing in their own right, but what's most significant about such particles is that *we don't know where they come from!*  We know of no natural process in the universe -- whether supernovas, quasars, or black hole accretion jets -- that are capable of accelerating particles to this energy."
   ]
  },
  {
   "cell_type": "markdown",
   "metadata": {},
   "source": [
    "Naturally, then, ultra-high-energy cosmic rays are the subject of scientific interest and research for what they might be able to reveal about unknown physics in the cosmos.  But in order to study them, we need to observe them, and in order to observe them, we need to find them in the data."
   ]
  },
  {
   "cell_type": "markdown",
   "metadata": {},
   "source": [
    "**Energy in CRMD data**"
   ]
  },
  {
   "cell_type": "markdown",
   "metadata": {},
   "source": [
    "Most cosmic ray muon detectors (CRMDs), including QuarkNet's, don't measure primary cosmic rays or their energies directly.  Rather, they measure muons created as secondary particles when primary cosmic ray particles strike the Earth's atmosphere."
   ]
  },
  {
   "cell_type": "markdown",
   "metadata": {},
   "source": [
    "QuarkNet CRMDs don't measure the energy of these secondary muons, either, at least not directly.  Recall how the CRMD works, though:\n",
    "\n",
    "First, a cosmic ray muon passes through one of the scintillating detector panels, which causes it to emit light.  Then, this light is gathered by a photomultiplier tube (PMT) that converts it to a voltage.  The detector's data acquisition board (DAQ) notes the times when this voltage first crosses a certain value (called the threshold), and then it notes again when that voltage falls back below the threshold.\n",
    "\n",
    "The time that the voltage pulse spends above the threshold is called the \"time over threshold\", and it's recorded as a data column in the output threshold data files.\n",
    "\n",
    "The more energy a muon has, the more light it generates in the scintillation panel of the detector.  This additional light registers at the PMT for a longer duration, meaning that the voltage pulse it produces lasts for a longer duration, and thus the \"time over threshold\" value recorded by the DAQ is greater than for a lower-energy muon.\n",
    "\n",
    "In other words, the \"time over threshold\" value is *correlated* to the energy of the muon, and this correlatoin is a *positive correlation*: as one increases, so does the other.  This means that, while we can't assign an energy value in GeV to a cosmic ray muon using QuarkNet's CRMDs, we can reasonably compare the energies of different muon events by looking at the \"time over threshold\" value in the data."
   ]
  },
  {
   "cell_type": "markdown",
   "metadata": {},
   "source": [
    "## Analyzing \"time over threshold\" in CRMD data"
   ]
  },
  {
   "cell_type": "markdown",
   "metadata": {},
   "source": [
    "Below, we use the UNIX utility `head` to examine a bit of data from the threshold file of a CRMD:"
   ]
  },
  {
   "cell_type": "code",
   "execution_count": 1,
   "metadata": {},
   "outputs": [
    {
     "name": "stdout",
     "output_type": "stream",
     "text": [
      "#$md5\r\n",
      "#md5_hex(0)\r\n",
      "#ID.CHANNEL, Julian Day, RISING EDGE(sec), FALLING EDGE(sec), TIME OVER THRESHOLD (nanosec), RISING EDGE(INT), FALLING EDGE(INT)\r\n",
      "6148.4\t2457396\t0.5006992493422453\t0.5006992493424479\t17.51\t4326041514317000\t4326041514318750\r\n",
      "6148.3\t2457396\t0.5006992493422887\t0.5006992493424768\t16.25\t4326041514317375\t4326041514319000\r\n",
      "6148.2\t2457396\t0.5007005963399161\t0.5007005963400029\t7.49\t4326053152376876\t4326053152377625\r\n",
      "6148.3\t2457396\t0.5007005963401910\t0.5007005963404514\t22.49\t4326053152379250\t4326053152381500\r\n",
      "6148.4\t2457396\t0.5007005963401765\t0.5007005963404658\t25.00\t4326053152379125\t4326053152381624\r\n"
     ]
    }
   ],
   "source": [
    "!head -8 files/6148.2016.0109.0.thresh"
   ]
  },
  {
   "cell_type": "markdown",
   "metadata": {},
   "source": [
    "The values we're interested in are in the `TIME OVER THRESHOLD (nanosec)` column (the ones with values 17.51, 16.25, 7.49, and so on)."
   ]
  },
  {
   "cell_type": "markdown",
   "metadata": {},
   "source": [
    "**Your assignment:** Running the next cell will display 100 lines of data similar to those above, but from a different threshold file.  When you run the cell, start a timer.  Identify all lines in the data that have a \"time over threshold\" value between **15.24** and **21.80** by copying and pasting them into the cell below it.  Stop the timer when you're satisified that you've found all values."
   ]
  },
  {
   "cell_type": "code",
   "execution_count": null,
   "metadata": {},
   "outputs": [],
   "source": [
    "!head -103 files/6148.2017.0507.0-100.thresh"
   ]
  },
  {
   "cell_type": "code",
   "execution_count": 22,
   "metadata": {},
   "outputs": [
    {
     "data": {
      "application/vnd.jupyter.widget-view+json": {
       "model_id": "40e058108adf40978e4d082b385cf781",
       "version_major": 2,
       "version_minor": 0
      },
      "text/html": [
       "<p>Failed to display Jupyter Widget of type <code>Textarea</code>.</p>\n",
       "<p>\n",
       "  If you're reading this message in the Jupyter Notebook or JupyterLab Notebook, it may mean\n",
       "  that the widgets JavaScript is still loading. If this message persists, it\n",
       "  likely means that the widgets JavaScript library is either not installed or\n",
       "  not enabled. See the <a href=\"https://ipywidgets.readthedocs.io/en/stable/user_install.html\">Jupyter\n",
       "  Widgets Documentation</a> for setup instructions.\n",
       "</p>\n",
       "<p>\n",
       "  If you're reading this message in another frontend (for example, a static\n",
       "  rendering on GitHub or <a href=\"https://nbviewer.jupyter.org/\">NBViewer</a>),\n",
       "  it may mean that your frontend doesn't currently support widgets.\n",
       "</p>\n"
      ],
      "text/plain": [
       "Textarea(value='', description='Data:', layout=Layout(height='200px', width='100%'), placeholder='Paste matching data lines here')"
      ]
     },
     "metadata": {},
     "output_type": "display_data"
    }
   ],
   "source": [
    "#\n",
    "# Ignore this box.  It's just to make the text entry box below.\n",
    "#\n",
    "widgets.Textarea(\n",
    "    value='',\n",
    "    placeholder='Paste matching data lines here',\n",
    "    description='Data:',\n",
    "    disabled=False,\n",
    "    layout=widgets.Layout(width='100%', height='200px')\n",
    ")"
   ]
  },
  {
   "cell_type": "markdown",
   "metadata": {},
   "source": [
    "How many lines did you find?  How long did it take?"
   ]
  },
  {
   "cell_type": "code",
   "execution_count": 31,
   "metadata": {},
   "outputs": [
    {
     "data": {
      "application/vnd.jupyter.widget-view+json": {
       "model_id": "061927bef603447dbddd19b3c2b6f76f",
       "version_major": 2,
       "version_minor": 0
      },
      "text/html": [
       "<p>Failed to display Jupyter Widget of type <code>Text</code>.</p>\n",
       "<p>\n",
       "  If you're reading this message in the Jupyter Notebook or JupyterLab Notebook, it may mean\n",
       "  that the widgets JavaScript is still loading. If this message persists, it\n",
       "  likely means that the widgets JavaScript library is either not installed or\n",
       "  not enabled. See the <a href=\"https://ipywidgets.readthedocs.io/en/stable/user_install.html\">Jupyter\n",
       "  Widgets Documentation</a> for setup instructions.\n",
       "</p>\n",
       "<p>\n",
       "  If you're reading this message in another frontend (for example, a static\n",
       "  rendering on GitHub or <a href=\"https://nbviewer.jupyter.org/\">NBViewer</a>),\n",
       "  it may mean that your frontend doesn't currently support widgets.\n",
       "</p>\n"
      ],
      "text/plain": [
       "Text(value='', description='# lines:', placeholder='Number of data lines')"
      ]
     },
     "metadata": {},
     "output_type": "display_data"
    },
    {
     "data": {
      "application/vnd.jupyter.widget-view+json": {
       "model_id": "473b0ef16e7a4697a10b3ddbce537867",
       "version_major": 2,
       "version_minor": 0
      },
      "text/html": [
       "<p>Failed to display Jupyter Widget of type <code>Text</code>.</p>\n",
       "<p>\n",
       "  If you're reading this message in the Jupyter Notebook or JupyterLab Notebook, it may mean\n",
       "  that the widgets JavaScript is still loading. If this message persists, it\n",
       "  likely means that the widgets JavaScript library is either not installed or\n",
       "  not enabled. See the <a href=\"https://ipywidgets.readthedocs.io/en/stable/user_install.html\">Jupyter\n",
       "  Widgets Documentation</a> for setup instructions.\n",
       "</p>\n",
       "<p>\n",
       "  If you're reading this message in another frontend (for example, a static\n",
       "  rendering on GitHub or <a href=\"https://nbviewer.jupyter.org/\">NBViewer</a>),\n",
       "  it may mean that your frontend doesn't currently support widgets.\n",
       "</p>\n"
      ],
      "text/plain": [
       "Text(value='', description='Time (s):', placeholder='Time')"
      ]
     },
     "metadata": {},
     "output_type": "display_data"
    }
   ],
   "source": [
    "#\n",
    "# Ignore this box.  It's just to make the two entry boxes below.\n",
    "#\n",
    "numberFound = widgets.Text(\n",
    "    value='',\n",
    "    placeholder='Number of data lines',\n",
    "    description='# lines:',\n",
    "    disabled=False\n",
    ")\n",
    "\n",
    "timeToFind = widgets.Text(\n",
    "    value='',\n",
    "    placeholder='Time',\n",
    "    description='Time (s):',\n",
    "    disabled=False\n",
    ")\n",
    "\n",
    "display(numberFound)\n",
    "display(timeToFind)"
   ]
  },
  {
   "cell_type": "markdown",
   "metadata": {},
   "source": [
    "*Instructor's copy: there are 23 lines with TOT between 15.24 and 21.80*"
   ]
  },
  {
   "cell_type": "markdown",
   "metadata": {},
   "source": [
    "You'll probably agree that the method you just used to identify certain data in a large set is not the most efficient way of doing things.  If we're looking for particular values, or values in a certain range, it's much easier to do that if the data is *sorted* by the value of interest."
   ]
  },
  {
   "cell_type": "markdown",
   "metadata": {},
   "source": [
    "In their standard form, QuarkNet's CRMD threshold files are sorted by \"rising edge\" times (you can see this easily in the 100-line output of `6148.2017.0507.0-100.thresh` that you just scanned through).  That is, they're organized chronologically by the time that each muon's signal pulse first exceeded the DAQ threshold.  If we care about the \"time over threshold\" values more than time of day the muons arrived, then it makes more sense to re-organize the data by that value."
   ]
  },
  {
   "cell_type": "markdown",
   "metadata": {},
   "source": [
    "This is what the `Sort.pl` data transformation does.  We'll apply it to the data you examined above to see how much easier it makes the task of finding just the right data in a set."
   ]
  },
  {
   "cell_type": "markdown",
   "metadata": {},
   "source": [
    "## Using Sort.pl"
   ]
  },
  {
   "cell_type": "markdown",
   "metadata": {},
   "source": [
    "To use the data transformation script `Sort.pl`, we provide it with (in order): an input file, what to name its output file, and two column-sorting parameters:\n",
    "\n",
    "`$ perl ./perl/Sort.pl <input file> <output file> <primary sort column> <secondary sort column>`\n",
    "\n",
    "where the items in angled brackets `<>` are parameters we have to specify.  In more detail, these are:\n",
    "\n",
    "* `input file`:  The name of the input file to be sorted; we can specify only one for this script\n",
    "* `output file`: What we want to name the output file that the script will write its results to\n",
    "* `primary sort column`: The number of the data column we want to sort\n",
    "* `secondary sort column`: The number of the data column we want to sub-sort"
   ]
  },
  {
   "cell_type": "markdown",
   "metadata": {},
   "source": [
    "\"Primary\" and \"secondary\" sort might need a little more explanation, which we can illustrate with some fake threshold data:\n",
    "\n",
    "```\n",
    "#ID.CHANNEL, Julian Day, RISING EDGE(sec), FALLING EDGE(sec), TIME OVER THRESHOLD (nanosec), RISING EDGE(INT), FALLING EDGE(INT)\n",
    "6148.1\t2457880\t0.50751\t0.50802\t34.99\t43325\t43325\n",
    "6148.1\t2457880\t0.50091\t0.50262\t18.75\t43375\t43350\n",
    "6148.4\t2457880\t0.50828\t0.50577\t23.75\t43376\t43350\n",
    "6148.2\t2457880\t0.50059\t0.50978\t42.50\t43475\t43425\n",
    "6148.1\t2457880\t0.50096\t0.50569\t30.00\t43400\t43400\n",
    "6148.1\t2457880\t0.50040\t0.50355\t20.00\t43475\t43475\n",
    "6148.1\t2457880\t0.50789\t0.50960\t18.76\t43450\t43426\n",
    "6148.2\t2457880\t0.50330\t0.50815\t38.75\t43425\t43400\n",
    "6148.1\t2457880\t0.50539\t0.50972\t 3.74\t43426\t43400\n",
    "6148.2\t2457880\t0.50564\t0.50616\t35.01\t43500\t43500\n",
    "6148.4\t2457880\t0.50616\t0.50497\t16.25\t43500\t43526\n",
    "6148.2\t2457880\t0.50050\t0.50508\t21.24\t43575\t43500\n",
    "6148.4\t2457880\t0.50246\t0.50139\t25.00\t43500\t43500\n",
    "```\n",
    "\n",
    "\"Primary sort\" means that we focus first and foremost on sorting the data in that specific column.  Let's say that we want to sort the data by detector channel, which is given by the `ID.CHANNEL` values in the first column, so that we can easily see all the data taken by each detector panel.  Once sorted on that column, the data looks like this:\n",
    "\n",
    "```\n",
    "#ID.CHANNEL, Julian Day, RISING EDGE(sec), FALLING EDGE(sec), TIME OVER THRESHOLD (nanosec), RISING EDGE(INT), FALLING EDGE(INT)\n",
    "6148.1\t2457880\t0.50751\t0.50802\t34.99\t43325\t43325\n",
    "6148.1\t2457880\t0.50091\t0.50262\t18.75\t43375\t43350\n",
    "6148.1\t2457880\t0.50096\t0.50569\t30.00\t43400\t43400\n",
    "6148.1\t2457880\t0.50040\t0.50355\t20.00\t43475\t43475\n",
    "6148.1\t2457880\t0.50789\t0.50960\t18.76\t43450\t43426\n",
    "6148.1\t2457880\t0.50539\t0.50972\t 3.74\t43426\t43400\n",
    "6148.2\t2457880\t0.50059\t0.50978\t42.50\t43475\t43425\n",
    "6148.2\t2457880\t0.50330\t0.50815\t38.75\t43425\t43400\n",
    "6148.2\t2457880\t0.50564\t0.50616\t35.01\t43500\t43500\n",
    "6148.2\t2457880\t0.50050\t0.50508\t21.24\t43575\t43500\n",
    "6148.4\t2457880\t0.50828\t0.50577\t23.75\t43376\t43350\n",
    "6148.4\t2457880\t0.50616\t0.50497\t16.25\t43500\t43526\n",
    "6148.4\t2457880\t0.50246\t0.50139\t25.00\t43500\t43500\n",
    "```\n",
    "\n",
    "You can see that the first column is in numerical order according to the decimal after `6148`, which is the DAQ ID for this detector and which doesn't change throughout the data.\n",
    "\n",
    "All of the values for `ID.CHANNEL` occur multiple times, however.  Our primary sort on column 1 means that all `6148.1` values come first, but there's a \"tie\" among six different lines of data that have that same `ID.CHANNEL`.  The \"secondary sort\" column is what we use to \"break the tie;\" whenever the primary sort values are equal, we choose the ordering of data lines by what's in the secondary sort column.\n",
    "\n",
    "For instance, with the primary sort accomplished as above, we may want to perform a secondary sort on the `TIME OVER THRESHOLD` column.  The results look like this:\n",
    "\n",
    "```\n",
    "#ID.CHANNEL, Julian Day, RISING EDGE(sec), FALLING EDGE(sec), TIME OVER THRESHOLD (nanosec), RISING EDGE(INT), FALLING EDGE(INT)\n",
    "6148.1\t2457880\t0.50539\t0.50972\t 3.74\t43426\t43400\n",
    "6148.1\t2457880\t0.50091\t0.50262\t18.75\t43375\t43350\n",
    "6148.1\t2457880\t0.50789\t0.50960\t18.76\t43450\t43426\n",
    "6148.1\t2457880\t0.50040\t0.50355\t20.00\t43475\t43475\n",
    "6148.1\t2457880\t0.50096\t0.50569\t30.00\t43400\t43400\n",
    "6148.1\t2457880\t0.50751\t0.50802\t34.99\t43325\t43325\n",
    "6148.2\t2457880\t0.50050\t0.50508\t21.24\t43575\t43500\n",
    "6148.2\t2457880\t0.50564\t0.50616\t35.01\t43500\t43500\n",
    "6148.2\t2457880\t0.50330\t0.50815\t38.75\t43425\t43400\n",
    "6148.2\t2457880\t0.50059\t0.50978\t42.50\t43475\t43425\n",
    "6148.4\t2457880\t0.50616\t0.50497\t16.25\t43500\t43526\n",
    "6148.4\t2457880\t0.50828\t0.50577\t23.75\t43376\t43350\n",
    "6148.4\t2457880\t0.50246\t0.50139\t25.00\t43500\t43500\n",
    "```\n",
    "\n",
    "The data remains sorted by `ID.CHANNEL`, but whenever there's a tie for that value, the data is now sorted by the `TIME OVER THRESHOLD` value.\n",
    "\n",
    "You might ask, \"What if there's a tie in the secondary sort column?\"  Could we define a \"tertiary sort\" to break that tie, too?  Absolutely!  In principle, we can define as many \"tiebreaker\" sorts as there are columns of data.  In this specific case, however, the `Sort.pl` script doesn't define anything beyond a secondary sort because it hasn't turned out to be very useful for any of the data analysis used in the Cosmic Ray e-Lab.  If two lines of data are equal for both the primary sort and secondary sort values, `Sort.pl` leaves them in whatever order it found them in in the input file (which is typically sorted by the `RISING EDGE` value)."
   ]
  },
  {
   "cell_type": "markdown",
   "metadata": {},
   "source": [
    "### 1) Investigating the input data"
   ]
  },
  {
   "cell_type": "markdown",
   "metadata": {},
   "source": [
    "In this case, you've already thoroughly investigated the input data when you read through the file output looking for \"time over threshold\" values in a given range.  Good work!"
   ]
  },
  {
   "cell_type": "markdown",
   "metadata": {},
   "source": [
    "### 2) Applying the data transformation"
   ]
  },
  {
   "cell_type": "markdown",
   "metadata": {},
   "source": [
    "Remember that the command-line call to `Sort.pl` is of the form\n",
    "\n",
    "`$ perl ./perl/Sort.pl <input file> <output file> <primary sort column> <secondary sort column>`\n",
    "\n",
    "We're interested in \"time over threshold,\" so we'll sort by that as the primary column (that's column 5).  We don't have any particular interest in any other values, so we'll take column 1, the `ID.CHANNEL` value, as secondary sort.  We'll call the output file `6148.2017.0507.0-100.sorted01` and put it in the `outputs/` folder. The command will be\n",
    "\n",
    "`$ perl ./perl/Sort.pl files/6148.2017.0507.0-100.thresh outputs/6148.2017.0507.0-100.sorted01 5 1`"
   ]
  },
  {
   "cell_type": "markdown",
   "metadata": {},
   "source": [
    "Let's run it:"
   ]
  },
  {
   "cell_type": "code",
   "execution_count": 29,
   "metadata": {},
   "outputs": [],
   "source": [
    "!perl ./perl/Sort.pl files/6148.2017.0507.0-100.thresh outputs/6148.2017.0507.0-100.sorted01 5 1"
   ]
  },
  {
   "cell_type": "markdown",
   "metadata": {},
   "source": [
    "### 3) Investigating the output data"
   ]
  },
  {
   "cell_type": "markdown",
   "metadata": {},
   "source": [
    "Before we look at the output, we'll set up the same test as before.  At the moment you run the next cell, start a timer.  In the entry box below the cell's output, copy and paste all lines of data with a \"time over threshold\" value between **15.24** and **21.80**.  When you're satisfied you've found them all, stop the timer."
   ]
  },
  {
   "cell_type": "code",
   "execution_count": null,
   "metadata": {},
   "outputs": [],
   "source": [
    "!head -103 outputs/6148.2017.0507.0-100.sorted01"
   ]
  },
  {
   "cell_type": "code",
   "execution_count": 32,
   "metadata": {},
   "outputs": [
    {
     "data": {
      "application/vnd.jupyter.widget-view+json": {
       "model_id": "13e9ed233d494e6995471b75a5d7acd2",
       "version_major": 2,
       "version_minor": 0
      },
      "text/html": [
       "<p>Failed to display Jupyter Widget of type <code>Textarea</code>.</p>\n",
       "<p>\n",
       "  If you're reading this message in the Jupyter Notebook or JupyterLab Notebook, it may mean\n",
       "  that the widgets JavaScript is still loading. If this message persists, it\n",
       "  likely means that the widgets JavaScript library is either not installed or\n",
       "  not enabled. See the <a href=\"https://ipywidgets.readthedocs.io/en/stable/user_install.html\">Jupyter\n",
       "  Widgets Documentation</a> for setup instructions.\n",
       "</p>\n",
       "<p>\n",
       "  If you're reading this message in another frontend (for example, a static\n",
       "  rendering on GitHub or <a href=\"https://nbviewer.jupyter.org/\">NBViewer</a>),\n",
       "  it may mean that your frontend doesn't currently support widgets.\n",
       "</p>\n"
      ],
      "text/plain": [
       "Textarea(value='', description='Data:', layout=Layout(height='200px', width='100%'), placeholder='Paste matching data lines here')"
      ]
     },
     "metadata": {},
     "output_type": "display_data"
    },
    {
     "data": {
      "application/vnd.jupyter.widget-view+json": {
       "model_id": "0bc3c56a69dd47fab68e1293ad6e8c81",
       "version_major": 2,
       "version_minor": 0
      },
      "text/html": [
       "<p>Failed to display Jupyter Widget of type <code>Text</code>.</p>\n",
       "<p>\n",
       "  If you're reading this message in the Jupyter Notebook or JupyterLab Notebook, it may mean\n",
       "  that the widgets JavaScript is still loading. If this message persists, it\n",
       "  likely means that the widgets JavaScript library is either not installed or\n",
       "  not enabled. See the <a href=\"https://ipywidgets.readthedocs.io/en/stable/user_install.html\">Jupyter\n",
       "  Widgets Documentation</a> for setup instructions.\n",
       "</p>\n",
       "<p>\n",
       "  If you're reading this message in another frontend (for example, a static\n",
       "  rendering on GitHub or <a href=\"https://nbviewer.jupyter.org/\">NBViewer</a>),\n",
       "  it may mean that your frontend doesn't currently support widgets.\n",
       "</p>\n"
      ],
      "text/plain": [
       "Text(value='', description='# lines:', placeholder='Number of data lines')"
      ]
     },
     "metadata": {},
     "output_type": "display_data"
    },
    {
     "data": {
      "application/vnd.jupyter.widget-view+json": {
       "model_id": "503737965a8644a59665ee32c07d38e3",
       "version_major": 2,
       "version_minor": 0
      },
      "text/html": [
       "<p>Failed to display Jupyter Widget of type <code>Text</code>.</p>\n",
       "<p>\n",
       "  If you're reading this message in the Jupyter Notebook or JupyterLab Notebook, it may mean\n",
       "  that the widgets JavaScript is still loading. If this message persists, it\n",
       "  likely means that the widgets JavaScript library is either not installed or\n",
       "  not enabled. See the <a href=\"https://ipywidgets.readthedocs.io/en/stable/user_install.html\">Jupyter\n",
       "  Widgets Documentation</a> for setup instructions.\n",
       "</p>\n",
       "<p>\n",
       "  If you're reading this message in another frontend (for example, a static\n",
       "  rendering on GitHub or <a href=\"https://nbviewer.jupyter.org/\">NBViewer</a>),\n",
       "  it may mean that your frontend doesn't currently support widgets.\n",
       "</p>\n"
      ],
      "text/plain": [
       "Text(value='', description='Time (s):', placeholder='Time')"
      ]
     },
     "metadata": {},
     "output_type": "display_data"
    }
   ],
   "source": [
    "#\n",
    "# Ignore this box.  It's just to make the text entry boxes below.\n",
    "#\n",
    "dataFound = widgets.Textarea(\n",
    "    value='',\n",
    "    placeholder='Paste matching data lines here',\n",
    "    description='Data:',\n",
    "    disabled=False,\n",
    "    layout=widgets.Layout(width='100%', height='200px')\n",
    ")\n",
    "\n",
    "numberFound = widgets.Text(\n",
    "    value='',\n",
    "    placeholder='Number of data lines',\n",
    "    description='# lines:',\n",
    "    disabled=False\n",
    ")\n",
    "\n",
    "timeToFind = widgets.Text(\n",
    "    value='',\n",
    "    placeholder='Time',\n",
    "    description='Time (s):',\n",
    "    disabled=False\n",
    ")\n",
    "\n",
    "display(dataFound)\n",
    "display(numberFound)\n",
    "display(timeToFind)"
   ]
  },
  {
   "cell_type": "markdown",
   "metadata": {},
   "source": [
    "At this point, you should have a good idea of how sorting works as a data transformation, how to use the `Sort.pl` data transformation script, and why sorting data strategically can make data easier to find in a large set.  We'll provide one final example of the utility of sorting data for easy interpretation."
   ]
  },
  {
   "cell_type": "markdown",
   "metadata": {},
   "source": [
    "## More: Binning unsorted and sorted data"
   ]
  },
  {
   "cell_type": "code",
   "execution_count": 139,
   "metadata": {},
   "outputs": [
    {
     "data": {
      "text/html": [
       "<table style=\"font-family: monospace;\"><tr style=\"background:light grey; text-align:left; float:left; width:100%\"><td>#ID.CHANNEL, Julian Day, RISING EDGE(sec), FALLING EDGE(sec), TIME OVER THRESHOLD (nanosec), RISING EDGE(INT), FALLING EDGE(INT)\n",
       "</td></tr><tr style=\"background:light grey; text-align:left; float:left; width:100%\"><td>#$md5\n",
       "</td></tr><tr style=\"background:light grey; text-align:left; float:left; width:100%\"><td>#md5_hex(0)\n",
       "</td></tr><tr style=\"background:#0000ff94; text-align:left; float:left;\"><td>6148.1\t2457880\t0.5031973088190539\t0.5031973088190972\t3.74\t4347624748196626\t4347624748197000\n",
       "</td></tr><tr style=\"background:#1111ff88; text-align:left; float:left;\"><td>6148.2\t2457880\t0.5084033325749566\t0.5084033325750289\t6.24\t4392604793447625\t4392604793448250\n",
       "</td></tr><tr style=\"background:#2222ff82; text-align:left; float:left;\"><td>6148.4\t2457880\t0.5077635815087385\t0.5077635815088686\t11.24\t4387077344235500\t4387077344236625\n",
       "</td></tr><tr style=\"background:#2222ff82; text-align:left; float:left;\"><td>6148.1\t2457880\t0.5061111738521267\t0.5061111738522569\t11.25\t4372800542082375\t4372800542083500\n",
       "</td></tr><tr style=\"background:#2222ff82; text-align:left; float:left;\"><td>6148.2\t2457880\t0.5155959395310763\t0.5155959395312065\t11.25\t4454748917548500\t4454748917549624\n",
       "</td></tr><tr style=\"background:#2222ff82; text-align:left; float:left;\"><td>6148.3\t2457880\t0.5084033325754340\t0.5084033325755642\t11.25\t4392604793451750\t4392604793452876\n",
       "</td></tr><tr style=\"background:#2222ff82; text-align:left; float:left;\"><td>6148.1\t2457880\t0.5152390360547453\t0.5152390360548900\t12.50\t4451665271513000\t4451665271514250\n",
       "</td></tr><tr style=\"background:#2222ff82; text-align:left; float:left;\"><td>6148.2\t2457880\t0.5070787525348525\t0.5070787525350116\t13.75\t4381160421901125\t4381160421902500\n",
       "</td></tr><tr style=\"background:#2222ff82; text-align:left; float:left;\"><td>6148.3\t2457880\t0.5078111874290944\t0.5078111874292535\t13.75\t4387488659387375\t4387488659388750\n",
       "</td></tr><tr style=\"background:#2222ff82; text-align:left; float:left;\"><td>6148.4\t2457880\t0.5061111738522714\t0.5061111738524305\t13.75\t4372800542083625\t4372800542085000\n",
       "</td></tr><tr style=\"background:#2222ff82; text-align:left; float:left;\"><td>6148.1\t2457880\t0.5080568959258970\t0.5080568959260562\t13.76\t4389611580799750\t4389611580801125\n",
       "</td></tr><tr style=\"background:#2222ff82; text-align:left; float:left;\"><td>6148.2\t2457880\t0.5146923525710503\t0.5146923525712095\t13.76\t4446941926213875\t4446941926215250\n",
       "</td></tr><tr style=\"background:#2222ff82; text-align:left; float:left;\"><td>6148.1\t2457880\t0.5176945029912327\t0.5176945029914062\t14.99\t4472880505844250\t4472880505845750\n",
       "</td></tr><tr style=\"background:#2222ff82; text-align:left; float:left;\"><td>6148.4\t2457880\t0.5117097165207466\t0.5117097165209201\t14.99\t4421171950739250\t4421171950740750\n",
       "</td></tr><tr style=\"background:#3333ff76; text-align:left; float:left;\"><td>6148.2\t2457880\t0.5077635815083767\t0.5077635815085504\t15.00\t4387077344232375\t4387077344233875\n",
       "</td></tr><tr style=\"background:#3333ff76; text-align:left; float:left;\"><td>6148.3\t2457880\t0.5146923525714265\t0.5146923525716002\t15.00\t4446941926217125\t4446941926218626\n",
       "</td></tr><tr style=\"background:#3333ff76; text-align:left; float:left;\"><td>6148.3\t2457880\t0.5061111738524017\t0.5061111738525897\t16.25\t4372800542084750\t4372800542086375\n",
       "</td></tr><tr style=\"background:#3333ff76; text-align:left; float:left;\"><td>6148.3\t2457880\t0.5066421161888455\t0.5066421161890335\t16.25\t4377387883871625\t4377387883873250\n",
       "</td></tr><tr style=\"background:#3333ff76; text-align:left; float:left;\"><td>6148.4\t2457880\t0.5042477725162616\t0.5042477725164497\t16.25\t4356700754540500\t4356700754542126\n",
       "</td></tr><tr style=\"background:#3333ff76; text-align:left; float:left;\"><td>6148.4\t2457880\t0.5129586356910590\t0.5129586356912471\t16.25\t4431962612370750\t4431962612372375\n",
       "</td></tr><tr style=\"background:#3333ff76; text-align:left; float:left;\"><td>6148.4\t2457880\t0.5184813685970486\t0.5184813685972367\t16.25\t4479679024678500\t4479679024680126\n",
       "</td></tr><tr style=\"background:#3333ff76; text-align:left; float:left;\"><td>6148.4\t2457880\t0.5050170170733507\t0.5050170170735389\t16.26\t4363347027513750\t4363347027515376\n",
       "</td></tr><tr style=\"background:#3333ff76; text-align:left; float:left;\"><td>6148.4\t2457880\t0.5117987995335214\t0.5117987995337095\t16.26\t4421941627969625\t4421941627971250\n",
       "</td></tr><tr style=\"background:#3333ff76; text-align:left; float:left;\"><td>6148.4\t2457880\t0.5171927507548900\t0.5171927507550925\t17.50\t4468545366522250\t4468545366524000\n",
       "</td></tr><tr style=\"background:#3333ff76; text-align:left; float:left;\"><td>6148.4\t2457880\t0.5072677846100839\t0.5072677846103009\t18.74\t4382793659031125\t4382793659033000\n",
       "</td></tr><tr style=\"background:#3333ff76; text-align:left; float:left;\"><td>6148.1\t2457880\t0.5017287926939091\t0.5017287926941262\t18.75\t4334936768875375\t4334936768877250\n",
       "</td></tr><tr style=\"background:#3333ff76; text-align:left; float:left;\"><td>6148.2\t2457880\t0.5183508893060185\t0.5183508893062355\t18.75\t4478551683604000\t4478551683605875\n",
       "</td></tr><tr style=\"background:#3333ff76; text-align:left; float:left;\"><td>6148.1\t2457880\t0.5031973088187789\t0.5031973088189960\t18.76\t4347624748194250\t4347624748196126\n",
       "</td></tr><tr style=\"background:#4444ff70; text-align:left; float:left;\"><td>6148.1\t2457880\t0.5031973088185040\t0.5031973088187355\t20.00\t4347624748191875\t4347624748193875\n",
       "</td></tr><tr style=\"background:#4444ff70; text-align:left; float:left;\"><td>6148.3\t2457880\t0.5051571841114728\t0.5051571841117043\t20.00\t4364558070723126\t4364558070725124\n",
       "</td></tr><tr style=\"background:#4444ff70; text-align:left; float:left;\"><td>6148.3\t2457880\t0.5117097165203125\t0.5117097165205440\t20.00\t4421171950735500\t4421171950737500\n",
       "</td></tr><tr style=\"background:#4444ff70; text-align:left; float:left;\"><td>6148.3\t2457880\t0.5174959678847078\t0.5174959678849392\t20.00\t4471165162523875\t4471165162525876\n",
       "</td></tr><tr style=\"background:#4444ff70; text-align:left; float:left;\"><td>6148.4\t2457880\t0.5083712523513455\t0.5083712523515770\t20.00\t4392327620315625\t4392327620317624\n",
       "</td></tr><tr style=\"background:#4444ff70; text-align:left; float:left;\"><td>6148.4\t2457880\t0.5155959395314526\t0.5155959395316840\t20.00\t4454748917551750\t4454748917553750\n",
       "</td></tr><tr style=\"background:#4444ff70; text-align:left; float:left;\"><td>6148.4\t2457880\t0.5175134781149740\t0.5175134781152054\t20.00\t4471316450913375\t4471316450915375\n",
       "</td></tr><tr style=\"background:#4444ff70; text-align:left; float:left;\"><td>6148.3\t2457880\t0.5184813685970341\t0.5184813685972657\t20.01\t4479679024678375\t4479679024680375\n",
       "</td></tr><tr style=\"background:#4444ff70; text-align:left; float:left;\"><td>6148.2\t2457880\t0.5046114165538050\t0.5046114165540508\t21.24\t4359842639024875\t4359842639027000\n",
       "</td></tr><tr style=\"background:#4444ff70; text-align:left; float:left;\"><td>6148.3\t2457880\t0.5056840458371383\t0.5056840458373842\t21.25\t4369110156032875\t4369110156035000\n",
       "</td></tr><tr style=\"background:#4444ff70; text-align:left; float:left;\"><td>6148.4\t2457880\t0.5066421161888021\t0.5066421161890480\t21.25\t4377387883871250\t4377387883873375\n",
       "</td></tr><tr style=\"background:#4444ff70; text-align:left; float:left;\"><td>6148.2\t2457880\t0.5176945029909723\t0.5176945029912327\t22.49\t4472880505842000\t4472880505844250\n",
       "</td></tr><tr style=\"background:#4444ff70; text-align:left; float:left;\"><td>6148.4\t2457880\t0.5152802500915944\t0.5152802500918547\t22.49\t4452021360791376\t4452021360793624\n",
       "</td></tr><tr style=\"background:#4444ff70; text-align:left; float:left;\"><td>6148.2\t2457880\t0.5077635815080729\t0.5077635815083333\t22.50\t4387077344229750\t4387077344232000\n",
       "</td></tr><tr style=\"background:#4444ff70; text-align:left; float:left;\"><td>6148.4\t2457880\t0.5077635815084490\t0.5077635815087095\t22.50\t4387077344233000\t4387077344235250\n",
       "</td></tr><tr style=\"background:#4444ff70; text-align:left; float:left;\"><td>6148.2\t2457880\t0.5079925649947483\t0.5079925649950231\t23.74\t4389055761554626\t4389055761557000\n",
       "</td></tr><tr style=\"background:#4444ff70; text-align:left; float:left;\"><td>6148.4\t2457880\t0.5146923525713687\t0.5146923525716435\t23.74\t4446941926216625\t4446941926219000\n",
       "</td></tr><tr style=\"background:#4444ff70; text-align:left; float:left;\"><td>6148.2\t2457880\t0.5138022416213976\t0.5138022416216725\t23.75\t4439251367608876\t4439251367611250\n",
       "</td></tr><tr style=\"background:#4444ff70; text-align:left; float:left;\"><td>6148.3\t2457880\t0.5046114165546874\t0.5046114165549623\t23.75\t4359842639032500\t4359842639034874\n",
       "</td></tr><tr style=\"background:#4444ff70; text-align:left; float:left;\"><td>6148.4\t2457880\t0.5017287926940828\t0.5017287926943577\t23.75\t4334936768876876\t4334936768879250\n",
       "</td></tr><tr style=\"background:#5555ff64; text-align:left; float:left;\"><td>6148.4\t2457880\t0.5046114165542246\t0.5046114165545139\t25.00\t4359842639028500\t4359842639031000\n",
       "</td></tr><tr style=\"background:#5555ff64; text-align:left; float:left;\"><td>6148.2\t2457880\t0.5080568959255787\t0.5080568959258825\t26.25\t4389611580797000\t4389611580799625\n",
       "</td></tr><tr style=\"background:#5555ff64; text-align:left; float:left;\"><td>6148.4\t2457880\t0.5168735066222656\t0.5168735066225695\t26.25\t4465787097216375\t4465787097219000\n",
       "</td></tr><tr style=\"background:#5555ff64; text-align:left; float:left;\"><td>6148.2\t2457880\t0.5175134781145834\t0.5175134781149016\t27.49\t4471316450910000\t4471316450912750\n",
       "</td></tr><tr style=\"background:#5555ff64; text-align:left; float:left;\"><td>6148.3\t2457880\t0.5133597936182003\t0.5133597936185185\t27.49\t4435428616861250\t4435428616864000\n",
       "</td></tr><tr style=\"background:#5555ff64; text-align:left; float:left;\"><td>6148.3\t2457880\t0.5155959395314670\t0.5155959395317853\t27.50\t4454748917551875\t4454748917554625\n",
       "</td></tr><tr style=\"background:#5555ff64; text-align:left; float:left;\"><td>6148.1\t2457880\t0.5079925649943722\t0.5079925649947049\t28.75\t4389055761551376\t4389055761554250\n",
       "</td></tr><tr style=\"background:#5555ff64; text-align:left; float:left;\"><td>6148.3\t2457880\t0.5152802500915364\t0.5152802500918692\t28.75\t4452021360790875\t4452021360793750\n",
       "</td></tr><tr style=\"background:#5555ff64; text-align:left; float:left;\"><td>6148.3\t2457880\t0.5168735066221933\t0.5168735066225261\t28.75\t4465787097215750\t4465787097218626\n",
       "</td></tr><tr style=\"background:#5555ff64; text-align:left; float:left;\"><td>6148.4\t2457880\t0.5186049055972223\t0.5186049055975550\t28.75\t4480746384360000\t4480746384362875\n",
       "</td></tr><tr style=\"background:#5555ff64; text-align:left; float:left;\"><td>6148.2\t2457880\t0.5050170170729456\t0.5050170170732784\t28.76\t4363347027510250\t4363347027513125\n",
       "</td></tr><tr style=\"background:#6666ff58; text-align:left; float:left;\"><td>6148.1\t2457880\t0.5030325167519096\t0.5030325167522569\t30.00\t4346200944736500\t4346200944739500\n",
       "</td></tr><tr style=\"background:#6666ff58; text-align:left; float:left;\"><td>6148.1\t2457880\t0.5080568959255208\t0.5080568959258680\t30.00\t4389611580796500\t4389611580799500\n",
       "</td></tr><tr style=\"background:#6666ff58; text-align:left; float:left;\"><td>6148.2\t2457880\t0.5056840458367188\t0.5056840458370660\t30.00\t4369110156029250\t4369110156032250\n",
       "</td></tr><tr style=\"background:#6666ff58; text-align:left; float:left;\"><td>6148.1\t2457880\t0.5129586356906250\t0.5129586356909867\t31.24\t4431962612367000\t4431962612370125\n",
       "</td></tr><tr style=\"background:#6666ff58; text-align:left; float:left;\"><td>6148.3\t2457880\t0.5183508893067998\t0.5183508893071614\t31.24\t4478551683610750\t4478551683613875\n",
       "</td></tr><tr style=\"background:#6666ff58; text-align:left; float:left;\"><td>6148.3\t2457880\t0.5072677846100550\t0.5072677846104167\t31.25\t4382793659030874\t4382793659034000\n",
       "</td></tr><tr style=\"background:#6666ff58; text-align:left; float:left;\"><td>6148.3\t2457880\t0.5083712523513455\t0.5083712523517072\t31.25\t4392327620315625\t4392327620318750\n",
       "</td></tr><tr style=\"background:#6666ff58; text-align:left; float:left;\"><td>6148.4\t2457880\t0.5119387085756799\t0.5119387085760416\t31.25\t4423150442093875\t4423150442097000\n",
       "</td></tr><tr style=\"background:#6666ff58; text-align:left; float:left;\"><td>6148.1\t2457880\t0.5117987995331452\t0.5117987995335070\t31.26\t4421941627966374\t4421941627969500\n",
       "</td></tr><tr style=\"background:#6666ff58; text-align:left; float:left;\"><td>6148.1\t2457880\t0.5155959395311487\t0.5155959395315105\t31.26\t4454748917549124\t4454748917552250\n",
       "</td></tr><tr style=\"background:#6666ff58; text-align:left; float:left;\"><td>6148.2\t2457880\t0.5133597936179253\t0.5133597936182871\t31.26\t4435428616858874\t4435428616862000\n",
       "</td></tr><tr style=\"background:#6666ff58; text-align:left; float:left;\"><td>6148.3\t2457880\t0.5186049055972513\t0.5186049055976273\t32.49\t4480746384360250\t4480746384363500\n",
       "</td></tr><tr style=\"background:#6666ff58; text-align:left; float:left;\"><td>6148.4\t2457880\t0.5079925649947339\t0.5079925649951099\t32.49\t4389055761554500\t4389055761557750\n",
       "</td></tr><tr style=\"background:#6666ff58; text-align:left; float:left;\"><td>6148.2\t2457880\t0.5182524220233652\t0.5182524220237413\t32.50\t4477700926281875\t4477700926285125\n",
       "</td></tr><tr style=\"background:#6666ff58; text-align:left; float:left;\"><td>6148.3\t2457880\t0.5065162106911314\t0.5065162106915075\t32.50\t4376300060371375\t4376300060374625\n",
       "</td></tr><tr style=\"background:#6666ff58; text-align:left; float:left;\"><td>6148.3\t2457880\t0.5079925649947772\t0.5079925649951678\t33.75\t4389055761554875\t4389055761558250\n",
       "</td></tr><tr style=\"background:#6666ff58; text-align:left; float:left;\"><td>6148.3\t2457880\t0.5117987995335070\t0.5117987995338976\t33.75\t4421941627969500\t4421941627972875\n",
       "</td></tr><tr style=\"background:#6666ff58; text-align:left; float:left;\"><td>6148.3\t2457880\t0.5182524220237125\t0.5182524220241174\t34.98\t4477700926284876\t4477700926288374\n",
       "</td></tr><tr style=\"background:#6666ff58; text-align:left; float:left;\"><td>6148.1\t2457880\t0.5017287926934751\t0.5017287926938802\t34.99\t4334936768871625\t4334936768875125\n",
       "</td></tr><tr style=\"background:#7777ff52; text-align:left; float:left;\"><td>6148.1\t2457880\t0.5146923525710648\t0.5146923525714700\t35.00\t4446941926214000\t4446941926217500\n",
       "</td></tr><tr style=\"background:#7777ff52; text-align:left; float:left;\"><td>6148.1\t2457880\t0.5174959678843895\t0.5174959678847946\t35.00\t4471165162521125\t4471165162524626\n",
       "</td></tr><tr style=\"background:#7777ff52; text-align:left; float:left;\"><td>6148.3\t2457880\t0.5119387085756655\t0.5119387085760706\t35.00\t4423150442093750\t4423150442097250\n",
       "</td></tr><tr style=\"background:#7777ff52; text-align:left; float:left;\"><td>6148.2\t2457880\t0.5042477725158564\t0.5042477725162616\t35.01\t4356700754537000\t4356700754540500\n",
       "</td></tr><tr style=\"background:#7777ff52; text-align:left; float:left;\"><td>6148.3\t2457880\t0.5152390360547888\t0.5152390360552084\t36.25\t4451665271513375\t4451665271517000\n",
       "</td></tr><tr style=\"background:#7777ff52; text-align:left; float:left;\"><td>6148.4\t2457880\t0.5117097165202835\t0.5117097165207031\t36.25\t4421171950735250\t4421171950738875\n",
       "</td></tr><tr style=\"background:#7777ff52; text-align:left; float:left;\"><td>6148.1\t2457880\t0.5182524220234375\t0.5182524220238571\t36.26\t4477700926282500\t4477700926286126\n",
       "</td></tr><tr style=\"background:#7777ff52; text-align:left; float:left;\"><td>6148.1\t2457880\t0.5061111738516637\t0.5061111738520978\t37.51\t4372800542078374\t4372800542082126\n",
       "</td></tr><tr style=\"background:#7777ff52; text-align:left; float:left;\"><td>6148.2\t2457880\t0.5079925649942998\t0.5079925649947339\t37.51\t4389055761550750\t4389055761554500\n",
       "</td></tr><tr style=\"background:#7777ff52; text-align:left; float:left;\"><td>6148.2\t2457880\t0.5184813685965856\t0.5184813685970197\t37.51\t4479679024674500\t4479679024678250\n",
       "</td></tr><tr style=\"background:#7777ff52; text-align:left; float:left;\"><td>6148.3\t2457880\t0.5138022416218171\t0.5138022416222512\t37.51\t4439251367612500\t4439251367616250\n",
       "</td></tr><tr style=\"background:#7777ff52; text-align:left; float:left;\"><td>6148.1\t2457880\t0.5190683435806134\t0.5190683435810619\t38.75\t4484750488536500\t4484750488540374\n",
       "</td></tr><tr style=\"background:#7777ff52; text-align:left; float:left;\"><td>6148.2\t2457880\t0.5031973088185330\t0.5031973088189815\t38.75\t4347624748192125\t4347624748196000\n",
       "</td></tr><tr style=\"background:#7777ff52; text-align:left; float:left;\"><td>6148.3\t2457880\t0.5046114165542100\t0.5046114165546586\t38.75\t4359842639028375\t4359842639032250\n",
       "</td></tr><tr style=\"background:#7777ff52; text-align:left; float:left;\"><td>6148.4\t2457880\t0.5051571841112992\t0.5051571841117477\t38.75\t4364558070721625\t4364558070725500\n",
       "</td></tr><tr style=\"background:#8888ff46; text-align:left; float:left;\"><td>6148.2\t2457880\t0.5119387085753617\t0.5119387085758247\t40.00\t4423150442091126\t4423150442095125\n",
       "</td></tr><tr style=\"background:#8888ff46; text-align:left; float:left;\"><td>6148.2\t2457880\t0.5030325167516059\t0.5030325167520978\t42.50\t4346200944733875\t4346200944738125\n",
       "</td></tr><tr style=\"background:#9999ff40; text-align:left; float:left;\"><td>6148.1\t2457880\t0.5184813685966290\t0.5184813685971499\t45.01\t4479679024674874\t4479679024679376\n",
       "</td></tr><tr style=\"background:#9999ff40; text-align:left; float:left;\"><td>6148.2\t2457880\t0.5171927507544705\t0.5171927507549914\t45.01\t4468545366518625\t4468545366523126\n",
       "</td></tr><tr style=\"background:#9999ff40; text-align:left; float:left;\"><td>6148.2\t2457880\t0.5117987995330584\t0.5117987995336082\t47.50\t4421941627965624\t4421941627970375\n",
       "</td></tr><tr style=\"background:#aaaaff34; text-align:left; float:left;\"><td>6148.1\t2457880\t0.5065162106910300\t0.5065162106916088\t50.00\t4376300060370500\t4376300060375500\n",
       "</td></tr><tr style=\"background:#ccccff22; text-align:left; float:left;\"><td>6148.2\t2457880\t0.5078111874286170\t0.5078111874293403\t62.49\t4387488659383250\t4387488659389500\n",
       "</td></tr></table>"
      ],
      "text/plain": [
       "<IPython.core.display.HTML object>"
      ]
     },
     "metadata": {},
     "output_type": "display_data"
    }
   ],
   "source": [
    "from IPython.display import HTML, display\n",
    "\n",
    "binNumber_Max = 15\n",
    "binSize = 5\n",
    "binList = [i*binSize for i in range(binNumber_Max+1)]\n",
    "### binList = [0, 10, 20, 30, 40, 50, ...]\n",
    "#print(binList)\n",
    "\n",
    "# Create the list of bin colors\n",
    "binColors = []\n",
    "for i in range(len(binList)):\n",
    "    \n",
    "    RR = hex( i*(int(255/binNumber_Max)) )\n",
    "    GG = hex( i*(int(255/binNumber_Max)) )\n",
    "    BB = hex( 255 )\n",
    "    \n",
    "    if RR == '0x0':\n",
    "        RR = str('00')\n",
    "    if GG == '0x0':\n",
    "        GG = str('00')\n",
    "    if BB == '0x0':\n",
    "        BB = str('00')\n",
    "\n",
    "    #col = '#' + str(RR).replace('0x','') + str(GG).replace('0x','') + str(BB).replace('0x','') + '80'\n",
    "    col = '#' + str(RR).replace('0x','') + str(GG).replace('0x','') + str(BB).replace('0x','') + str( 100 - (i+1)*(int(100/binNumber_Max)) )\n",
    "    #print(col)\n",
    "    \n",
    "    binColors.append(col)\n",
    "\n",
    "#print(binColors)\n",
    "    \n",
    "sortColumn = 4\n",
    "htmlRows = []\n",
    "\n",
    "# Read in the file\n",
    "#with open('files/6148.2017.0507.0-100.thresh') as data:\n",
    "with open('outputs/6148.2017.0507.0-100.sorted01') as data:\n",
    "    \n",
    "    for line in data:\n",
    "        # If it's a comment, set it to a neutral color\n",
    "        if str(line[0]) == '#':\n",
    "            htmlRows.append( '<tr style=\"background:{0}; text-align:left; float:left; width:100%\"><td>{1}</td></tr>'.format('light grey', line) )\n",
    "\n",
    "        else:\n",
    "            # If it's data, break the line into an array of values\n",
    "            values = line.split('\\t')\n",
    "            # Remove the linebreak from the last value\n",
    "            values[-1] = values[-1].strip('\\n')\n",
    "\n",
    "            # This is the number we want sorted:\n",
    "            dataValue = float(values[sortColumn])\n",
    "            \n",
    "            # Scan through the bins to find which one the relevant value is in\n",
    "            assignedBin = None\n",
    "            for binLower in binList:\n",
    "                binUpper = binLower + binSize\n",
    "                if dataValue >= binLower and dataValue < binUpper:\n",
    "                    assignedBin = binList.index(binLower)\n",
    "                    break\n",
    "                    \n",
    "                # If none of those worked, add the line to the last bin:\n",
    "                if assignedBin == None:\n",
    "                    assignedBin = binList.index(binList[-1])\n",
    "\n",
    "            htmlRows.append( '<tr style=\"background:{0}; text-align:left; float:left;\"><td>{1}</td></tr>'.format(str(binColors[assignedBin]), line) )\n",
    "\n",
    "#htmlOutput = '<table style=\"text-align:left\">'\n",
    "htmlOutput = '<table style=\"font-family: monospace;\">'\n",
    "\n",
    "for row in htmlRows:\n",
    "    htmlOutput = htmlOutput + row\n",
    "\n",
    "htmlOutput = htmlOutput + '</table>'\n",
    "                \n",
    "display(HTML(htmlOutput))"
   ]
  },
  {
   "cell_type": "markdown",
   "metadata": {},
   "source": []
  },
  {
   "cell_type": "markdown",
   "metadata": {},
   "source": []
  },
  {
   "cell_type": "markdown",
   "metadata": {},
   "source": []
  },
  {
   "cell_type": "markdown",
   "metadata": {},
   "source": []
  },
  {
   "cell_type": "code",
   "execution_count": 1,
   "metadata": {},
   "outputs": [
    {
     "name": "stdout",
     "output_type": "stream",
     "text": [
      "6119.2016.0104.1.test.thresh  6203.2016.0104.1.test.thresh  combineOut\r\n"
     ]
    }
   ],
   "source": [
    "!ls test_data"
   ]
  },
  {
   "cell_type": "markdown",
   "metadata": {},
   "source": [
    "`Sort` isn't typically applied directly to threshold files in practice, but just for fun we'll see what happens when we apply its data transformation to `test_data/6203.2016.0104.1.test.thresh`.\n",
    "\n",
    "First, use the UNIX shell command `head` to get a quick look at what this input looks like:"
   ]
  },
  {
   "cell_type": "code",
   "execution_count": 2,
   "metadata": {},
   "outputs": [
    {
     "name": "stdout",
     "output_type": "stream",
     "text": [
      "#$md5\r\n",
      "#md5_hex(0)\r\n",
      "#ID.CHANNEL, Julian Day, RISING EDGE(sec), FALLING EDGE(sec), TIME OVER THRESHOLD (nanosec), RISING EDGE(INT), FALLING EDGE(INT)\r\n",
      "6203.1\t2457392\t0.2452114384916088\t0.2452114384919415\t28.75\t2118626828567500\t2118626828570375\r\n",
      "6203.4\t2457392\t0.2452114384916232\t0.2452114384919705\t30.00\t2118626828567625\t2118626828570625\r\n",
      "6203.2\t2457392\t0.2452114384916232\t0.2452114384920283\t35.00\t2118626828567625\t2118626828571125\r\n",
      "6203.1\t2457392\t0.2452182596452402\t0.2452182596455440\t26.25\t2118685763334875\t2118685763337500\r\n",
      "6203.4\t2457392\t0.2452182596452402\t0.2452182596455874\t30.00\t2118685763334875\t2118685763337875\r\n",
      "6203.2\t2457392\t0.2452182596452402\t0.2452182596456308\t33.75\t2118685763334875\t2118685763338250\r\n",
      "6203.4\t2457392\t0.2452190121639323\t0.2452190121641204\t16.25\t2118692265096375\t2118692265098000\r\n"
     ]
    }
   ],
   "source": [
    "!head -10 test_data/6203.2016.0104.1.test.thresh"
   ]
  },
  {
   "cell_type": "markdown",
   "metadata": {},
   "source": [
    "`$ head -10` shows the first 10 lines of the file; in the case of `6203.2016.0104.1.test.thresh`, that happens to be the entire file."
   ]
  },
  {
   "cell_type": "markdown",
   "metadata": {},
   "source": [
    "We'll call the output file `sortOut`.  What do we pick for the two column sort parameters, though?  That isn't necessarily clear, so we'll experiment.\n",
    "\n",
    "First, try the simplest option: 1 and 1.  And since we're going to experiment, we'll want to use different names for the output files so that we can compare them.  In this case, we'll use `sortOut11` instead, for a command of\n",
    "\n",
    "`$ perl ./perl/Sort.pl test_data/6203.2016.0104.1.test.thresh test_data/sortOut11 1 1`\n",
    "\n",
    "Running this on the command line, the output `sortOut11` looks like this:"
   ]
  },
  {
   "cell_type": "code",
   "execution_count": 5,
   "metadata": {},
   "outputs": [
    {
     "name": "stdout",
     "output_type": "stream",
     "text": [
      "#ID.CHANNEL, Julian Day, RISING EDGE(sec), FALLING EDGE(sec), TIME OVER THRESHOLD (nanosec), RISING EDGE(INT), FALLING EDGE(INT)\r\n",
      "#$md5\r\n",
      "#md5_hex(0)\r\n",
      "6203.1\t2457392\t0.2452114384916088\t0.2452114384919415\t28.75\t2118626828567500\t2118626828570375\r\n",
      "6203.1\t2457392\t0.2452182596452402\t0.2452182596455440\t26.25\t2118685763334875\t2118685763337500\r\n",
      "6203.2\t2457392\t0.2452114384916232\t0.2452114384920283\t35.00\t2118626828567625\t2118626828571125\r\n",
      "6203.2\t2457392\t0.2452182596452402\t0.2452182596456308\t33.75\t2118685763334875\t2118685763338250\r\n",
      "6203.4\t2457392\t0.2452114384916232\t0.2452114384919705\t30.00\t2118626828567625\t2118626828570625\r\n",
      "6203.4\t2457392\t0.2452182596452402\t0.2452182596455874\t30.00\t2118685763334875\t2118685763337875\r\n",
      "6203.4\t2457392\t0.2452190121639323\t0.2452190121641204\t16.25\t2118692265096375\t2118692265098000\r\n"
     ]
    }
   ],
   "source": [
    "!cat test_data/sortOut11"
   ]
  },
  {
   "cell_type": "markdown",
   "metadata": {},
   "source": [
    "With a name like `Sort.pl`, we're naturally looking for one of these columns to be sorted. A quick inspection reveals that only column 1, `detectorID.channel`, is in any sort of order, and that's by the channel number in ascending order (1,2,4).  \n",
    "\n",
    "Any time we're sorting multi-column data like this, though, there's a little ambiguity.  Take the three `6203.4` entries, for example: they all have the same value for column 1, so how do we decide what order to put *them* in?  Looking just at those three values, we can see that they're in \n",
    "\n",
    "* Ascending order by all four RISING EDGE and FALLING EDGE columns\n",
    "* Descending order by the TIME OVER THRESHOLD column\n",
    "\n",
    "In fact, both of the above points are true for the two respective `6203.1` and `6203.2` data lines, as well.  Can we conclude anything about how `Sort.pl` performs what we'll call a \"secondary sort?\"\n",
    "\n",
    "I can think of four possibilities offhand:\n",
    "Having performed the primary sort on column 1, `Sort.pl`\n",
    "\n",
    "1) Searches for the next column that isn't already sorted and sorts by it - in this case column 3, the first RISING EDGE column\n",
    "\n",
    "2) Is programmed to secondary sort in descending order on column 5, the TIME OVER THRESHOLD column\n",
    "\n",
    "3) Performs no further sorting; the apparent sorting by RISING EDGE is due to the fact that data lines in threshold files are already sequenced by time\n",
    "\n",
    "4) Performs no further sorting; the apparent sorting by EDGE times or TIME OVER THRESHOLD is the type of coincidence that shows up when you look at small numbers of data points\n",
    "\n",
    "\n"
   ]
  },
  {
   "cell_type": "markdown",
   "metadata": {},
   "source": [
    "**Exercise 1**\n",
    "\n",
    "Based on the output `sortOut11`, can you think of any other explanations for what `Sort.pl` might perform as a secondary sort?"
   ]
  },
  {
   "cell_type": "markdown",
   "metadata": {},
   "source": [
    "*write your answer here*"
   ]
  },
  {
   "cell_type": "markdown",
   "metadata": {},
   "source": [
    "**Exercise 2**\n",
    "\n",
    "Create a mock data file of 5 lines of data in 7 columns, like\n",
    "\n",
    "```\n",
    " 1  7 11  3  5  1  2\n",
    " 5  5 12  4  2 11 32\n",
    "77  1  6  1  6  1  6\n",
    "10  4  4  4 21  7 12\n",
    "19 30  1  7  5  2  9\n",
    "```\n",
    "\n",
    "For simplicity, use integers between 1-100 and don't include a header.  Design your mock data file so that if we apply `Sort.pl` to it, the result would distinguish among the four possibilities listed above.  If you think one or more of the possibilities isn't resolvable in this way, explain why."
   ]
  },
  {
   "cell_type": "markdown",
   "metadata": {},
   "source": [
    "*write your mock data here, between the code block delimiters:*\n",
    "\n",
    "*Hint: start by creating a mock data file that will indicate if option one is true.  Then, adapt it for each subsequent option*\n",
    "\n",
    "```\n",
    "\n",
    "```"
   ]
  },
  {
   "cell_type": "markdown",
   "metadata": {},
   "source": [
    "We'll experiment some more.  If the two column sort parameters both refer to columns, then `1 1` is redundant.  We should test a different combination, say `1 5`:\n",
    "\n",
    "`$ perl ./perl/Sort.pl test_data/6203.2016.0104.1.test.thresh test_data/sortOut15 1 5`\n",
    "\n",
    "(Note that we've changed the output file to `test_data/sortOut15` so it won't overwrite the previous output file.  That way, we can compare the two).\n",
    "\n",
    "The output of this command is"
   ]
  },
  {
   "cell_type": "code",
   "execution_count": 1,
   "metadata": {},
   "outputs": [
    {
     "name": "stdout",
     "output_type": "stream",
     "text": [
      "#ID.CHANNEL, Julian Day, RISING EDGE(sec), FALLING EDGE(sec), TIME OVER THRESHOLD (nanosec), RISING EDGE(INT), FALLING EDGE(INT)\r\n",
      "#$md5\r\n",
      "#md5_hex(0)\r\n",
      "6203.1\t2457392\t0.2452182596452402\t0.2452182596455440\t26.25\t2118685763334875\t2118685763337500\r\n",
      "6203.1\t2457392\t0.2452114384916088\t0.2452114384919415\t28.75\t2118626828567500\t2118626828570375\r\n",
      "6203.2\t2457392\t0.2452182596452402\t0.2452182596456308\t33.75\t2118685763334875\t2118685763338250\r\n",
      "6203.2\t2457392\t0.2452114384916232\t0.2452114384920283\t35.00\t2118626828567625\t2118626828571125\r\n",
      "6203.4\t2457392\t0.2452190121639323\t0.2452190121641204\t16.25\t2118692265096375\t2118692265098000\r\n",
      "6203.4\t2457392\t0.2452114384916232\t0.2452114384919705\t30.00\t2118626828567625\t2118626828570625\r\n",
      "6203.4\t2457392\t0.2452182596452402\t0.2452182596455874\t30.00\t2118685763334875\t2118685763337875\r\n"
     ]
    }
   ],
   "source": [
    "!cat test_data/sortOut15"
   ]
  },
  {
   "cell_type": "markdown",
   "metadata": {},
   "source": [
    "The first column is still sorted, and column 5 (TIME OVER THRESHOLD) isn't, overall.  But compare column 5 in this output to column 5 in the previous output, `sortOut15`.  It's clearly in a different order -- looking more closely, we see that the values in column 5 are in order *for each value in column 1*. That is, for all lines that start with `6203.1`, the lines have been rearranged so that the column 5 values are in ascending order.  For all lines that start with `6203.2`, the same is true, and so on.\n",
    "\n",
    "It seems like we've figured out what the sort parameters do: the first parameter is the *primary sort*, the column that is sorted over the entirety of the output file, while the second parameter is the *secondary sort*, the column that is sorted only within matching values of the primary sort column.\n",
    "\n",
    "To test that hypothesis, let's play around a bit.  We'll do the same as the last data transformation, but reverse the column parameters."
   ]
  },
  {
   "cell_type": "markdown",
   "metadata": {},
   "source": [
    "`$ perl ./perl/Sort.pl test_data/6203.2016.0104.1.test.thresh test_data/sortOut51 5 1`"
   ]
  },
  {
   "cell_type": "code",
   "execution_count": 2,
   "metadata": {},
   "outputs": [
    {
     "name": "stdout",
     "output_type": "stream",
     "text": [
      "#ID.CHANNEL, Julian Day, RISING EDGE(sec), FALLING EDGE(sec), TIME OVER THRESHOLD (nanosec), RISING EDGE(INT), FALLING EDGE(INT)\r\n",
      "#$md5\r\n",
      "#md5_hex(0)\r\n",
      "6203.4\t2457392\t0.2452190121639323\t0.2452190121641204\t16.25\t2118692265096375\t2118692265098000\r\n",
      "6203.1\t2457392\t0.2452182596452402\t0.2452182596455440\t26.25\t2118685763334875\t2118685763337500\r\n",
      "6203.1\t2457392\t0.2452114384916088\t0.2452114384919415\t28.75\t2118626828567500\t2118626828570375\r\n",
      "6203.4\t2457392\t0.2452114384916232\t0.2452114384919705\t30.00\t2118626828567625\t2118626828570625\r\n",
      "6203.4\t2457392\t0.2452182596452402\t0.2452182596455874\t30.00\t2118685763334875\t2118685763337875\r\n",
      "6203.2\t2457392\t0.2452182596452402\t0.2452182596456308\t33.75\t2118685763334875\t2118685763338250\r\n",
      "6203.2\t2457392\t0.2452114384916232\t0.2452114384920283\t35.00\t2118626828567625\t2118626828571125\r\n"
     ]
    }
   ],
   "source": [
    "!cat test_data/sortOut51"
   ]
  },
  {
   "cell_type": "markdown",
   "metadata": {},
   "source": [
    "The first column is no longer in order, but column 5 is.  Since there are few repeating values within column 5, it's hard to see that column one is the secondary sort, but the output is at least consistent with that idea.\n",
    "\n",
    "Play around until with the other data available in the `test_data` directory until you're satisfied you understand how `Sort.pl` works."
   ]
  },
  {
   "cell_type": "markdown",
   "metadata": {},
   "source": [
    "To wrap things up, we'll do one more important test of the `Sort.pl` script: what happens if we try to use it in the wrong manner?  For example, what if we attempt to sort on column 0?\n",
    "\n",
    "`$ perl ./perl/Sort.pl test_data/6203.2016.0104.1.test.thresh test_data/sortOut01 0 1`\n",
    "\n",
    "Trying this from the command line, we find\n",
    "\n",
    "```\n",
    "$ perl ./perl/Sort.pl test_data/6203.2016.0104.1.test.thresh test_data/sortOut01 0 1\n",
    "sort: field number is zero: invalid field specification ‘0,0’\n",
    "```"
   ]
  },
  {
   "cell_type": "markdown",
   "metadata": {},
   "source": [
    "The script has given us an error that (mostly) explains the mistake.  It's always good programming practice to anticipate user errors!"
   ]
  }
 ],
 "metadata": {
  "kernelspec": {
   "display_name": "Python 3",
   "language": "python",
   "name": "python3"
  },
  "language_info": {
   "codemirror_mode": {
    "name": "ipython",
    "version": 3
   },
   "file_extension": ".py",
   "mimetype": "text/x-python",
   "name": "python",
   "nbconvert_exporter": "python",
   "pygments_lexer": "ipython3",
   "version": "3.6.4"
  }
 },
 "nbformat": 4,
 "nbformat_minor": 2
}
