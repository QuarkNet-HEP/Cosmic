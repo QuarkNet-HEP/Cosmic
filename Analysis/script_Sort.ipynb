{
 "cells": [
  {
   "cell_type": "code",
   "execution_count": 1,
   "metadata": {},
   "outputs": [],
   "source": [
    "import ipywidgets as widgets"
   ]
  },
  {
   "cell_type": "markdown",
   "metadata": {},
   "source": [
    "*Instructors:*\n",
    "*This Notebook uses the Sort.pl script of the Cosmic Ray e-Lab analyses to provide material for the following learning goals:*\n",
    "\n",
    "* *Understanding energy scales in physics*\n",
    "* *Understanding ultra-high-energy cosmic rays as a real-world research problem*\n",
    "* *Identifying interesting data within a large dataset*\n",
    "* *Formulating questions and transforming data to answer them*"
   ]
  },
  {
   "cell_type": "markdown",
   "metadata": {},
   "source": [
    "# Sort"
   ]
  },
  {
   "cell_type": "markdown",
   "metadata": {},
   "source": [
    "## Motivation: Identifying high-energy cosmic rays"
   ]
  },
  {
   "cell_type": "markdown",
   "metadata": {},
   "source": [
    "**Understanding cosmic ray energy scales**"
   ]
  },
  {
   "cell_type": "markdown",
   "metadata": {},
   "source": [
    "Cosmic rays are considered \"high-energy\" radiation.  The typical energy of a muon-producing primary cosmic ray particle is 1-100 GeV.  \"GeV\" stands for \"Giga electron-Volt\"; the electron-Volt (eV) is the standard unit of energy in particle physics, and \"Giga\" is a prefix meaning \"one billion of them\", or $10^9$.  For comparison, \n",
    "\n",
    "* A single electron accelerated through a voltage of 1 Volt gains an energy equal to 1 eV (hence the name),\n",
    "\n",
    "* The energy of neutron emitted during the fission of a uranium nucleus is typically ~1 MeV, or ~0.001 GeV, and\n",
    "\n",
    "* The energy of a proton in one beam of the LHC, the highest-energy particle accelerator in history, is 6.5 TeV, or 6,500 Gev.\n",
    "\n",
    "(\"M\" is a shorthand prefix for \"Mega\", meaning \"one million\" or $10^6$.  \"T\" is a shorthand prefix for \"Tera\", meaning \"one trillion\", or $10^{12}$).\n",
    "\n",
    "Your everyday primary cosmic ray particle isn't quite as energetic as what's collided at the LHC, but it's over 1,000 times more energetic than individual particles emitted during nuclear fission events, such as in a nuclear reactor or the detonation of a nuclear weapon."
   ]
  },
  {
   "cell_type": "markdown",
   "metadata": {},
   "source": [
    "Note that we say a \"typical\" cosmic ray particle has an energy of 1-100 GeV, but that isn't meant to be a limit.  Cosmic rays with energies higher than this range are measured frequently, and cosmic rays with energies of thousands or tens of thousands of GeV are usually considered unremarkable, though they become much rarer as you move further away from the 1-100 GeV range."
   ]
  },
  {
   "cell_type": "markdown",
   "metadata": {},
   "source": [
    "**Ultra-high-energy cosmic rays**"
   ]
  },
  {
   "cell_type": "markdown",
   "metadata": {},
   "source": [
    "Every once in a while, though, a cosmic ray is detected with an energy far greater than the typical 1-100 GeV.  Called \"ultra-high-energy cosmic rays\", these particles have energies of 1 *billion*, or $10^9$, GeV or greater.\n",
    "\n",
    "Such rare events are intriguing in their own right, but what's most significant about such particles is that *we don't know where they come from!*  We know of no natural process in the universe -- whether supernovas, quasars, or black hole accretion jets -- that are capable of accelerating particles to this energy."
   ]
  },
  {
   "cell_type": "markdown",
   "metadata": {},
   "source": [
    "Naturally, ultra-high-energy cosmic rays are the subject of scientific interest and research for what they might be able to reveal about unknown physics in the cosmos.  But in order to study them, we need to observe them, and in order to observe them, we need to find them in the data."
   ]
  },
  {
   "cell_type": "markdown",
   "metadata": {},
   "source": [
    "![The Auger Observatory](img/AugerTank.jpg) *Fig 1: A photograph taken at the Pierre Auger Observatory in Argentina.  The Auger Observatory was constructed to measure ultra-high-energy cosmic ray events so that we can learn more about this rare and mysterious phenomenon.*"
   ]
  },
  {
   "cell_type": "markdown",
   "metadata": {},
   "source": [
    "**Energy in CRMD data**"
   ]
  },
  {
   "cell_type": "markdown",
   "metadata": {},
   "source": [
    "Most cosmic ray muon detectors (CRMDs), including QuarkNet's, don't measure primary cosmic rays or their energies directly.  Rather, they measure muons created as secondary particles when primary cosmic ray particles strike the Earth's atmosphere."
   ]
  },
  {
   "cell_type": "markdown",
   "metadata": {},
   "source": [
    "QuarkNet CRMDs don't measure the energy of these secondary muons, either, at least not directly.  Recall how the CRMD works, though:\n",
    "\n",
    "First, a cosmic ray muon passes through one of the scintillating detector panels, which causes it to emit light.  Then, this light is gathered by a photomultiplier tube (PMT) that converts it to a voltage.  The detector's data acquisition board (DAQ) notes the times when this voltage first crosses a certain value (called the threshold), and then it notes again when that voltage falls back below the threshold.\n",
    "\n",
    "The duration of time that the voltage pulse exceeds the threshold is called the \"time over threshold\" value, and it's recorded as one of the data columns in the threshold data files that the Cosmic Ray e-Lab analyzes.\n",
    "\n",
    "The more energy a muon has, the more light it generates in the scintillator panel of the detector.  This additional light registers at the PMT for a longer duration, meaning that the voltage pulse it produces lasts for a longer duration. Thus, the \"time over threshold\" value recorded by the DAQ is greater for a higher-energy muon than for a lower-energy muon.\n",
    "\n",
    "In other words, the \"time over threshold\" value is *correlated* to the energy of the muon, and this correlatoin is a *positive correlation*: as one increases, so does the other.  This means that, while we can't assign an energy value in GeV to a cosmic ray muon using QuarkNet's CRMDs, we can reasonably compare the energies of different muon events by looking at the \"time over threshold\" value in the data.  In effect, the \"time over threshold\" data serves as a placeholder variable for energy."
   ]
  },
  {
   "cell_type": "markdown",
   "metadata": {},
   "source": [
    "## Analyzing \"time over threshold\" in CRMD data"
   ]
  },
  {
   "cell_type": "markdown",
   "metadata": {},
   "source": [
    "Below, we use the UNIX utility `head` to examine a bit of data from the threshold file of a CRMD:"
   ]
  },
  {
   "cell_type": "code",
   "execution_count": 2,
   "metadata": {},
   "outputs": [
    {
     "name": "stdout",
     "output_type": "stream",
     "text": [
      "#$md5\r\n",
      "#md5_hex(0)\r\n",
      "#ID.CHANNEL, Julian Day, RISING EDGE(sec), FALLING EDGE(sec), TIME OVER THRESHOLD (nanosec), RISING EDGE(INT), FALLING EDGE(INT)\r\n",
      "6148.4\t2457396\t0.5006992493422453\t0.5006992493424479\t17.51\t4326041514317000\t4326041514318750\r\n",
      "6148.3\t2457396\t0.5006992493422887\t0.5006992493424768\t16.25\t4326041514317375\t4326041514319000\r\n",
      "6148.2\t2457396\t0.5007005963399161\t0.5007005963400029\t7.49\t4326053152376876\t4326053152377625\r\n",
      "6148.3\t2457396\t0.5007005963401910\t0.5007005963404514\t22.49\t4326053152379250\t4326053152381500\r\n",
      "6148.4\t2457396\t0.5007005963401765\t0.5007005963404658\t25.00\t4326053152379125\t4326053152381624\r\n"
     ]
    }
   ],
   "source": [
    "!head -8 files/6148.2016.0109.0.thresh"
   ]
  },
  {
   "cell_type": "markdown",
   "metadata": {},
   "source": [
    "The values we're interested in are in the `TIME OVER THRESHOLD (nanosec)` column (the ones with values 17.51, 16.25, 7.49, and so on)."
   ]
  },
  {
   "cell_type": "markdown",
   "metadata": {},
   "source": [
    "**Your assignment:** Running the next cell will display 100 lines of data similar to those above, but from a different threshold file.  When you run the cell, start a timer.  Identify all lines in the data that have a \"time over threshold\" value between **15.24** and **21.80** by copying and pasting them into the cell below it.  Stop the timer when you're satisified that you've found all values."
   ]
  },
  {
   "cell_type": "code",
   "execution_count": null,
   "metadata": {},
   "outputs": [],
   "source": [
    "!head -103 files/6148.2017.0507.0-100.thresh"
   ]
  },
  {
   "cell_type": "code",
   "execution_count": 4,
   "metadata": {},
   "outputs": [
    {
     "data": {
      "application/vnd.jupyter.widget-view+json": {
       "model_id": "6cf62557b8864e9abba41e485795ea86",
       "version_major": 2,
       "version_minor": 0
      },
      "text/html": [
       "<p>Failed to display Jupyter Widget of type <code>Textarea</code>.</p>\n",
       "<p>\n",
       "  If you're reading this message in the Jupyter Notebook or JupyterLab Notebook, it may mean\n",
       "  that the widgets JavaScript is still loading. If this message persists, it\n",
       "  likely means that the widgets JavaScript library is either not installed or\n",
       "  not enabled. See the <a href=\"https://ipywidgets.readthedocs.io/en/stable/user_install.html\">Jupyter\n",
       "  Widgets Documentation</a> for setup instructions.\n",
       "</p>\n",
       "<p>\n",
       "  If you're reading this message in another frontend (for example, a static\n",
       "  rendering on GitHub or <a href=\"https://nbviewer.jupyter.org/\">NBViewer</a>),\n",
       "  it may mean that your frontend doesn't currently support widgets.\n",
       "</p>\n"
      ],
      "text/plain": [
       "Textarea(value='', description='Data:', layout=Layout(height='200px', width='100%'), placeholder='Paste matching data lines here')"
      ]
     },
     "metadata": {},
     "output_type": "display_data"
    }
   ],
   "source": [
    "#\n",
    "# Ignore this box.  It's just to make the text entry box below.\n",
    "#\n",
    "widgets.Textarea(\n",
    "    value='',\n",
    "    placeholder='Paste matching data lines here',\n",
    "    description='Data:',\n",
    "    disabled=False,\n",
    "    layout=widgets.Layout(width='100%', height='200px')\n",
    ")"
   ]
  },
  {
   "cell_type": "markdown",
   "metadata": {},
   "source": [
    "How many lines did you find?  How long did it take?"
   ]
  },
  {
   "cell_type": "code",
   "execution_count": 5,
   "metadata": {},
   "outputs": [
    {
     "data": {
      "application/vnd.jupyter.widget-view+json": {
       "model_id": "1c89658f8696482e9dbc03dbd945d750",
       "version_major": 2,
       "version_minor": 0
      },
      "text/html": [
       "<p>Failed to display Jupyter Widget of type <code>Text</code>.</p>\n",
       "<p>\n",
       "  If you're reading this message in the Jupyter Notebook or JupyterLab Notebook, it may mean\n",
       "  that the widgets JavaScript is still loading. If this message persists, it\n",
       "  likely means that the widgets JavaScript library is either not installed or\n",
       "  not enabled. See the <a href=\"https://ipywidgets.readthedocs.io/en/stable/user_install.html\">Jupyter\n",
       "  Widgets Documentation</a> for setup instructions.\n",
       "</p>\n",
       "<p>\n",
       "  If you're reading this message in another frontend (for example, a static\n",
       "  rendering on GitHub or <a href=\"https://nbviewer.jupyter.org/\">NBViewer</a>),\n",
       "  it may mean that your frontend doesn't currently support widgets.\n",
       "</p>\n"
      ],
      "text/plain": [
       "Text(value='', description='# lines:', placeholder='Number of data lines')"
      ]
     },
     "metadata": {},
     "output_type": "display_data"
    },
    {
     "data": {
      "application/vnd.jupyter.widget-view+json": {
       "model_id": "3603c728982f4c71a4ca70929c4c56b8",
       "version_major": 2,
       "version_minor": 0
      },
      "text/html": [
       "<p>Failed to display Jupyter Widget of type <code>Text</code>.</p>\n",
       "<p>\n",
       "  If you're reading this message in the Jupyter Notebook or JupyterLab Notebook, it may mean\n",
       "  that the widgets JavaScript is still loading. If this message persists, it\n",
       "  likely means that the widgets JavaScript library is either not installed or\n",
       "  not enabled. See the <a href=\"https://ipywidgets.readthedocs.io/en/stable/user_install.html\">Jupyter\n",
       "  Widgets Documentation</a> for setup instructions.\n",
       "</p>\n",
       "<p>\n",
       "  If you're reading this message in another frontend (for example, a static\n",
       "  rendering on GitHub or <a href=\"https://nbviewer.jupyter.org/\">NBViewer</a>),\n",
       "  it may mean that your frontend doesn't currently support widgets.\n",
       "</p>\n"
      ],
      "text/plain": [
       "Text(value='', description='Time (s):', placeholder='Time')"
      ]
     },
     "metadata": {},
     "output_type": "display_data"
    }
   ],
   "source": [
    "#\n",
    "# Ignore this box.  It's just to make the two entry boxes below.\n",
    "#\n",
    "numberFound = widgets.Text(\n",
    "    value='',\n",
    "    placeholder='Number of data lines',\n",
    "    description='# lines:',\n",
    "    disabled=False\n",
    ")\n",
    "\n",
    "timeToFind = widgets.Text(\n",
    "    value='',\n",
    "    placeholder='Time',\n",
    "    description='Time (s):',\n",
    "    disabled=False\n",
    ")\n",
    "\n",
    "display(numberFound)\n",
    "display(timeToFind)"
   ]
  },
  {
   "cell_type": "markdown",
   "metadata": {},
   "source": [
    "*Instructor's copy: there are 23 lines with TOT between 15.24 and 21.80*"
   ]
  },
  {
   "cell_type": "markdown",
   "metadata": {},
   "source": [
    "You'll probably agree that the method you just used to identify certain data in a large set is not the most efficient way of doing things.  If we're looking for particular values, or values in a certain range, it's much easier to do that if the data is *sorted* by the value of interest."
   ]
  },
  {
   "cell_type": "markdown",
   "metadata": {},
   "source": [
    "In their standard form, QuarkNet's CRMD threshold files are sorted by \"rising edge\" times (you can see this easily in the 100-line output of `6148.2017.0507.0-100.thresh` that you just scanned through).  That is, they're organized chronologically by the time that each muon's signal pulse first exceeded the DAQ threshold.  If we care about the \"time over threshold\" values more than time of day the muons arrived, then it makes more sense to re-organize the data by that value."
   ]
  },
  {
   "cell_type": "markdown",
   "metadata": {},
   "source": [
    "This is what the `Sort.pl` data transformation does.  We'll apply it to the data you examined above to see how much easier it makes the task of finding just the right data in a set."
   ]
  },
  {
   "cell_type": "markdown",
   "metadata": {},
   "source": [
    "## Using Sort.pl"
   ]
  },
  {
   "cell_type": "markdown",
   "metadata": {},
   "source": [
    "To use the data transformation script `Sort.pl`, we provide it with (in order): an input file, what to name its output file, and two column-sorting parameters:\n",
    "\n",
    "`$ perl ./perl/Sort.pl <input file> <output file> <primary sort column> <secondary sort column>`\n",
    "\n",
    "where the items in angled brackets `<>` are parameters we have to specify.  In more detail, these are:\n",
    "\n",
    "* `input file`:  The name of the input file to be sorted; we can specify only one for this script\n",
    "* `output file`: What we want to name the output file that the script will write its results to\n",
    "* `primary sort column`: The number of the data column we want to sort\n",
    "* `secondary sort column`: The number of the data column we want to sub-sort"
   ]
  },
  {
   "cell_type": "markdown",
   "metadata": {},
   "source": [
    "### Understanding primary and secondary sorts"
   ]
  },
  {
   "cell_type": "markdown",
   "metadata": {},
   "source": [
    "\"Primary\" and \"secondary\" sort might need a little more explanation, which we can illustrate with some fake threshold data:\n",
    "\n",
    "```\n",
    "#ID.CHANNEL, Julian Day, RISING EDGE(sec), FALLING EDGE(sec), TIME OVER THRESHOLD (nanosec), RISING EDGE(INT), FALLING EDGE(INT)\n",
    "6148.1\t2457880\t0.50751\t0.50802\t34.99\t43325\t43325\n",
    "6148.1\t2457880\t0.50091\t0.50262\t18.75\t43375\t43350\n",
    "6148.4\t2457880\t0.50828\t0.50577\t23.75\t43376\t43350\n",
    "6148.2\t2457880\t0.50059\t0.50978\t42.50\t43475\t43425\n",
    "6148.1\t2457880\t0.50096\t0.50569\t30.00\t43400\t43400\n",
    "6148.1\t2457880\t0.50040\t0.50355\t20.00\t43475\t43475\n",
    "6148.1\t2457880\t0.50789\t0.50960\t18.76\t43450\t43426\n",
    "6148.2\t2457880\t0.50330\t0.50815\t38.75\t43425\t43400\n",
    "6148.1\t2457880\t0.50539\t0.50972\t 3.74\t43426\t43400\n",
    "6148.2\t2457880\t0.50564\t0.50616\t35.01\t43500\t43500\n",
    "6148.4\t2457880\t0.50616\t0.50497\t16.25\t43500\t43526\n",
    "6148.2\t2457880\t0.50050\t0.50508\t21.24\t43575\t43500\n",
    "6148.4\t2457880\t0.50246\t0.50139\t25.00\t43500\t43500\n",
    "```\n",
    "\n",
    "This data is unsorted, in the sense that none of the columns have their data in order if you scan them from top-to-bottom.  To sort the data, we'll rearrange the lines so that one column *does* have its data in order from lowest-to-highest.  This will be the **primary sort** column.  Let's say that we want to sort the data by detector channel, which is given by the `ID.CHANNEL` values in the first column, so that we can easily see all the data taken by each detector panel.  Once sorted on that column, the data looks like this:\n",
    "\n",
    "```\n",
    "#ID.CHANNEL, Julian Day, RISING EDGE(sec), FALLING EDGE(sec), TIME OVER THRESHOLD (nanosec), RISING EDGE(INT), FALLING EDGE(INT)\n",
    "6148.1\t2457880\t0.50751\t0.50802\t34.99\t43325\t43325\n",
    "6148.1\t2457880\t0.50091\t0.50262\t18.75\t43375\t43350\n",
    "6148.1\t2457880\t0.50096\t0.50569\t30.00\t43400\t43400\n",
    "6148.1\t2457880\t0.50040\t0.50355\t20.00\t43475\t43475\n",
    "6148.1\t2457880\t0.50789\t0.50960\t18.76\t43450\t43426\n",
    "6148.1\t2457880\t0.50539\t0.50972\t 3.74\t43426\t43400\n",
    "6148.2\t2457880\t0.50059\t0.50978\t42.50\t43475\t43425\n",
    "6148.2\t2457880\t0.50330\t0.50815\t38.75\t43425\t43400\n",
    "6148.2\t2457880\t0.50564\t0.50616\t35.01\t43500\t43500\n",
    "6148.2\t2457880\t0.50050\t0.50508\t21.24\t43575\t43500\n",
    "6148.4\t2457880\t0.50828\t0.50577\t23.75\t43376\t43350\n",
    "6148.4\t2457880\t0.50616\t0.50497\t16.25\t43500\t43526\n",
    "6148.4\t2457880\t0.50246\t0.50139\t25.00\t43500\t43500\n",
    "```\n",
    "\n",
    "You can see that the first column is in numerical order according to the decimal after `6148`, which is the DAQ ID for this detector and which doesn't change throughout the data.\n",
    "\n",
    "All of the `ID.CHANNEL` values occur multiple times, however.  Our primary sort on column 1 means that all `6148.1` lines come first in the ordering, but there's still a \"tie\" among the six different lines that have that value.  Within that block of six lines, we can re-arrange the individual lines so that the values of a different column are put into order, all while keeping the primary sort order of (`6148.1`, `6148.2`, `6148.4`) intact.  This is a **secondary sort**, which \"breaks the tie\" whenever the primary sort values are equal.\n",
    "\n",
    "For instance, with the primary sort accomplished as above, we may want to perform a secondary sort on the `TIME OVER THRESHOLD` column.  The results look like this:\n",
    "\n",
    "```\n",
    "#ID.CHANNEL, Julian Day, RISING EDGE(sec), FALLING EDGE(sec), TIME OVER THRESHOLD (nanosec), RISING EDGE(INT), FALLING EDGE(INT)\n",
    "6148.1\t2457880\t0.50539\t0.50972\t 3.74\t43426\t43400\n",
    "6148.1\t2457880\t0.50091\t0.50262\t18.75\t43375\t43350\n",
    "6148.1\t2457880\t0.50789\t0.50960\t18.76\t43450\t43426\n",
    "6148.1\t2457880\t0.50040\t0.50355\t20.00\t43475\t43475\n",
    "6148.1\t2457880\t0.50096\t0.50569\t30.00\t43400\t43400\n",
    "6148.1\t2457880\t0.50751\t0.50802\t34.99\t43325\t43325\n",
    "6148.2\t2457880\t0.50050\t0.50508\t21.24\t43575\t43500\n",
    "6148.2\t2457880\t0.50564\t0.50616\t35.01\t43500\t43500\n",
    "6148.2\t2457880\t0.50330\t0.50815\t38.75\t43425\t43400\n",
    "6148.2\t2457880\t0.50059\t0.50978\t42.50\t43475\t43425\n",
    "6148.4\t2457880\t0.50616\t0.50497\t16.25\t43500\t43526\n",
    "6148.4\t2457880\t0.50828\t0.50577\t23.75\t43376\t43350\n",
    "6148.4\t2457880\t0.50246\t0.50139\t25.00\t43500\t43500\n",
    "```\n",
    "\n",
    "The data remains sorted by `ID.CHANNEL`, but whenever there's a tie for that value, the data is now sorted by the `TIME OVER THRESHOLD` value.\n",
    "\n",
    "You might ask, \"What if there's a tie in the secondary sort column?\"  Could we define a \"tertiary sort\" to break that tie, too?  Absolutely!  In principle, you can define as many \"tiebreaker\" sorts as there are columns of data.  In this specific case, however, the `Sort.pl` script doesn't define anything beyond a secondary sort because it has never been useful for any of the analyses in the Cosmic Ray e-Lab.  If two lines of data are tied for both the primary sort and secondary sort values, `Sort.pl` leaves them in whatever order it found them in in the input file (which is typically in order of the `RISING EDGE` value)."
   ]
  },
  {
   "cell_type": "markdown",
   "metadata": {},
   "source": [
    "Now that you understand what \"primary\" and \"secondary\" sorting is, we're ready to explore the `Sort.pl` data transformation using our standard method of investigation."
   ]
  },
  {
   "cell_type": "markdown",
   "metadata": {},
   "source": [
    "### 1) Investigating the input data"
   ]
  },
  {
   "cell_type": "markdown",
   "metadata": {},
   "source": [
    "In this case, you've already thoroughly investigated the input data when you read through the file output looking for \"time over threshold\" values in a given range.  Good work!"
   ]
  },
  {
   "cell_type": "markdown",
   "metadata": {},
   "source": [
    "### 2) Applying the data transformation"
   ]
  },
  {
   "cell_type": "markdown",
   "metadata": {},
   "source": [
    "Remember that the command-line call to `Sort.pl` is of the form\n",
    "\n",
    "`$ perl ./perl/Sort.pl <input file> <output file> <primary sort column> <secondary sort column>`\n",
    "\n",
    "We're interested in \"time over threshold,\" so we'll sort by that as the primary column (that's column 5).  We don't have any particular interest in any other values, so we'll take column 1, the `ID.CHANNEL` value, as secondary sort.  We'll call the output file `6148.2017.0507.0-100.sorted01` and put it in the `outputs/` folder. The command will be\n",
    "\n",
    "`$ perl ./perl/Sort.pl files/6148.2017.0507.0-100.thresh outputs/6148.2017.0507.0-100.sorted01 5 1`"
   ]
  },
  {
   "cell_type": "markdown",
   "metadata": {},
   "source": [
    "Let's run it:"
   ]
  },
  {
   "cell_type": "code",
   "execution_count": 6,
   "metadata": {},
   "outputs": [
    {
     "name": "stdout",
     "output_type": "stream",
     "text": [
      "md5s COMPUTED:e1195c7001d8913fddce1469f5031eb7 FROMFILE:ID.CHANNEL, Julian Day, RISING EDGE(sec), FALLING EDGE(sec), TIME OVER THRESHOLD (nanosec), RISING EDGE(INT), FALLING EDGE(INT)\r\n"
     ]
    }
   ],
   "source": [
    "!perl ./perl/Sort.pl files/6148.2017.0507.0-100.thresh outputs/6148.2017.0507.0-100.sorted01 5 1"
   ]
  },
  {
   "cell_type": "markdown",
   "metadata": {},
   "source": [
    "### 3) Investigating the output data"
   ]
  },
  {
   "cell_type": "markdown",
   "metadata": {},
   "source": [
    "Before we look at the output, we'll set up the same test as before.  At the moment you run the next cell, start a timer.  In the entry box below the cell's output, copy and paste all lines of data with a \"time over threshold\" value between **15.24** and **21.80**.  When you're satisfied you've found them all, stop the timer."
   ]
  },
  {
   "cell_type": "code",
   "execution_count": null,
   "metadata": {
    "scrolled": false
   },
   "outputs": [],
   "source": [
    "!head -103 outputs/6148.2017.0507.0-100.sorted01"
   ]
  },
  {
   "cell_type": "code",
   "execution_count": 8,
   "metadata": {},
   "outputs": [
    {
     "data": {
      "application/vnd.jupyter.widget-view+json": {
       "model_id": "ef908867f74643f398e53daad9351375",
       "version_major": 2,
       "version_minor": 0
      },
      "text/html": [
       "<p>Failed to display Jupyter Widget of type <code>Textarea</code>.</p>\n",
       "<p>\n",
       "  If you're reading this message in the Jupyter Notebook or JupyterLab Notebook, it may mean\n",
       "  that the widgets JavaScript is still loading. If this message persists, it\n",
       "  likely means that the widgets JavaScript library is either not installed or\n",
       "  not enabled. See the <a href=\"https://ipywidgets.readthedocs.io/en/stable/user_install.html\">Jupyter\n",
       "  Widgets Documentation</a> for setup instructions.\n",
       "</p>\n",
       "<p>\n",
       "  If you're reading this message in another frontend (for example, a static\n",
       "  rendering on GitHub or <a href=\"https://nbviewer.jupyter.org/\">NBViewer</a>),\n",
       "  it may mean that your frontend doesn't currently support widgets.\n",
       "</p>\n"
      ],
      "text/plain": [
       "Textarea(value='', description='Data:', layout=Layout(height='200px', width='100%'), placeholder='Paste matching data lines here')"
      ]
     },
     "metadata": {},
     "output_type": "display_data"
    },
    {
     "data": {
      "application/vnd.jupyter.widget-view+json": {
       "model_id": "f13f616cb4504761b0aeaaf6dad8dbf1",
       "version_major": 2,
       "version_minor": 0
      },
      "text/html": [
       "<p>Failed to display Jupyter Widget of type <code>Text</code>.</p>\n",
       "<p>\n",
       "  If you're reading this message in the Jupyter Notebook or JupyterLab Notebook, it may mean\n",
       "  that the widgets JavaScript is still loading. If this message persists, it\n",
       "  likely means that the widgets JavaScript library is either not installed or\n",
       "  not enabled. See the <a href=\"https://ipywidgets.readthedocs.io/en/stable/user_install.html\">Jupyter\n",
       "  Widgets Documentation</a> for setup instructions.\n",
       "</p>\n",
       "<p>\n",
       "  If you're reading this message in another frontend (for example, a static\n",
       "  rendering on GitHub or <a href=\"https://nbviewer.jupyter.org/\">NBViewer</a>),\n",
       "  it may mean that your frontend doesn't currently support widgets.\n",
       "</p>\n"
      ],
      "text/plain": [
       "Text(value='', description='# lines:', placeholder='Number of data lines')"
      ]
     },
     "metadata": {},
     "output_type": "display_data"
    },
    {
     "data": {
      "application/vnd.jupyter.widget-view+json": {
       "model_id": "9454448017e34676a519728e2ced9e6a",
       "version_major": 2,
       "version_minor": 0
      },
      "text/html": [
       "<p>Failed to display Jupyter Widget of type <code>Text</code>.</p>\n",
       "<p>\n",
       "  If you're reading this message in the Jupyter Notebook or JupyterLab Notebook, it may mean\n",
       "  that the widgets JavaScript is still loading. If this message persists, it\n",
       "  likely means that the widgets JavaScript library is either not installed or\n",
       "  not enabled. See the <a href=\"https://ipywidgets.readthedocs.io/en/stable/user_install.html\">Jupyter\n",
       "  Widgets Documentation</a> for setup instructions.\n",
       "</p>\n",
       "<p>\n",
       "  If you're reading this message in another frontend (for example, a static\n",
       "  rendering on GitHub or <a href=\"https://nbviewer.jupyter.org/\">NBViewer</a>),\n",
       "  it may mean that your frontend doesn't currently support widgets.\n",
       "</p>\n"
      ],
      "text/plain": [
       "Text(value='', description='Time (s):', placeholder='Time')"
      ]
     },
     "metadata": {},
     "output_type": "display_data"
    }
   ],
   "source": [
    "#\n",
    "# Ignore this box.  It's just to make the text entry boxes below.\n",
    "#\n",
    "dataFound = widgets.Textarea(\n",
    "    value='',\n",
    "    placeholder='Paste matching data lines here',\n",
    "    description='Data:',\n",
    "    disabled=False,\n",
    "    layout=widgets.Layout(width='100%', height='200px')\n",
    ")\n",
    "\n",
    "numberFound = widgets.Text(\n",
    "    value='',\n",
    "    placeholder='Number of data lines',\n",
    "    description='# lines:',\n",
    "    disabled=False\n",
    ")\n",
    "\n",
    "timeToFind = widgets.Text(\n",
    "    value='',\n",
    "    placeholder='Time',\n",
    "    description='Time (s):',\n",
    "    disabled=False\n",
    ")\n",
    "\n",
    "display(dataFound)\n",
    "display(numberFound)\n",
    "display(timeToFind)"
   ]
  },
  {
   "cell_type": "markdown",
   "metadata": {},
   "source": [
    "At this point, you should have a good idea of how sorting works as a data transformation, how to use the `Sort.pl` data transformation script, and why sorting data strategically can make data easier to find in a large set.  We'll provide one final example of the utility of sorting data for easy interpretation."
   ]
  },
  {
   "cell_type": "markdown",
   "metadata": {},
   "source": [
    "## More: Binning unsorted and sorted data"
   ]
  },
  {
   "cell_type": "markdown",
   "metadata": {},
   "source": [
    "As you saw during the timed exercises, sorting data helps identify when data falls into specific \"bins\" or intervals.  The following bonus demonstration will help you visualize that effect."
   ]
  },
  {
   "cell_type": "code",
   "execution_count": 31,
   "metadata": {},
   "outputs": [
    {
     "data": {
      "text/html": [
       "<table style=\"font-family: monospace; margin: 0 auto; text-align:left; float:left;\"><tr style=\"background:light grey; text-align:left;\">            <th>ID.Channel</th><th>Day</th><th>Rising Edge</th><th>Falling Edge</th>            <th>Time over Threshold</th></tr><tr style=\"background:#e4e4ff; text-align:left;\"><td>6148.1</td><td>2457880</td><td>0.5032</td><td>0.5032</td><td>3.74</td></tr><tr style=\"background:#e4efe4; text-align:left;\"><td>6148.2</td><td>2457880</td><td>0.5084</td><td>0.5084</td><td>6.24</td></tr><tr style=\"background:#d6d6ff; text-align:left;\"><td>6148.4</td><td>2457880</td><td>0.50776</td><td>0.50776</td><td>11.24</td></tr><tr style=\"background:#d6d6ff; text-align:left;\"><td>6148.1</td><td>2457880</td><td>0.50611</td><td>0.50611</td><td>11.25</td></tr><tr style=\"background:#d6d6ff; text-align:left;\"><td>6148.2</td><td>2457880</td><td>0.5156</td><td>0.5156</td><td>11.25</td></tr><tr style=\"background:#d6d6ff; text-align:left;\"><td>6148.3</td><td>2457880</td><td>0.5084</td><td>0.5084</td><td>11.25</td></tr><tr style=\"background:#d6e6d6; text-align:left;\"><td>6148.1</td><td>2457880</td><td>0.51524</td><td>0.51524</td><td>12.50</td></tr><tr style=\"background:#d6e6d6; text-align:left;\"><td>6148.2</td><td>2457880</td><td>0.50708</td><td>0.50708</td><td>13.75</td></tr><tr style=\"background:#d6e6d6; text-align:left;\"><td>6148.3</td><td>2457880</td><td>0.50781</td><td>0.50781</td><td>13.75</td></tr><tr style=\"background:#d6e6d6; text-align:left;\"><td>6148.4</td><td>2457880</td><td>0.50611</td><td>0.50611</td><td>13.75</td></tr><tr style=\"background:#d6e6d6; text-align:left;\"><td>6148.1</td><td>2457880</td><td>0.50806</td><td>0.50806</td><td>13.76</td></tr><tr style=\"background:#d6e6d6; text-align:left;\"><td>6148.2</td><td>2457880</td><td>0.51469</td><td>0.51469</td><td>13.76</td></tr><tr style=\"background:#d6e6d6; text-align:left;\"><td>6148.1</td><td>2457880</td><td>0.51769</td><td>0.51769</td><td>14.99</td></tr><tr style=\"background:#d6e6d6; text-align:left;\"><td>6148.4</td><td>2457880</td><td>0.51171</td><td>0.51171</td><td>14.99</td></tr><tr style=\"background:#c9c9ff; text-align:left;\"><td>6148.2</td><td>2457880</td><td>0.50776</td><td>0.50776</td><td>15.00</td></tr><tr style=\"background:#c9c9ff; text-align:left;\"><td>6148.3</td><td>2457880</td><td>0.51469</td><td>0.51469</td><td>15.00</td></tr><tr style=\"background:#c9c9ff; text-align:left;\"><td>6148.3</td><td>2457880</td><td>0.50611</td><td>0.50611</td><td>16.25</td></tr><tr style=\"background:#c9c9ff; text-align:left;\"><td>6148.3</td><td>2457880</td><td>0.50664</td><td>0.50664</td><td>16.25</td></tr><tr style=\"background:#c9c9ff; text-align:left;\"><td>6148.4</td><td>2457880</td><td>0.50425</td><td>0.50425</td><td>16.25</td></tr><tr style=\"background:#c9c9ff; text-align:left;\"><td>6148.4</td><td>2457880</td><td>0.51296</td><td>0.51296</td><td>16.25</td></tr><tr style=\"background:#c9c9ff; text-align:left;\"><td>6148.4</td><td>2457880</td><td>0.51848</td><td>0.51848</td><td>16.25</td></tr><tr style=\"background:#c9c9ff; text-align:left;\"><td>6148.4</td><td>2457880</td><td>0.50502</td><td>0.50502</td><td>16.26</td></tr><tr style=\"background:#c9c9ff; text-align:left;\"><td>6148.4</td><td>2457880</td><td>0.5118</td><td>0.5118</td><td>16.26</td></tr><tr style=\"background:#c9c9ff; text-align:left;\"><td>6148.4</td><td>2457880</td><td>0.51719</td><td>0.51719</td><td>17.50</td></tr><tr style=\"background:#c9e0c9; text-align:left;\"><td>6148.4</td><td>2457880</td><td>0.50727</td><td>0.50727</td><td>18.74</td></tr><tr style=\"background:#c9e0c9; text-align:left;\"><td>6148.1</td><td>2457880</td><td>0.50173</td><td>0.50173</td><td>18.75</td></tr><tr style=\"background:#c9e0c9; text-align:left;\"><td>6148.2</td><td>2457880</td><td>0.51835</td><td>0.51835</td><td>18.75</td></tr><tr style=\"background:#c9e0c9; text-align:left;\"><td>6148.1</td><td>2457880</td><td>0.5032</td><td>0.5032</td><td>18.76</td></tr><tr style=\"background:#c9e0c9; text-align:left;\"><td>6148.1</td><td>2457880</td><td>0.5032</td><td>0.5032</td><td>20.00</td></tr><tr style=\"background:#c9e0c9; text-align:left;\"><td>6148.3</td><td>2457880</td><td>0.50516</td><td>0.50516</td><td>20.00</td></tr><tr style=\"background:#c9e0c9; text-align:left;\"><td>6148.3</td><td>2457880</td><td>0.51171</td><td>0.51171</td><td>20.00</td></tr><tr style=\"background:#c9e0c9; text-align:left;\"><td>6148.3</td><td>2457880</td><td>0.5175</td><td>0.5175</td><td>20.00</td></tr><tr style=\"background:#c9e0c9; text-align:left;\"><td>6148.4</td><td>2457880</td><td>0.50837</td><td>0.50837</td><td>20.00</td></tr><tr style=\"background:#c9e0c9; text-align:left;\"><td>6148.4</td><td>2457880</td><td>0.5156</td><td>0.5156</td><td>20.00</td></tr><tr style=\"background:#c9e0c9; text-align:left;\"><td>6148.4</td><td>2457880</td><td>0.51751</td><td>0.51751</td><td>20.00</td></tr><tr style=\"background:#c9e0c9; text-align:left;\"><td>6148.3</td><td>2457880</td><td>0.51848</td><td>0.51848</td><td>20.01</td></tr><tr style=\"background:#bbbbff; text-align:left;\"><td>6148.2</td><td>2457880</td><td>0.50461</td><td>0.50461</td><td>21.24</td></tr><tr style=\"background:#bbbbff; text-align:left;\"><td>6148.3</td><td>2457880</td><td>0.50568</td><td>0.50568</td><td>21.25</td></tr><tr style=\"background:#bbbbff; text-align:left;\"><td>6148.4</td><td>2457880</td><td>0.50664</td><td>0.50664</td><td>21.25</td></tr><tr style=\"background:#bbbbff; text-align:left;\"><td>6148.2</td><td>2457880</td><td>0.51769</td><td>0.51769</td><td>22.49</td></tr><tr style=\"background:#bbbbff; text-align:left;\"><td>6148.4</td><td>2457880</td><td>0.51528</td><td>0.51528</td><td>22.49</td></tr><tr style=\"background:#bbbbff; text-align:left;\"><td>6148.2</td><td>2457880</td><td>0.50776</td><td>0.50776</td><td>22.50</td></tr><tr style=\"background:#bbbbff; text-align:left;\"><td>6148.4</td><td>2457880</td><td>0.50776</td><td>0.50776</td><td>22.50</td></tr><tr style=\"background:#bbbbff; text-align:left;\"><td>6148.2</td><td>2457880</td><td>0.50799</td><td>0.50799</td><td>23.74</td></tr><tr style=\"background:#bbbbff; text-align:left;\"><td>6148.4</td><td>2457880</td><td>0.51469</td><td>0.51469</td><td>23.74</td></tr><tr style=\"background:#bbbbff; text-align:left;\"><td>6148.2</td><td>2457880</td><td>0.5138</td><td>0.5138</td><td>23.75</td></tr><tr style=\"background:#bbbbff; text-align:left;\"><td>6148.3</td><td>2457880</td><td>0.50461</td><td>0.50461</td><td>23.75</td></tr><tr style=\"background:#bbbbff; text-align:left;\"><td>6148.4</td><td>2457880</td><td>0.50173</td><td>0.50173</td><td>23.75</td></tr><tr style=\"background:#bbd9bb; text-align:left;\"><td>6148.4</td><td>2457880</td><td>0.50461</td><td>0.50461</td><td>25.00</td></tr><tr style=\"background:#bbd9bb; text-align:left;\"><td>6148.2</td><td>2457880</td><td>0.50806</td><td>0.50806</td><td>26.25</td></tr><tr style=\"background:#bbd9bb; text-align:left;\"><td>6148.4</td><td>2457880</td><td>0.51687</td><td>0.51687</td><td>26.25</td></tr><tr style=\"background:#aeaeff; text-align:left;\"><td>6148.2</td><td>2457880</td><td>0.51751</td><td>0.51751</td><td>27.49</td></tr><tr style=\"background:#aeaeff; text-align:left;\"><td>6148.3</td><td>2457880</td><td>0.51336</td><td>0.51336</td><td>27.49</td></tr><tr style=\"background:#aeaeff; text-align:left;\"><td>6148.3</td><td>2457880</td><td>0.5156</td><td>0.5156</td><td>27.50</td></tr><tr style=\"background:#aeaeff; text-align:left;\"><td>6148.1</td><td>2457880</td><td>0.50799</td><td>0.50799</td><td>28.75</td></tr><tr style=\"background:#aeaeff; text-align:left;\"><td>6148.3</td><td>2457880</td><td>0.51528</td><td>0.51528</td><td>28.75</td></tr><tr style=\"background:#aeaeff; text-align:left;\"><td>6148.3</td><td>2457880</td><td>0.51687</td><td>0.51687</td><td>28.75</td></tr><tr style=\"background:#aeaeff; text-align:left;\"><td>6148.4</td><td>2457880</td><td>0.5186</td><td>0.5186</td><td>28.75</td></tr><tr style=\"background:#aeaeff; text-align:left;\"><td>6148.2</td><td>2457880</td><td>0.50502</td><td>0.50502</td><td>28.76</td></tr><tr style=\"background:#aed1ae; text-align:left;\"><td>6148.1</td><td>2457880</td><td>0.50303</td><td>0.50303</td><td>30.00</td></tr><tr style=\"background:#aed1ae; text-align:left;\"><td>6148.1</td><td>2457880</td><td>0.50806</td><td>0.50806</td><td>30.00</td></tr><tr style=\"background:#aed1ae; text-align:left;\"><td>6148.2</td><td>2457880</td><td>0.50568</td><td>0.50568</td><td>30.00</td></tr><tr style=\"background:#aed1ae; text-align:left;\"><td>6148.1</td><td>2457880</td><td>0.51296</td><td>0.51296</td><td>31.24</td></tr><tr style=\"background:#aed1ae; text-align:left;\"><td>6148.3</td><td>2457880</td><td>0.51835</td><td>0.51835</td><td>31.24</td></tr><tr style=\"background:#aed1ae; text-align:left;\"><td>6148.3</td><td>2457880</td><td>0.50727</td><td>0.50727</td><td>31.25</td></tr><tr style=\"background:#aed1ae; text-align:left;\"><td>6148.3</td><td>2457880</td><td>0.50837</td><td>0.50837</td><td>31.25</td></tr><tr style=\"background:#aed1ae; text-align:left;\"><td>6148.4</td><td>2457880</td><td>0.51194</td><td>0.51194</td><td>31.25</td></tr><tr style=\"background:#aed1ae; text-align:left;\"><td>6148.1</td><td>2457880</td><td>0.5118</td><td>0.5118</td><td>31.26</td></tr><tr style=\"background:#aed1ae; text-align:left;\"><td>6148.1</td><td>2457880</td><td>0.5156</td><td>0.5156</td><td>31.26</td></tr><tr style=\"background:#aed1ae; text-align:left;\"><td>6148.2</td><td>2457880</td><td>0.51336</td><td>0.51336</td><td>31.26</td></tr><tr style=\"background:#aed1ae; text-align:left;\"><td>6148.3</td><td>2457880</td><td>0.5186</td><td>0.5186</td><td>32.49</td></tr><tr style=\"background:#aed1ae; text-align:left;\"><td>6148.4</td><td>2457880</td><td>0.50799</td><td>0.50799</td><td>32.49</td></tr><tr style=\"background:#aed1ae; text-align:left;\"><td>6148.2</td><td>2457880</td><td>0.51825</td><td>0.51825</td><td>32.50</td></tr><tr style=\"background:#aed1ae; text-align:left;\"><td>6148.3</td><td>2457880</td><td>0.50652</td><td>0.50652</td><td>32.50</td></tr><tr style=\"background:#a1a1ff; text-align:left;\"><td>6148.3</td><td>2457880</td><td>0.50799</td><td>0.50799</td><td>33.75</td></tr><tr style=\"background:#a1a1ff; text-align:left;\"><td>6148.3</td><td>2457880</td><td>0.5118</td><td>0.5118</td><td>33.75</td></tr><tr style=\"background:#a1a1ff; text-align:left;\"><td>6148.3</td><td>2457880</td><td>0.51825</td><td>0.51825</td><td>34.98</td></tr><tr style=\"background:#a1a1ff; text-align:left;\"><td>6148.1</td><td>2457880</td><td>0.50173</td><td>0.50173</td><td>34.99</td></tr><tr style=\"background:#a1a1ff; text-align:left;\"><td>6148.1</td><td>2457880</td><td>0.51469</td><td>0.51469</td><td>35.00</td></tr><tr style=\"background:#a1a1ff; text-align:left;\"><td>6148.1</td><td>2457880</td><td>0.5175</td><td>0.5175</td><td>35.00</td></tr><tr style=\"background:#a1a1ff; text-align:left;\"><td>6148.3</td><td>2457880</td><td>0.51194</td><td>0.51194</td><td>35.00</td></tr><tr style=\"background:#a1a1ff; text-align:left;\"><td>6148.2</td><td>2457880</td><td>0.50425</td><td>0.50425</td><td>35.01</td></tr><tr style=\"background:#a1caa1; text-align:left;\"><td>6148.3</td><td>2457880</td><td>0.51524</td><td>0.51524</td><td>36.25</td></tr><tr style=\"background:#a1caa1; text-align:left;\"><td>6148.4</td><td>2457880</td><td>0.51171</td><td>0.51171</td><td>36.25</td></tr><tr style=\"background:#a1caa1; text-align:left;\"><td>6148.1</td><td>2457880</td><td>0.51825</td><td>0.51825</td><td>36.26</td></tr><tr style=\"background:#a1caa1; text-align:left;\"><td>6148.1</td><td>2457880</td><td>0.50611</td><td>0.50611</td><td>37.51</td></tr><tr style=\"background:#a1caa1; text-align:left;\"><td>6148.2</td><td>2457880</td><td>0.50799</td><td>0.50799</td><td>37.51</td></tr><tr style=\"background:#a1caa1; text-align:left;\"><td>6148.2</td><td>2457880</td><td>0.51848</td><td>0.51848</td><td>37.51</td></tr><tr style=\"background:#a1caa1; text-align:left;\"><td>6148.3</td><td>2457880</td><td>0.5138</td><td>0.5138</td><td>37.51</td></tr><tr style=\"background:#a1caa1; text-align:left;\"><td>6148.1</td><td>2457880</td><td>0.51907</td><td>0.51907</td><td>38.75</td></tr><tr style=\"background:#a1caa1; text-align:left;\"><td>6148.2</td><td>2457880</td><td>0.5032</td><td>0.5032</td><td>38.75</td></tr><tr style=\"background:#a1caa1; text-align:left;\"><td>6148.3</td><td>2457880</td><td>0.50461</td><td>0.50461</td><td>38.75</td></tr><tr style=\"background:#a1caa1; text-align:left;\"><td>6148.4</td><td>2457880</td><td>0.50516</td><td>0.50516</td><td>38.75</td></tr><tr style=\"background:#9393ff; text-align:left;\"><td>6148.2</td><td>2457880</td><td>0.51194</td><td>0.51194</td><td>40.00</td></tr><tr style=\"background:#93c293; text-align:left;\"><td>6148.2</td><td>2457880</td><td>0.50303</td><td>0.50303</td><td>42.50</td></tr><tr style=\"background:#8686ff; text-align:left;\"><td>6148.1</td><td>2457880</td><td>0.51848</td><td>0.51848</td><td>45.01</td></tr><tr style=\"background:#8686ff; text-align:left;\"><td>6148.2</td><td>2457880</td><td>0.51719</td><td>0.51719</td><td>45.01</td></tr><tr style=\"background:#8686ff; text-align:left;\"><td>6148.2</td><td>2457880</td><td>0.5118</td><td>0.5118</td><td>47.50</td></tr><tr style=\"background:#86bb86; text-align:left;\"><td>6148.1</td><td>2457880</td><td>0.50652</td><td>0.50652</td><td>50.00</td></tr><tr style=\"background:#6bac6b; text-align:left;\"><td>6148.2</td><td>2457880</td><td>0.50781</td><td>0.50781</td><td>62.49</td></tr></table>"
      ],
      "text/plain": [
       "<IPython.core.display.HTML object>"
      ]
     },
     "metadata": {},
     "output_type": "display_data"
    }
   ],
   "source": [
    "from IPython.display import HTML, display\n",
    "\n",
    "binNumber_Max = 38\n",
    "binSize = 3\n",
    "binList = [i*binSize for i in range(binNumber_Max+1)]\n",
    "### binList = [0, 10, 20, 30, 40, 50, ...]\n",
    "#print(binList)\n",
    "\n",
    "# A 19-step blue gradient:\n",
    "binColors1 = ['#f1f1ff', '#e4e4ff', '#d6d6ff', '#c9c9ff', '#bbbbff', '#aeaeff', '#a1a1ff', '#9393ff', '#8686ff', '#7878ff', '#6b6bff', '#5d5dff', '#5050ff', '#4343ff', '#3535ff', '#2828ff', '#1a1aff', '#0d0dff', '#0000ff']\n",
    "#print(binColors)\n",
    "\n",
    "# A 19-step green gradient:\n",
    "binColors2 = ['#f1f7f1', '#e4efe4', '#d6e6d6', '#c9e0c9', '#bbd9bb', '#aed1ae', '#a1caa1', '#93c293', '#86bb86', '#78b378', '#6bac6b', '#5da55d', '#509d50', '#439543', '#358e35', '#288628', '#1a7f1a', '#0d770d', '#007000']\n",
    "    \n",
    "# For now:\n",
    "#binColors = binColors1\n",
    "\n",
    "# TODO: Alternate bins with blue/green\n",
    "binColors = []\n",
    "# \"Zip\" the color lists together into a list of alternating colors\n",
    "for i in range(len(binColors1)):\n",
    "    binColors.append(binColors1[i])\n",
    "    binColors.append(binColors2[i])\n",
    "    \n",
    "sortColumn = 4\n",
    "\n",
    "##header = '<tr style=\"background:light grey; text-align:left; float:left; width:100%; margin: -7px 0 -7px 0;\">\\\n",
    "##            <th>ID.Channel</th><th>Day</th><th>Rising Edge</th><th>Falling Edge</th>\\\n",
    "##            <th>Time over Threshold</th></tr>'\n",
    "header = '<tr style=\"background:light grey; text-align:left;\">\\\n",
    "            <th>ID.Channel</th><th>Day</th><th>Rising Edge</th><th>Falling Edge</th>\\\n",
    "            <th>Time over Threshold</th></tr>'\n",
    "\n",
    "htmlRows = [header]\n",
    "\n",
    "# Read in the file\n",
    "#with open('files/6148.2017.0507.0-100.thresh') as data:\n",
    "with open('outputs/6148.2017.0507.0-100.sorted01') as data:\n",
    "\n",
    "    linecount = 0\n",
    "    for line in data:\n",
    "        # If it's a comment, set it to a neutral color\n",
    "        if str(line[0]) == '#':\n",
    "            #htmlRows.append( '<tr style=\"background:{0}; text-align:left; float:left; width:100%; \\\n",
    "            #margin: -7px 0 -7px 0;\"><td>{1}</td></tr>'.format('light grey', line) )\n",
    "            pass\n",
    "        else:\n",
    "            # If it's data, break the line into an array of values\n",
    "            values = line.split('\\t')\n",
    "            # Remove the linebreak from the last value\n",
    "            values[-1] = values[-1].strip('\\n')\n",
    "\n",
    "            # If it's a rising or falling edge, round it to 5 decimal places\n",
    "            values[2] = str(round(float(values[2]), 5))\n",
    "            values[3] = str(round(float(values[3]), 5))\n",
    "            \n",
    "            # Remove the integer-value rising and falling edges\n",
    "            del values[6]\n",
    "            del values[5]\n",
    "            \n",
    "            # This is the number we want sorted:\n",
    "            dataValue = float(values[sortColumn])\n",
    "\n",
    "            # Scan through the bins to find which one the relevant value is in\n",
    "            assignedBin = None\n",
    "            for binLower in binList:\n",
    "                binUpper = binLower + binSize\n",
    "                if dataValue >= binLower and dataValue < binUpper:\n",
    "                    assignedBin = binList.index(binLower)\n",
    "                    break\n",
    "\n",
    "                # If none of those worked, add the line to the last bin:\n",
    "                if assignedBin == None:\n",
    "                    assignedBin = binList.index(binList[-1])\n",
    "            \n",
    "            #newLine = '\\t'.join(values)\n",
    "            newLine = '<td>' + '</td><td>'.join(values) + '</td>'\n",
    "            \n",
    "            ##htmlRows.append( '<tr style=\"background:{0}; text-align:left; float:left; width:100%;\\\n",
    "            ##margin: -7px 0 -7px 0;\">{1}</tr>'.format(str(binColors[assignedBin+1]), newLine) )\n",
    "\n",
    "            htmlRows.append( '<tr style=\"background:{0}; text-align:left;\">{1}</tr>'.format(str(binColors[assignedBin+1]), newLine) )\n",
    "            \n",
    "#htmlOutput = '<table style=\"text-align:left\">'\n",
    "htmlOutput = '<table style=\"font-family: monospace; margin: 0 auto; text-align:left; float:left;\">'\n",
    "\n",
    "for row in htmlRows:\n",
    "    htmlOutput = htmlOutput + row\n",
    "\n",
    "htmlOutput = htmlOutput + '</table>'\n",
    "\n",
    "#print(htmlOutput)\n",
    "\n",
    "display(HTML(htmlOutput))"
   ]
  },
  {
   "cell_type": "code",
   "execution_count": 10,
   "metadata": {},
   "outputs": [],
   "source": [
    "# Excised from the above as overkill, but keep here 'til I figure out where to store it\n",
    "# Create the list of bin colors\n",
    "binColors = []\n",
    "for i in range(len(binList)):\n",
    "    \n",
    "    RR = hex( i*(int(255/binNumber_Max)) )\n",
    "    GG = hex( i*(int(255/binNumber_Max)) )\n",
    "    BB = hex( 255 )\n",
    "\n",
    "    if RR == '0x0':\n",
    "        RR = str('00')\n",
    "    if GG == '0x0':\n",
    "        GG = str('00')\n",
    "    if BB == '0x0':\n",
    "        BB = str('00')\n",
    "\n",
    "    col = '#' + str(RR).replace('0x','') + str(GG).replace('0x','') + str(BB).replace('0x','') + '80'\n",
    "    #print(col)\n",
    "\n",
    "    binColors.append(col)"
   ]
  },
  {
   "cell_type": "markdown",
   "metadata": {},
   "source": []
  },
  {
   "cell_type": "code",
   "execution_count": 20,
   "metadata": {},
   "outputs": [
    {
     "data": {
      "text/html": [
       "\n",
       "<table style=\"font-family: monospace; margin: 0 auto;\">\n",
       "    <tr><th>Cats</th><th>Dogs</th><th>Mice</th></tr>\n",
       "    <tr><td>Garfield</td><td>Odie</td><td>Jerry</td></tr>\n",
       "    <tr><td>Tom</td><td>Marmaduke</td><td>Speedy</td></tr>\n",
       "    <tr><td>Heathcliff</td><td>Pluto</td><td>Mickey</td></tr>\n",
       "</table>\n"
      ],
      "text/plain": [
       "<IPython.core.display.HTML object>"
      ]
     },
     "metadata": {},
     "output_type": "display_data"
    }
   ],
   "source": [
    "htmlOutput = \"\"\"\n",
    "<table style=\"font-family: monospace; margin: 0 auto;\">\n",
    "    <tr><th>Cats</th><th>Dogs</th><th>Mice</th></tr>\n",
    "    <tr><td>Garfield</td><td>Odie</td><td>Jerry</td></tr>\n",
    "    <tr><td>Tom</td><td>Marmaduke</td><td>Speedy</td></tr>\n",
    "    <tr><td>Heathcliff</td><td>Pluto</td><td>Mickey</td></tr>\n",
    "</table>\n",
    "\"\"\"\n",
    "\n",
    "display(HTML(htmlOutput))"
   ]
  },
  {
   "cell_type": "markdown",
   "metadata": {},
   "source": []
  },
  {
   "cell_type": "markdown",
   "metadata": {},
   "source": []
  },
  {
   "cell_type": "markdown",
   "metadata": {},
   "source": []
  },
  {
   "cell_type": "code",
   "execution_count": 11,
   "metadata": {},
   "outputs": [
    {
     "name": "stdout",
     "output_type": "stream",
     "text": [
      "6119.2016.0104.1.test.thresh  freqOut02  freqOut07\t    singleChannelOut4\r\n",
      "6148.2016.0109.0.test.thresh  freqOut03  freqOut08\t    sortOut\r\n",
      "6203.2016.0104.1.test.thresh  freqOut04  singleChannelOut1  sortOut11\r\n",
      "combineOut\t\t      freqOut05  singleChannelOut2  sortOut15\r\n",
      "freqOut01\t\t      freqOut06  singleChannelOut3  sortOut51\r\n"
     ]
    }
   ],
   "source": [
    "!ls test_data"
   ]
  },
  {
   "cell_type": "markdown",
   "metadata": {},
   "source": [
    "`Sort` isn't typically applied directly to threshold files in practice, but just for fun we'll see what happens when we apply its data transformation to `test_data/6203.2016.0104.1.test.thresh`.\n",
    "\n",
    "First, use the UNIX shell command `head` to get a quick look at what this input looks like:"
   ]
  },
  {
   "cell_type": "code",
   "execution_count": 12,
   "metadata": {},
   "outputs": [
    {
     "name": "stdout",
     "output_type": "stream",
     "text": [
      "#$md5\r\n",
      "#md5_hex(0)\r\n",
      "#ID.CHANNEL, Julian Day, RISING EDGE(sec), FALLING EDGE(sec), TIME OVER THRESHOLD (nanosec), RISING EDGE(INT), FALLING EDGE(INT)\r\n",
      "6203.1\t2457392\t0.2452114384916088\t0.2452114384919415\t28.75\t2118626828567500\t2118626828570375\r\n",
      "6203.4\t2457392\t0.2452114384916232\t0.2452114384919705\t30.00\t2118626828567625\t2118626828570625\r\n",
      "6203.2\t2457392\t0.2452114384916232\t0.2452114384920283\t35.00\t2118626828567625\t2118626828571125\r\n",
      "6203.1\t2457392\t0.2452182596452402\t0.2452182596455440\t26.25\t2118685763334875\t2118685763337500\r\n",
      "6203.4\t2457392\t0.2452182596452402\t0.2452182596455874\t30.00\t2118685763334875\t2118685763337875\r\n",
      "6203.2\t2457392\t0.2452182596452402\t0.2452182596456308\t33.75\t2118685763334875\t2118685763338250\r\n",
      "6203.4\t2457392\t0.2452190121639323\t0.2452190121641204\t16.25\t2118692265096375\t2118692265098000\r\n"
     ]
    }
   ],
   "source": [
    "!head -10 test_data/6203.2016.0104.1.test.thresh"
   ]
  },
  {
   "cell_type": "markdown",
   "metadata": {},
   "source": [
    "`$ head -10` shows the first 10 lines of the file; in the case of `6203.2016.0104.1.test.thresh`, that happens to be the entire file."
   ]
  },
  {
   "cell_type": "markdown",
   "metadata": {},
   "source": [
    "We'll call the output file `sortOut`.  What do we pick for the two column sort parameters, though?  That isn't necessarily clear, so we'll experiment.\n",
    "\n",
    "First, try the simplest option: 1 and 1.  And since we're going to experiment, we'll want to use different names for the output files so that we can compare them.  In this case, we'll use `sortOut11` instead, for a command of\n",
    "\n",
    "`$ perl ./perl/Sort.pl test_data/6203.2016.0104.1.test.thresh test_data/sortOut11 1 1`\n",
    "\n",
    "Running this on the command line, the output `sortOut11` looks like this:"
   ]
  },
  {
   "cell_type": "code",
   "execution_count": 13,
   "metadata": {},
   "outputs": [
    {
     "name": "stdout",
     "output_type": "stream",
     "text": [
      "#ID.CHANNEL, Julian Day, RISING EDGE(sec), FALLING EDGE(sec), TIME OVER THRESHOLD (nanosec), RISING EDGE(INT), FALLING EDGE(INT)\r\n",
      "#$md5\r\n",
      "#md5_hex(0)\r\n",
      "6203.1\t2457392\t0.2452114384916088\t0.2452114384919415\t28.75\t2118626828567500\t2118626828570375\r\n",
      "6203.1\t2457392\t0.2452182596452402\t0.2452182596455440\t26.25\t2118685763334875\t2118685763337500\r\n",
      "6203.2\t2457392\t0.2452114384916232\t0.2452114384920283\t35.00\t2118626828567625\t2118626828571125\r\n",
      "6203.2\t2457392\t0.2452182596452402\t0.2452182596456308\t33.75\t2118685763334875\t2118685763338250\r\n",
      "6203.4\t2457392\t0.2452114384916232\t0.2452114384919705\t30.00\t2118626828567625\t2118626828570625\r\n",
      "6203.4\t2457392\t0.2452182596452402\t0.2452182596455874\t30.00\t2118685763334875\t2118685763337875\r\n",
      "6203.4\t2457392\t0.2452190121639323\t0.2452190121641204\t16.25\t2118692265096375\t2118692265098000\r\n"
     ]
    }
   ],
   "source": [
    "!cat test_data/sortOut11"
   ]
  },
  {
   "cell_type": "markdown",
   "metadata": {},
   "source": [
    "With a name like `Sort.pl`, we're naturally looking for one of these columns to be sorted. A quick inspection reveals that only column 1, `detectorID.channel`, is in any sort of order, and that's by the channel number in ascending order (1,2,4).  \n",
    "\n",
    "Any time we're sorting multi-column data like this, though, there's a little ambiguity.  Take the three `6203.4` entries, for example: they all have the same value for column 1, so how do we decide what order to put *them* in?  Looking just at those three values, we can see that they're in \n",
    "\n",
    "* Ascending order by all four RISING EDGE and FALLING EDGE columns\n",
    "* Descending order by the TIME OVER THRESHOLD column\n",
    "\n",
    "In fact, both of the above points are true for the two respective `6203.1` and `6203.2` data lines, as well.  Can we conclude anything about how `Sort.pl` performs what we'll call a \"secondary sort?\"\n",
    "\n",
    "I can think of four possibilities offhand:\n",
    "Having performed the primary sort on column 1, `Sort.pl`\n",
    "\n",
    "1) Searches for the next column that isn't already sorted and sorts by it - in this case column 3, the first RISING EDGE column\n",
    "\n",
    "2) Is programmed to secondary sort in descending order on column 5, the TIME OVER THRESHOLD column\n",
    "\n",
    "3) Performs no further sorting; the apparent sorting by RISING EDGE is due to the fact that data lines in threshold files are already sequenced by time\n",
    "\n",
    "4) Performs no further sorting; the apparent sorting by EDGE times or TIME OVER THRESHOLD is the type of coincidence that shows up when you look at small numbers of data points\n",
    "\n",
    "\n"
   ]
  },
  {
   "cell_type": "markdown",
   "metadata": {},
   "source": [
    "**Exercise 1**\n",
    "\n",
    "Based on the output `sortOut11`, can you think of any other explanations for what `Sort.pl` might perform as a secondary sort?"
   ]
  },
  {
   "cell_type": "markdown",
   "metadata": {},
   "source": [
    "*write your answer here*"
   ]
  },
  {
   "cell_type": "markdown",
   "metadata": {},
   "source": [
    "**Exercise 2**\n",
    "\n",
    "Create a mock data file of 5 lines of data in 7 columns, like\n",
    "\n",
    "```\n",
    " 1  7 11  3  5  1  2\n",
    " 5  5 12  4  2 11 32\n",
    "77  1  6  1  6  1  6\n",
    "10  4  4  4 21  7 12\n",
    "19 30  1  7  5  2  9\n",
    "```\n",
    "\n",
    "For simplicity, use integers between 1-100 and don't include a header.  Design your mock data file so that if we apply `Sort.pl` to it, the result would distinguish among the four possibilities listed above.  If you think one or more of the possibilities isn't resolvable in this way, explain why."
   ]
  },
  {
   "cell_type": "markdown",
   "metadata": {},
   "source": [
    "*write your mock data here, between the code block delimiters:*\n",
    "\n",
    "*Hint: start by creating a mock data file that will indicate if option one is true.  Then, adapt it for each subsequent option*\n",
    "\n",
    "```\n",
    "\n",
    "```"
   ]
  },
  {
   "cell_type": "markdown",
   "metadata": {},
   "source": [
    "We'll experiment some more.  If the two column sort parameters both refer to columns, then `1 1` is redundant.  We should test a different combination, say `1 5`:\n",
    "\n",
    "`$ perl ./perl/Sort.pl test_data/6203.2016.0104.1.test.thresh test_data/sortOut15 1 5`\n",
    "\n",
    "(Note that we've changed the output file to `test_data/sortOut15` so it won't overwrite the previous output file.  That way, we can compare the two).\n",
    "\n",
    "The output of this command is"
   ]
  },
  {
   "cell_type": "code",
   "execution_count": 14,
   "metadata": {},
   "outputs": [
    {
     "name": "stdout",
     "output_type": "stream",
     "text": [
      "#ID.CHANNEL, Julian Day, RISING EDGE(sec), FALLING EDGE(sec), TIME OVER THRESHOLD (nanosec), RISING EDGE(INT), FALLING EDGE(INT)\r\n",
      "#$md5\r\n",
      "#md5_hex(0)\r\n",
      "6203.1\t2457392\t0.2452182596452402\t0.2452182596455440\t26.25\t2118685763334875\t2118685763337500\r\n",
      "6203.1\t2457392\t0.2452114384916088\t0.2452114384919415\t28.75\t2118626828567500\t2118626828570375\r\n",
      "6203.2\t2457392\t0.2452182596452402\t0.2452182596456308\t33.75\t2118685763334875\t2118685763338250\r\n",
      "6203.2\t2457392\t0.2452114384916232\t0.2452114384920283\t35.00\t2118626828567625\t2118626828571125\r\n",
      "6203.4\t2457392\t0.2452190121639323\t0.2452190121641204\t16.25\t2118692265096375\t2118692265098000\r\n",
      "6203.4\t2457392\t0.2452114384916232\t0.2452114384919705\t30.00\t2118626828567625\t2118626828570625\r\n",
      "6203.4\t2457392\t0.2452182596452402\t0.2452182596455874\t30.00\t2118685763334875\t2118685763337875\r\n"
     ]
    }
   ],
   "source": [
    "!cat test_data/sortOut15"
   ]
  },
  {
   "cell_type": "markdown",
   "metadata": {},
   "source": [
    "The first column is still sorted, and column 5 (TIME OVER THRESHOLD) isn't, overall.  But compare column 5 in this output to column 5 in the previous output, `sortOut15`.  It's clearly in a different order -- looking more closely, we see that the values in column 5 are in order *for each value in column 1*. That is, for all lines that start with `6203.1`, the lines have been rearranged so that the column 5 values are in ascending order.  For all lines that start with `6203.2`, the same is true, and so on.\n",
    "\n",
    "It seems like we've figured out what the sort parameters do: the first parameter is the *primary sort*, the column that is sorted over the entirety of the output file, while the second parameter is the *secondary sort*, the column that is sorted only within matching values of the primary sort column.\n",
    "\n",
    "To test that hypothesis, let's play around a bit.  We'll do the same as the last data transformation, but reverse the column parameters."
   ]
  },
  {
   "cell_type": "markdown",
   "metadata": {},
   "source": [
    "`$ perl ./perl/Sort.pl test_data/6203.2016.0104.1.test.thresh test_data/sortOut51 5 1`"
   ]
  },
  {
   "cell_type": "code",
   "execution_count": 15,
   "metadata": {},
   "outputs": [
    {
     "name": "stdout",
     "output_type": "stream",
     "text": [
      "#ID.CHANNEL, Julian Day, RISING EDGE(sec), FALLING EDGE(sec), TIME OVER THRESHOLD (nanosec), RISING EDGE(INT), FALLING EDGE(INT)\r\n",
      "#$md5\r\n",
      "#md5_hex(0)\r\n",
      "6203.4\t2457392\t0.2452190121639323\t0.2452190121641204\t16.25\t2118692265096375\t2118692265098000\r\n",
      "6203.1\t2457392\t0.2452182596452402\t0.2452182596455440\t26.25\t2118685763334875\t2118685763337500\r\n",
      "6203.1\t2457392\t0.2452114384916088\t0.2452114384919415\t28.75\t2118626828567500\t2118626828570375\r\n",
      "6203.4\t2457392\t0.2452114384916232\t0.2452114384919705\t30.00\t2118626828567625\t2118626828570625\r\n",
      "6203.4\t2457392\t0.2452182596452402\t0.2452182596455874\t30.00\t2118685763334875\t2118685763337875\r\n",
      "6203.2\t2457392\t0.2452182596452402\t0.2452182596456308\t33.75\t2118685763334875\t2118685763338250\r\n",
      "6203.2\t2457392\t0.2452114384916232\t0.2452114384920283\t35.00\t2118626828567625\t2118626828571125\r\n"
     ]
    }
   ],
   "source": [
    "!cat test_data/sortOut51"
   ]
  },
  {
   "cell_type": "markdown",
   "metadata": {},
   "source": [
    "The first column is no longer in order, but column 5 is.  Since there are few repeating values within column 5, it's hard to see that column one is the secondary sort, but the output is at least consistent with that idea.\n",
    "\n",
    "Play around until with the other data available in the `test_data` directory until you're satisfied you understand how `Sort.pl` works."
   ]
  },
  {
   "cell_type": "markdown",
   "metadata": {},
   "source": [
    "To wrap things up, we'll do one more important test of the `Sort.pl` script: what happens if we try to use it in the wrong manner?  For example, what if we attempt to sort on column 0?\n",
    "\n",
    "`$ perl ./perl/Sort.pl test_data/6203.2016.0104.1.test.thresh test_data/sortOut01 0 1`\n",
    "\n",
    "Trying this from the command line, we find\n",
    "\n",
    "```\n",
    "$ perl ./perl/Sort.pl test_data/6203.2016.0104.1.test.thresh test_data/sortOut01 0 1\n",
    "sort: field number is zero: invalid field specification ‘0,0’\n",
    "```"
   ]
  },
  {
   "cell_type": "markdown",
   "metadata": {},
   "source": [
    "The script has given us an error that (mostly) explains the mistake.  It's always good programming practice to anticipate user errors!"
   ]
  }
 ],
 "metadata": {
  "kernelspec": {
   "display_name": "Python 3",
   "language": "python",
   "name": "python3"
  },
  "language_info": {
   "codemirror_mode": {
    "name": "ipython",
    "version": 3
   },
   "file_extension": ".py",
   "mimetype": "text/x-python",
   "name": "python",
   "nbconvert_exporter": "python",
   "pygments_lexer": "ipython3",
   "version": "3.6.4"
  }
 },
 "nbformat": 4,
 "nbformat_minor": 2
}
