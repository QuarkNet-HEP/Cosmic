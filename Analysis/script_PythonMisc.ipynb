{
 "cells": [
  {
   "cell_type": "markdown",
   "metadata": {},
   "source": [
    "## pickColumn"
   ]
  },
  {
   "cell_type": "code",
   "execution_count": null,
   "metadata": {},
   "outputs": [],
   "source": [
    "def pickColumn(file_in='', col=0, file_out='./columnOut'):\n",
    "    '''A function to select and write a single column of data from an input file'''\n",
    "    \n",
    "    # Here's how to open a file for Python to read.\n",
    "    # The 'r' option is for \"read-only\", so we can't accidentally change the source data\n",
    "    with open(file_in, 'r') as infile:\n",
    "        # We'll also open a file to write ('w') to:\n",
    "        with open(file_out, 'w') as outfile:\n",
    "            # Reading the input file line-by-line,\n",
    "            for line in infile:\n",
    "                # Check the first character in a line and ignore if it's a comment:\n",
    "                if not line[0] == '#':\n",
    "                    # We'll break each line of the infile into a list:\n",
    "                    lineList = line.split()\n",
    "                    # Pick the column we want\n",
    "                    selected = lineList[col]\n",
    "                    # And write that to the outfile:\n",
    "                    outfile.write(selected + '\\n')"
   ]
  },
  {
   "cell_type": "code",
   "execution_count": null,
   "metadata": {},
   "outputs": [],
   "source": [
    "# Try pickColumn()\n",
    "pickColumn(file_in='files/6119.2016.0104.1.thresh', col=2, file_out='./tmp/out1')"
   ]
  },
  {
   "cell_type": "code",
   "execution_count": null,
   "metadata": {},
   "outputs": [],
   "source": [
    "!head -10 ./tmp/out1"
   ]
  },
  {
   "cell_type": "code",
   "execution_count": null,
   "metadata": {},
   "outputs": [],
   "source": []
  }
 ],
 "metadata": {
  "kernelspec": {
   "display_name": "Python 3",
   "language": "python",
   "name": "python3"
  },
  "language_info": {
   "codemirror_mode": {
    "name": "ipython",
    "version": 3
   },
   "file_extension": ".py",
   "mimetype": "text/x-python",
   "name": "python",
   "nbconvert_exporter": "python",
   "pygments_lexer": "ipython3",
   "version": "3.6.4"
  }
 },
 "nbformat": 4,
 "nbformat_minor": 2
}
