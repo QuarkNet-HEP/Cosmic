{
 "cells": [
  {
   "cell_type": "markdown",
   "metadata": {},
   "source": [
    "*Instructors:*\n",
    "*This Notebook uses the SingleChannel.pl script of the Cosmic Ray e-Lab analyses to provide material for the following learning goals:*\n",
    "\n",
    "* *Identifying and selecting relevant data from a larger dataset*\n",
    "* *Understanding the use of 'control' data in an experiment*\n",
    "* *Introductory principles of statistics*"
   ]
  },
  {
   "cell_type": "markdown",
   "metadata": {},
   "source": [
    "# SingleChannel"
   ]
  },
  {
   "cell_type": "markdown",
   "metadata": {},
   "source": [
    "## Motivation: Comparing muon absorption data to a control"
   ]
  },
  {
   "cell_type": "markdown",
   "metadata": {},
   "source": [
    "When cosmic ray muons pass through a material, there's some chance that the material will absorb it.  Can we quantify this effect?  Fig. 1 shows a simple experiment you can do with a cosmic ray muon detector (CRMD) to begin answering this question."
   ]
  },
  {
   "cell_type": "markdown",
   "metadata": {},
   "source": [
    "In this experiment, we place a layer of a dense material (we'll use lead as an example) between two detector panels stacked vertically.  Many of the cosmic ray muons that pass through the top panel also pass through the lead and reach the bottom panel, but many are blocked by the lead."
   ]
  },
  {
   "cell_type": "markdown",
   "metadata": {},
   "source": [
    "![A muon striking a neutrino detector](img/MuonAbsorption_800x401.png)*Fig 1.  A layer of lead placed between two CRMD detector panels absorbs some fraction of cosmic ray muons that pass through.*"
   ]
  },
  {
   "cell_type": "markdown",
   "metadata": {},
   "source": [
    "By comparing the data from the bottom panel to the data from the top panel, we can calculate what fraction of incident muons are blocked by the lead.  If we want to be thorough, we can then change the thickness of the lead and perform the measurement again multiple times in order to determine the fraction of absorbed muons as a function of lead thickness -- but that's getting ahead of ourselves."
   ]
  },
  {
   "cell_type": "markdown",
   "metadata": {},
   "source": [
    "For now, what's important is to recognize the difference between the top panel and the bottom panel.  The bottom panel takes the data that we're most directly interested in: the muon count when the path is blocked by lead.  We can't interpret that data, however, unless we also measure the *unblocked* muon count using the top panel.  Otherwise, we don't know exactly how many are being stopped, only that there seem to be fewer of them."
   ]
  },
  {
   "cell_type": "markdown",
   "metadata": {},
   "source": [
    "In this case, the top detector panel acts as a **control**: a set of data taken *without* imposing the conditions of the experiment so that the experimental data can be compared to it."
   ]
  },
  {
   "cell_type": "markdown",
   "metadata": {},
   "source": [
    "This also implies that the data from the top panel and the data from the bottom panel are meaningfully distinct and that we can't treat them as part of one big set.  After all, we've specifically designed our experiment around the expectation that there will be a physical difference between the two:  We expect fewer muon counts in the panel that's shielded by lead than in the control panel.  When we analyze the data recorded by the DAQ, we'll have to distinguish the data of the upper channel from the data of the lower channel so that we can handle them differently.  This is what the `SingleChannel` data transformation is designed to do."
   ]
  },
  {
   "cell_type": "markdown",
   "metadata": {},
   "source": [
    "## Using SingleChannel.pl"
   ]
  },
  {
   "cell_type": "markdown",
   "metadata": {},
   "source": [
    "To use the data transformation script `SingleChannel.pl`, we provide it with a single input file followed by what we want it to name the output file it creates and a channel number:\n",
    "\n",
    "`$ perl ./perl/SingleChannel.pl <input file> <output file> <channel number>`\n",
    "\n",
    "where the items in angled brackets `<>` are parameters we have to specify.  These are:\n",
    "\n",
    "* `input file`:  The name of a file to be used as input; we can specify only one for this script\n",
    "* `output file`: What we want to name the output file that the script will write its results to\n",
    "* `channel number`: Which DAQ channel (1-4) we're selecting for output"
   ]
  },
  {
   "cell_type": "markdown",
   "metadata": {},
   "source": [
    "We'll try it out on the test data in the `test_data` directory.  Use the UNIX shell command `$ ls test_data` to see what's there:"
   ]
  },
  {
   "cell_type": "code",
   "execution_count": 1,
   "metadata": {},
   "outputs": [
    {
     "name": "stdout",
     "output_type": "stream",
     "text": [
      "6119.2016.0104.1.test.thresh  combineOut  sortOut15\r\n",
      "6148.2016.0109.0.test.thresh  sortOut\t  sortOut51\r\n",
      "6203.2016.0104.1.test.thresh  sortOut11\r\n"
     ]
    }
   ],
   "source": [
    "!ls test_data"
   ]
  },
  {
   "cell_type": "markdown",
   "metadata": {},
   "source": [
    "Selecting randomly, we'll choose the threshold file `6148.2016.0109.0.test.thresh` to test the `SingleChannel` data transformation on."
   ]
  },
  {
   "cell_type": "markdown",
   "metadata": {},
   "source": [
    "### 1) Investigating the input data"
   ]
  },
  {
   "cell_type": "markdown",
   "metadata": {},
   "source": [
    "To get a sense for how big the data file is and what its data looks like before the `SingleChannel` data transformation, we'll first use the UNIX `wc` (word count) utility to count its lines:"
   ]
  },
  {
   "cell_type": "code",
   "execution_count": 2,
   "metadata": {},
   "outputs": [
    {
     "name": "stdout",
     "output_type": "stream",
     "text": [
      "1003 test_data/6148.2016.0109.0.test.thresh\r\n"
     ]
    }
   ],
   "source": [
    "!wc -l test_data/6148.2016.0109.0.test.thresh"
   ]
  },
  {
   "cell_type": "markdown",
   "metadata": {},
   "source": [
    "(`wc` stands for \"word count\", and the `-l` flag means \"but count lines instead of words.\" The first number in the output, before the filename, is the number of lines, in this case 1003)"
   ]
  },
  {
   "cell_type": "markdown",
   "metadata": {},
   "source": [
    "We can see that that `6148.2016.0109.0.test.thresh` has just over a thousand lines.  In fact, since we already know that each `.thresh` file begins with three commented lines as a header, we can tell that this file has exactly 1000 lines of data."
   ]
  },
  {
   "cell_type": "markdown",
   "metadata": {},
   "source": [
    "We'll use the UNIX utility `head` to see only the first 25 lines:"
   ]
  },
  {
   "cell_type": "code",
   "execution_count": 3,
   "metadata": {},
   "outputs": [
    {
     "name": "stdout",
     "output_type": "stream",
     "text": [
      "#$md5\r\n",
      "#md5_hex(0)\r\n",
      "#ID.CHANNEL, Julian Day, RISING EDGE(sec), FALLING EDGE(sec), TIME OVER THRESHOLD (nanosec), RISING EDGE(INT), FALLING EDGE(INT)\r\n",
      "6148.4\t2457396\t0.5006992493422453\t0.5006992493424479\t17.51\t4326041514317000\t4326041514318750\r\n",
      "6148.3\t2457396\t0.5006992493422887\t0.5006992493424768\t16.25\t4326041514317375\t4326041514319000\r\n",
      "6148.2\t2457396\t0.5007005963399161\t0.5007005963400029\t7.49\t4326053152376876\t4326053152377625\r\n",
      "6148.3\t2457396\t0.5007005963401910\t0.5007005963404514\t22.49\t4326053152379250\t4326053152381500\r\n",
      "6148.4\t2457396\t0.5007005963401765\t0.5007005963404658\t25.00\t4326053152379125\t4326053152381624\r\n",
      "6148.1\t2457396\t0.5014987243978154\t0.5014987243980903\t23.75\t4332948978797125\t4332948978799500\r\n",
      "6148.2\t2457396\t0.5014987243980759\t0.5014987243982495\t15.00\t4332948978799376\t4332948978800875\r\n",
      "6148.1\t2457396\t0.5020062862072049\t0.5020062862076967\t42.49\t4337334312830250\t4337334312834500\r\n",
      "6148.2\t2457396\t0.5020062862074218\t0.5020062862076389\t18.75\t4337334312832125\t4337334312834000\r\n",
      "6148.2\t2457396\t0.5020062862076823\t0.5020062862078704\t16.25\t4337334312834374\t4337334312836000\r\n",
      "6148.2\t2457396\t0.5020062862086806\t0.5020062862088253\t12.50\t4337334312843000\t4337334312844250\r\n",
      "6148.1\t2457396\t0.5021121718857783\t0.5021121718861401\t31.26\t4338249165093124\t4338249165096250\r\n",
      "6148.2\t2457396\t0.5021121718860532\t0.5021121718865741\t45.01\t4338249165095500\t4338249165100000\r\n",
      "6148.3\t2457396\t0.5021121718866174\t0.5021121718867042\t7.50\t4338249165100374\t4338249165101124\r\n",
      "6148.4\t2457396\t0.5021121718865018\t0.5021121718868924\t33.75\t4338249165099376\t4338249165102750\r\n",
      "6148.3\t2457396\t0.5021781527571470\t0.5021781527575087\t31.25\t4338819239821750\t4338819239824875\r\n",
      "6148.4\t2457396\t0.5021781527571325\t0.5021781527574218\t25.00\t4338819239821625\t4338819239824125\r\n",
      "6148.1\t2457396\t0.5023430585295574\t0.5023430585298612\t26.24\t4340244025695376\t4340244025698000\r\n",
      "6148.2\t2457396\t0.5023430585298176\t0.5023430585300203\t17.51\t4340244025697624\t4340244025699375\r\n",
      "6148.4\t2457396\t0.5023430585301071\t0.5023430585304110\t26.25\t4340244025700126\t4340244025702750\r\n",
      "6148.3\t2457396\t0.5023430585300781\t0.5023430585305989\t45.00\t4340244025699875\t4340244025704374\r\n",
      "6148.2\t2457396\t0.5024351469382090\t0.5024351469384260\t18.74\t4341039669546126\t4341039669548000\r\n"
     ]
    }
   ],
   "source": [
    "!head -25 test_data/6148.2016.0109.0.test.thresh"
   ]
  },
  {
   "cell_type": "markdown",
   "metadata": {},
   "source": [
    "This certainly looks like standard threshold data."
   ]
  },
  {
   "cell_type": "markdown",
   "metadata": {},
   "source": [
    "### 2) Applying the data transformation"
   ]
  },
  {
   "cell_type": "markdown",
   "metadata": {},
   "source": [
    "Remember that the command-line call to `SingleChannel.pl` is of the form\n",
    "\n",
    "`$ perl ./perl/SingleChannel.pl <input file> <output file> <channel number>`.\n",
    "\n",
    "We'll run\n",
    "\n",
    "`$ perl ./perl/SingleChannel.pl test_data/6148.2016.0109.0.test.thresh outputs/singleChannelOut1 1`\n",
    "\n",
    "to see what happens.  Notice that we've named the output file `singleChannelOut1` to indicate which channel number we're using; this will help us compare files from different trials.\n",
    "\n",
    "This is what the first 25 lines of the resulting file `singleChannelOut1` looks like:"
   ]
  },
  {
   "cell_type": "code",
   "execution_count": 5,
   "metadata": {},
   "outputs": [
    {
     "name": "stdout",
     "output_type": "stream",
     "text": [
      "6148.1\t2457396\t0.5014987243978154\t0.5014987243980903\t23.75\t4332948978797125\t4332948978799500\r\n",
      "6148.1\t2457396\t0.5020062862072049\t0.5020062862076967\t42.49\t4337334312830250\t4337334312834500\r\n",
      "6148.1\t2457396\t0.5021121718857783\t0.5021121718861401\t31.26\t4338249165093124\t4338249165096250\r\n",
      "6148.1\t2457396\t0.5023430585295574\t0.5023430585298612\t26.24\t4340244025695376\t4340244025698000\r\n",
      "6148.1\t2457396\t0.5051481486754340\t0.5051481486758101\t32.50\t4364480004555750\t4364480004559000\r\n",
      "6148.1\t2457396\t0.5052315883537616\t0.5052315883540365\t23.75\t4365200923376500\t4365200923378874\r\n",
      "6148.1\t2457396\t0.5068497615760561\t0.5068497615764758\t36.26\t4379181940017124\t4379181940020750\r\n",
      "6148.1\t2457396\t0.5087878610252894\t0.5087878610255497\t22.49\t4395927119258500\t4395927119260750\r\n",
      "6148.1\t2457396\t0.5087878610255786\t0.5087878610258102\t20.01\t4395927119261000\t4395927119263000\r\n",
      "6148.1\t2457396\t0.5106959616681134\t0.5106959616684317\t27.50\t4412413108812500\t4412413108815250\r\n",
      "6148.1\t2457396\t0.5106963821786025\t0.5106963821788774\t23.75\t4412416742023125\t4412416742025500\r\n",
      "6148.1\t2457396\t0.5110290907246239\t0.5110290907249999\t32.49\t4415291343860750\t4415291343864000\r\n",
      "6148.1\t2457396\t0.5116652591981915\t0.5116652591985243\t28.76\t4420787839472374\t4420787839475250\r\n",
      "6148.1\t2457396\t0.5117507249635851\t0.5117507249639178\t28.75\t4421526263685376\t4421526263688250\r\n",
      "6148.1\t2457396\t0.5126173171207031\t0.5126173171210359\t28.75\t4429013619922875\t4429013619925750\r\n",
      "6148.1\t2457396\t0.5137046943445602\t0.5137046943450087\t38.74\t4438408559137000\t4438408559140875\r\n",
      "6148.1\t2457396\t0.5137285753557727\t0.5137285753561053\t28.74\t4438614891073876\t4438614891076750\r\n",
      "6148.1\t2457396\t0.5142990016494936\t0.5142990016497541\t22.50\t4443543374251625\t4443543374253875\r\n",
      "6148.1\t2457396\t0.5143194682249711\t0.5143194682253907\t36.25\t4443720205463750\t4443720205467376\r\n",
      "6148.1\t2457396\t0.5154288317857638\t0.5154288317861255\t31.25\t4453305106629000\t4453305106632125\r\n",
      "6148.1\t2457396\t0.5155269295748408\t0.5155269295749132\t6.25\t4454152671526625\t4454152671527250\r\n",
      "6148.1\t2457396\t0.5160869217585649\t0.5160869217589988\t37.50\t4458991003994000\t4458991003997750\r\n",
      "6148.1\t2457396\t0.5160931377005064\t0.5160931377007668\t22.50\t4459044709732375\t4459044709734625\r\n",
      "6148.1\t2457396\t0.5160931377008247\t0.5160931377009838\t13.75\t4459044709735125\t4459044709736500\r\n",
      "6148.1\t2457396\t0.5166892392251301\t0.5166892392255064\t32.51\t4464195026905124\t4464195026908374\r\n"
     ]
    }
   ],
   "source": [
    "!head -25 outputs/singleChannelOut1"
   ]
  },
  {
   "cell_type": "markdown",
   "metadata": {},
   "source": [
    "The first thing we notice is that `SingleChannel` has no header lines.  We've seen data transformation scripts that alter the header of the input file to better suit the output file format, but this script deletes it entirely.  Headers are an important source of information for other users to understand the meaning of a data file, so in this case we'll have to rely on memory and documentation to interpret the columns.  By comparison, though, it's evident that `SingleChannel` hasn't altered the column structure with respect to the input threshold file.\n",
    "\n",
    "(For a quick comparison, we can check the column structure of the original in the usual way:"
   ]
  },
  {
   "cell_type": "code",
   "execution_count": 1,
   "metadata": {},
   "outputs": [
    {
     "name": "stdout",
     "output_type": "stream",
     "text": [
      "#$md5\r\n",
      "#md5_hex(0)\r\n",
      "#ID.CHANNEL, Julian Day, RISING EDGE(sec), FALLING EDGE(sec), TIME OVER THRESHOLD (nanosec), RISING EDGE(INT), FALLING EDGE(INT)\r\n",
      "6148.4\t2457396\t0.5006992493422453\t0.5006992493424479\t17.51\t4326041514317000\t4326041514318750\r\n",
      "6148.3\t2457396\t0.5006992493422887\t0.5006992493424768\t16.25\t4326041514317375\t4326041514319000\r\n",
      "6148.2\t2457396\t0.5007005963399161\t0.5007005963400029\t7.49\t4326053152376876\t4326053152377625\r\n",
      "6148.3\t2457396\t0.5007005963401910\t0.5007005963404514\t22.49\t4326053152379250\t4326053152381500\r\n"
     ]
    }
   ],
   "source": [
    "!head -7 test_data/6148.2016.0109.0.test.thresh"
   ]
  },
  {
   "cell_type": "markdown",
   "metadata": {},
   "source": [
    ")."
   ]
  },
  {
   "cell_type": "markdown",
   "metadata": {},
   "source": [
    "The second thing we notice is that column 1 contains only `6148.1` values - that is, only data from the first channel of the detector with DAQ ID #6148.  Given a name like `SingleChannel`, it should be clear that this is what the script does -- it filters the input data to select only data lines for a specific DAQ channel, discarding the rest."
   ]
  },
  {
   "cell_type": "markdown",
   "metadata": {},
   "source": [
    "It turns out that `SingleChannel` has a little bit more power, though.  It can actually handle multiple single channels at a time, as odd as that might sound.  We'll try specifying additional channels while adding additional respective output names for them:\n",
    "\n",
    "`$ perl ./perl/SingleChannel.pl test_data/6148.2016.0109.0.test.thresh \"outputs/singleChannelOut1 outputs/singleChannelOut2 outputs/singleChannelOut3 outputs/singleChannelOut4\" \"1 2 3 4\"`\n",
    "\n",
    "Note that for multiple channels and outputs, we have to add quotes `\"` to make sure that `SingleChannel` knows which arguments are the output filenames and which ones are the channel numbers.\n",
    "\n",
    "If we run this from the command line, we do in fact get four separate output files:"
   ]
  },
  {
   "cell_type": "code",
   "execution_count": 6,
   "metadata": {},
   "outputs": [
    {
     "name": "stdout",
     "output_type": "stream",
     "text": [
      "6119.2016.0104.1.test.thresh\r\n",
      "6148.2016.0109.0.test.thresh\r\n",
      "6203.2016.0104.1.test.thresh\r\n",
      "combineOut\r\n",
      "singleChannelOut1\r\n",
      "singleChannelOut2\r\n",
      "singleChannelOut3\r\n",
      "singleChannelOut4\r\n",
      "sortOut\r\n",
      "sortOut11\r\n",
      "sortOut15\r\n",
      "sortOut51\r\n"
     ]
    }
   ],
   "source": [
    "!ls -1 outputs/"
   ]
  },
  {
   "cell_type": "markdown",
   "metadata": {},
   "source": [
    "Out of curiosity, let's line-count them using the UNIX `wc` utility:"
   ]
  },
  {
   "cell_type": "code",
   "execution_count": 12,
   "metadata": {},
   "outputs": [
    {
     "name": "stdout",
     "output_type": "stream",
     "text": [
      "258 test_data/singleChannelOut1\r\n"
     ]
    }
   ],
   "source": [
    "!wc -l test_data/singleChannelOut1"
   ]
  },
  {
   "cell_type": "code",
   "execution_count": 13,
   "metadata": {},
   "outputs": [
    {
     "name": "stdout",
     "output_type": "stream",
     "text": [
      "265 test_data/singleChannelOut2\r\n"
     ]
    }
   ],
   "source": [
    "!wc -l test_data/singleChannelOut2"
   ]
  },
  {
   "cell_type": "code",
   "execution_count": 14,
   "metadata": {},
   "outputs": [
    {
     "name": "stdout",
     "output_type": "stream",
     "text": [
      "239 test_data/singleChannelOut3\r\n"
     ]
    }
   ],
   "source": [
    "!wc -l test_data/singleChannelOut3"
   ]
  },
  {
   "cell_type": "code",
   "execution_count": 15,
   "metadata": {},
   "outputs": [
    {
     "name": "stdout",
     "output_type": "stream",
     "text": [
      "238 test_data/singleChannelOut4\r\n"
     ]
    }
   ],
   "source": [
    "!wc -l test_data/singleChannelOut4"
   ]
  },
  {
   "cell_type": "markdown",
   "metadata": {},
   "source": [
    "Recall that the original input threshold file `6148.2016.0109.0.test.thresh` had 1003 lines - three header lines, and 1000 data lines."
   ]
  },
  {
   "cell_type": "markdown",
   "metadata": {},
   "source": [
    "**Exercise 1**\n",
    "\n",
    "Add the line counts of the four output files above.  Do you get what you expect?"
   ]
  },
  {
   "cell_type": "markdown",
   "metadata": {},
   "source": [
    "**Exercise 2**\n",
    "\n",
    "In a well-functioning cosmic ray muon detector using 4 channels, what percentage of the total number of counts do you expect each channel to record?  Using the example above of a file with 1000 counts, how many counts would you expect each channel to have?  If the actual results differ from what you would have expected, try to explain why."
   ]
  },
  {
   "cell_type": "markdown",
   "metadata": {},
   "source": [
    "**Exercise 3**\n",
    "\n",
    "Find a file with a much larger number of counts (that is, lines) than `6148.2016.0109.0.test.thresh` has, perhaps in the `files/` directory.  Repeat the above process of using `SingleChannel` to separate the file into individual-channel files, naming the outputs `test_data/singleChannelOut-Big1`, `test_data/singleChannelOut-Big2`, etc.  \n",
    "\n",
    "Calculate what percentage of the total number of counts each output file has.  How do these compare to your expectations?  How do they compare to the 1000 counts of `6148.2016.0109.0.test.thresh`?"
   ]
  },
  {
   "cell_type": "markdown",
   "metadata": {},
   "source": [
    "**A Word of Warning**\n",
    "\n",
    "If you've been playing around with word counts for a bit, you may have noticed that `SingleChannel` has a quirk: if you specify an output file that already exists, `SingleChannel` will *add to* the existing file rather than replacing it with the new output.  Most of the other e-Lab data transformations will replace the existing file, so this may represent a bug in this particular script.\n",
    "\n",
    "*Be aware of this when running similar commands multiple times!*"
   ]
  },
  {
   "cell_type": "markdown",
   "metadata": {},
   "source": [
    "**Further Exploration**\n",
    "\n",
    "1) What happens with a command like\n",
    "\n",
    "`$ perl ./perl/SingleChannel.pl test_data/6148.2016.0109.0.test.thresh \"test_data/singleChannelOut test_data/singleChannelOut test_data/singleChannelOut test_data/singleChannelOut\" \"1 2 3 4\"`\n",
    "\n",
    "where we apply `SingleChannel.pl` to all four channels but provide the same filename?  Does it concatenate each output into the file, effectively sorting the whole thing by channel?\n",
    "\n",
    "2) What does `SingleChannel.pl` do for an input file with multiple detectors?"
   ]
  }
 ],
 "metadata": {
  "kernelspec": {
   "display_name": "Python 3",
   "language": "python",
   "name": "python3"
  },
  "language_info": {
   "codemirror_mode": {
    "name": "ipython",
    "version": 3
   },
   "file_extension": ".py",
   "mimetype": "text/x-python",
   "name": "python",
   "nbconvert_exporter": "python",
   "pygments_lexer": "ipython3",
   "version": "3.6.4"
  }
 },
 "nbformat": 4,
 "nbformat_minor": 2
}
