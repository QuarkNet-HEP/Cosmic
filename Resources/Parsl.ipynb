{
 "cells": [
  {
   "cell_type": "markdown",
   "metadata": {},
   "source": [
    "## How to use Parsl"
   ]
  },
  {
   "cell_type": "markdown",
   "metadata": {},
   "source": [
    "### Installation"
   ]
  },
  {
   "cell_type": "markdown",
   "metadata": {},
   "source": [
    "Installed using `pip`\n",
    "\n",
    "```\n",
    "$ pip install parsl\n",
    "```\n",
    "\n",
    "`pip` installs parsl to the \n",
    "\n",
    "`~/anaconda3/lib/python3.6/site-packages/parsl`\n",
    "\n",
    "folder.\n",
    "\n"
   ]
  },
  {
   "cell_type": "markdown",
   "metadata": {},
   "source": [
    "This `pip` is Anaconda's `pip`\n",
    "\n",
    "```\n",
    "$ pip --version\n",
    "pip 9.0.1 from /home/jgriffith/anaconda3/lib/python3.6/site-packages (python 3.6)\n",
    "$ which pip\n",
    "/home/jgriffith/anaconda3/bin/pip\n",
    "```\n",
    "\n",
    "This makes Parsl available to Jupyter Notebooks without any extra effort, since `jupyter` was also installed via Anaconda."
   ]
  },
  {
   "cell_type": "markdown",
   "metadata": {},
   "source": [
    "These notebooks also use Anaconda's Python3"
   ]
  },
  {
   "cell_type": "code",
   "execution_count": 1,
   "metadata": {},
   "outputs": [
    {
     "name": "stdout",
     "output_type": "stream",
     "text": [
      "['', '/home/jgriffith/anaconda3/lib/python36.zip', '/home/jgriffith/anaconda3/lib/python3.6', '/home/jgriffith/anaconda3/lib/python3.6/lib-dynload', '/home/jgriffith/anaconda3/lib/python3.6/site-packages', '/home/jgriffith/anaconda3/lib/python3.6/site-packages/IPython/extensions', '/home/jgriffith/.ipython']\n"
     ]
    }
   ],
   "source": [
    "import sys\n",
    "print(sys.path)"
   ]
  },
  {
   "cell_type": "markdown",
   "metadata": {},
   "source": [
    "### Upgrade"
   ]
  },
  {
   "cell_type": "markdown",
   "metadata": {},
   "source": [
    "To see the version of a package using `pip`, use `pip show`:\n",
    "\n",
    "```\n",
    "$ pip show parsl\n",
    "Name: parsl\n",
    "Version: 0.6.1\n",
    "Summary: Simple data dependent workflows in Python\n",
    "Home-page: https://github.com/Parsl/parsl\n",
    "Author: Yadu Nand Babuji\n",
    "Author-email: yadu@uchicago.edu\n",
    "License: Apache 2.0\n",
    "Location: /home/jgriffith/anaconda3/lib/python3.6/site-packages\n",
    "Requires: ipyparallel, libsubmit, globus-sdk, tblib, psutil, ipykernel, CMRESHandler, nbsphinx, dill, requests\n",
    "\n",
    "```"
   ]
  },
  {
   "cell_type": "markdown",
   "metadata": {},
   "source": [
    "Upgrade through `pip`\n",
    "\n",
    "```\n",
    "$ pip install --upgrade parsl\n",
    "```"
   ]
  },
  {
   "cell_type": "markdown",
   "metadata": {},
   "source": [
    "### Files"
   ]
  },
  {
   "cell_type": "code",
   "execution_count": 2,
   "metadata": {},
   "outputs": [],
   "source": [
    "import parsl\n",
    "from parsl.config import Config\n",
    "from parsl.executors.threads import ThreadPoolExecutor\n",
    "from parsl.app.app import bash_app,python_app\n",
    "from parsl import File"
   ]
  },
  {
   "cell_type": "code",
   "execution_count": 3,
   "metadata": {},
   "outputs": [
    {
     "data": {
      "text/plain": [
       "<parsl.dataflow.dflow.DataFlowKernel at 0x7fabafa4bfd0>"
      ]
     },
     "execution_count": 3,
     "metadata": {},
     "output_type": "execute_result"
    }
   ],
   "source": [
    "config = Config(\n",
    "    executors=[ThreadPoolExecutor()],\n",
    "    lazy_errors=True\n",
    ")\n",
    "parsl.load(config)"
   ]
  },
  {
   "cell_type": "code",
   "execution_count": 4,
   "metadata": {},
   "outputs": [],
   "source": [
    "rawdata = File('https://i2u2-dev.crc.nd.edu/elab/cosmic/data/download?filename=6100.2018.0622.0&elab=cosmic&type=split')"
   ]
  },
  {
   "cell_type": "code",
   "execution_count": 5,
   "metadata": {},
   "outputs": [
    {
     "ename": "FileNotFoundError",
     "evalue": "[Errno 2] No such file or directory: /elab/cosmic/data/download",
     "output_type": "error",
     "traceback": [
      "\u001b[0;31m---------------------------------------------------------------------------\u001b[0m",
      "\u001b[0;31mFileNotFoundError\u001b[0m                         Traceback (most recent call last)",
      "\u001b[0;32m<ipython-input-5-d43f63ee4e0a>\u001b[0m in \u001b[0;36m<module>\u001b[0;34m()\u001b[0m\n\u001b[0;32m----> 1\u001b[0;31m \u001b[0mf\u001b[0m \u001b[0;34m=\u001b[0m \u001b[0mopen\u001b[0m\u001b[0;34m(\u001b[0m\u001b[0mrawdata\u001b[0m\u001b[0;34m,\u001b[0m \u001b[0;34m'r'\u001b[0m\u001b[0;34m)\u001b[0m\u001b[0;34m\u001b[0m\u001b[0m\n\u001b[0m\u001b[1;32m      2\u001b[0m \u001b[0mprint\u001b[0m\u001b[0;34m(\u001b[0m\u001b[0mf\u001b[0m\u001b[0;34m.\u001b[0m\u001b[0mreadline\u001b[0m\u001b[0;34m(\u001b[0m\u001b[0;34m)\u001b[0m\u001b[0;34m)\u001b[0m\u001b[0;34m\u001b[0m\u001b[0m\n",
      "\u001b[0;31mFileNotFoundError\u001b[0m: [Errno 2] No such file or directory: /elab/cosmic/data/download"
     ]
    }
   ],
   "source": [
    "f = open(rawdata, 'r')\n",
    "print(f.readline())"
   ]
  },
  {
   "cell_type": "code",
   "execution_count": null,
   "metadata": {},
   "outputs": [],
   "source": [
    "#@python_app\n",
    "def head(inputs=[], lines=10):\n",
    "    f = open(inputs[0], 'r')\n",
    "    print(f.readline())\n",
    "    #for i in range(lines):\n",
    "    #    print(f.readline())\n",
    "    #datafile.close()\n",
    "    #for i in range(lines):\n",
    "    #    inputs[0].readline()\n",
    "    #    #print(inputs[0].readline())"
   ]
  },
  {
   "cell_type": "code",
   "execution_count": null,
   "metadata": {},
   "outputs": [],
   "source": [
    "head(inputs=[rawdata])"
   ]
  },
  {
   "cell_type": "code",
   "execution_count": null,
   "metadata": {},
   "outputs": [],
   "source": []
  }
 ],
 "metadata": {
  "kernelspec": {
   "display_name": "Python 3",
   "language": "python",
   "name": "python3"
  },
  "language_info": {
   "codemirror_mode": {
    "name": "ipython",
    "version": 3
   },
   "file_extension": ".py",
   "mimetype": "text/x-python",
   "name": "python",
   "nbconvert_exporter": "python",
   "pygments_lexer": "ipython3",
   "version": "3.6.4"
  }
 },
 "nbformat": 4,
 "nbformat_minor": 2
}
